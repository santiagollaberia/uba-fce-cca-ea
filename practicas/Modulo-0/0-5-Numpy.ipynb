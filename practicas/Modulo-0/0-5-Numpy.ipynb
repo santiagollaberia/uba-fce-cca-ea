{
 "cells": [
  {
   "cell_type": "markdown",
   "metadata": {},
   "source": [
    "# **Práctica 0-5**: Numpy\n",
    "\n",
    "----"
   ]
  },
  {
   "cell_type": "markdown",
   "metadata": {},
   "source": [
    "#### Ejercicio 1:\n",
    "\n",
    "Cree un vector nulo (es decir, un vector cuyos elementos sean 0) que posee las siguientes dimensiones:\n",
    "1. (5,)\n",
    "1. (2,3)\n",
    "1. (4,2)"
   ]
  },
  {
   "cell_type": "markdown",
   "metadata": {},
   "source": [
    "#### Ejercicio 2:\n",
    "\n",
    "Cree un vector nulo (es decir, un vector cuyos elementos sean 0) que posea dimensión (10,). Reemplace el valor de la quinta posición por otro valor."
   ]
  },
  {
   "cell_type": "markdown",
   "metadata": {},
   "source": [
    "#### Ejercicio 3:\n",
    "\n",
    "Cree un vector que posea todos los valores enteros desde el 6 hasta el 24, inclusive."
   ]
  },
  {
   "cell_type": "markdown",
   "metadata": {},
   "source": [
    "#### Ejercicio 4:\n",
    "\n",
    "Cree una matriz de 3x3 que posea valores consecutivos del 0 al 8."
   ]
  },
  {
   "cell_type": "markdown",
   "metadata": {},
   "source": [
    "#### Ejercicio 5:\n",
    "\n",
    "Dado los siguientes arrays, devuelva los índices que poseen valores distintos de 0.\n",
    "\n",
    "```python\n",
    "array_1 = np.array([2, 3, 0, 1, 2, 0, 4, 8, 0])\n",
    "\n",
    "array_2 = np.array([2, 3, 0, 1], [2, 0, 4, 8])\n",
    "\n",
    "array_3 = np.array([2, 3], [0, 1], [2, 0])\n",
    "\n",
    "```"
   ]
  },
  {
   "cell_type": "markdown",
   "metadata": {},
   "source": [
    "#### Ejercicio 6:\n",
    "\n",
    "Cree una matriz de 4x4 con valores aleatorios. Cambie sus dimensiones para que posea dos filas."
   ]
  },
  {
   "cell_type": "markdown",
   "metadata": {},
   "source": [
    "#### Ejercicio 7:\n",
    "\n",
    "Cree una matriz de valores aleatorios y calcule su media (global, por columna y por fila)."
   ]
  },
  {
   "cell_type": "markdown",
   "metadata": {},
   "source": [
    "#### Ejercicio 8:\n",
    "\n",
    "Cree una matriz diagonal cuyos valores sean [5, 8, 2, 4, 6], los demás valores son ceros. Luego, realice las operaciones necesarias para que los valores de la diagonal queden invertidos: la posición (0, 0) debe pasar a la posición (4, 0), y así sucesivamente."
   ]
  },
  {
   "cell_type": "markdown",
   "metadata": {},
   "source": [
    "#### Ejercicio 9:\n",
    "\n",
    "Dada una matriz, normalizar y/o estandarizar sus valores.\n",
    "\n",
    "```python\n",
    "\n",
    "[[3, 5, 34, 56, 12]\n",
    "[45, 66, 7, 12, 33]\n",
    "[34, 16, 27, 4, 9]]\n",
    "\n",
    "```\n",
    "\n",
    "*Hint*:\n",
    "* **estandarizar**: $(X - X_{mean}) / X_{std}$\n",
    "* **normalizar**: $(X - X_{min}) / (X_{max} - X_{min})$"
   ]
  },
  {
   "cell_type": "markdown",
   "metadata": {},
   "source": [
    "#### Ejercicio 10:\n",
    "\n",
    "1. Cree dos matrices aleatorias de tamaño 3x3 y realice la operación de adición entre ellas.\n",
    "1. Genere una matriz aleatoria de tamaño 4x4 y reste un valor escalar (por ejemplo, 5) a cada elemento de la matriz.\n",
    "1. Cree una matriz aleatoria de tamaño 2x3 y multiplique cada elemento por su correspondiente elemento en una matriz generada aleatoriamente del mismo tamaño."
   ]
  },
  {
   "cell_type": "markdown",
   "metadata": {},
   "source": [
    "#### Ejercicio 11:\n",
    "\n",
    "1. Genere dos matrices aleatorias A y B de tamaño 4x3 y 3x5 respectivamente. Realice la multiplicación de matrices entre A y B.\n",
    "1. Cree una matriz cuadrada aleatoria de tamaño 3x3 y calcule su inversa. Asegurar el manejo de casos donde la matriz no es invertible.\n",
    "1. Genere una matriz cuadrada aleatoria de tamaño 5x5 y calcule su determinante utilizando NumPy."
   ]
  },
  {
   "cell_type": "markdown",
   "metadata": {},
   "source": [
    "#### Ejercicio 12:\n",
    "\n",
    "1. Cree una matriz aleatoria de tamaño 4x4 y acceda al elemento en la primera fila y segunda columna.\n",
    "1. Genere una matriz aleatoria de tamaño 3x3 y extraiga la primera fila de la matriz.\n",
    "1. Cree una matriz aleatoria de tamaño 5x5 y seleccione solo los elementos mayores que 0."
   ]
  },
  {
   "cell_type": "markdown",
   "metadata": {},
   "source": [
    "#### Ejercicio 13:\n",
    "\n",
    "1. Genere una matriz aleatoria de tamaño 6x6 y seleccione los elementos en las diagonales superior e inferior.\n",
    "1. Cree una matriz aleatoria de tamaño 4x4 y extraiga una submatriz formada por las filas y columnas pares.\n",
    "1. Genere una matriz aleatoria de tamaño 7x7 y seleccione un conjunto aleatorio de elementos de la matriz."
   ]
  },
  {
   "cell_type": "markdown",
   "metadata": {},
   "source": [
    "#### Ejercicio 14:\n",
    "\n",
    "Dada una matriz y un escalar, determine cual es el valor presente en la matriz que es más cercano al valor del escalar, donde 'más cercano' refiere a aquel valor cuya distancia en valor absoluto es la menor.\n",
    "\n",
    "```python\n",
    "matriz=[5, 7, 3, 9], k=4\n",
    "matriz=[7, 9, 12, 3], k=5\n",
    "matriz=[2, -5, 5, 8], k=-3\n",
    "matriz=[[2, -5], [3, 8]], k=0\n",
    "```"
   ]
  },
  {
   "cell_type": "markdown",
   "metadata": {},
   "source": [
    "#### Ejercicio 15:\n",
    "\n",
    "Cree una matriz de valores al azar y realice las siguiente consignas:\n",
    "\n",
    "1. Reemplace todos los elementos mayores a 10 por 100\n",
    "1. Reemplace todos los elementos menores a 2 por -100\n",
    "1. Devuelva los índices de los elementos que no son 100 ni -100"
   ]
  },
  {
   "cell_type": "markdown",
   "metadata": {},
   "source": [
    "#### Ejercicio 16:\n",
    "\n",
    "Dado el siguiente array  (`arr = np.arange(20)`) devolver:\n",
    "1. todos los valores entre las posiciones 4 y 15\n",
    "1. los elementos desde el índice 0, salteando un elemento entre cada uno\n",
    "1. el reverso del array\n",
    "1. el reverso del array, pero solo los primeros 4 valores de aquel"
   ]
  }
 ],
 "metadata": {
  "kernelspec": {
   "display_name": "base",
   "language": "python",
   "name": "python3"
  },
  "language_info": {
   "codemirror_mode": {
    "name": "ipython",
    "version": 3
   },
   "file_extension": ".py",
   "mimetype": "text/x-python",
   "name": "python",
   "nbconvert_exporter": "python",
   "pygments_lexer": "ipython3",
   "version": "3.8.16"
  }
 },
 "nbformat": 4,
 "nbformat_minor": 2
}
