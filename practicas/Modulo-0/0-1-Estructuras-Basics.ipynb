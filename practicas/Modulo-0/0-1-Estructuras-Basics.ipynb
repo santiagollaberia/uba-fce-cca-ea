{
 "cells": [
  {
   "cell_type": "markdown",
   "metadata": {},
   "source": [
    "# **Práctica 0-1**: Estructuras básicas"
   ]
  },
  {
   "cell_type": "markdown",
   "metadata": {},
   "source": [
    "## Listas"
   ]
  },
  {
   "cell_type": "markdown",
   "metadata": {},
   "source": [
    "#### Ejercicio 1:\n",
    "1. Cree una ```list``` llamada ```numeros``` que contenga enteros del 1 al 5.\n",
    "1. Imprima el primer y último elemento de la lista.\n",
    "1. Agregue el número 6 a la lista.\n",
    "1. Imprima la longitud de la lista.\n",
    "1. Cree una nueva lista llamada ```subconjunto``` mediante el uso de **slicing** de la lista para incluir elementos desde el índice 2 hasta el final.\n",
    "1. Cree una segunda lista llamada ```mas_numeros``` que contenga enteros del 7 al 10. Concatene las listas ```numeros``` y ```mas_numeros``` en una nueva lista llamada ```numeros_combinados```.\n",
    "1. Reemplace el tercer elemento de la lista ```numeros``` con el número 20."
   ]
  },
  {
   "cell_type": "markdown",
   "metadata": {},
   "source": [
    "#### Ejercicio 2:\n",
    "1. Cree una ```list``` llamada ```numeros``` que contenga enteros del 1 al 10.\n",
    "1. Elimine el segundo elemento de la lista.\n",
    "1. Verifique si el número 8 está presente en la lista.\n",
    "1. Inserte el número 10 en la posición 2 de la lista.\n",
    "1. Ordene la lista en orden ascendente y almacénela en una nueva lista llamada ```numeros_ordenados```.\n",
    "1. Divida la lista ```numeros``` en dos partes, de modo que la primera mitad se almacene en una lista llamada ```primera_mitad``` y la segunda mitad en una lista llamada ```segunda_mitad```.\n",
    "1. Concatenar las listas ```primera_mitad``` y ```segunda_mitad``` en una nueva lista llamada ```numeros_concatenados```."
   ]
  },
  {
   "cell_type": "markdown",
   "metadata": {},
   "source": [
    "## Tuples"
   ]
  },
  {
   "cell_type": "markdown",
   "metadata": {},
   "source": [
    "#### Ejercicio 3:\n",
    "1. Cree una ```tuple``` llamada ```frutas``` que contenga los elementos \"manzana\", \"banana\" y \"naranja\".\n",
    "1. Imprima el segundo elemento de la ```tuple```.\n",
    "1. Imprima la longitud de la ```tupla```.\n",
    "1. Cree una segunda ```tuple``` llamada ```verduras``` que contenga los elementos \"zanahoria\" y \"lechuga\". Concatene las tuplas en una nueva tupla llamada ```alimentos```.\n",
    "1. Imprima el último elemento de la tupla alimentos utilizando un índice negativo.\n",
    "1. Intente cambiar el primer elemento de la ```tuple``` ```frutas``` por \"pera\" y observe el error resultante.\n",
    "1. Imprima los primeros tres elementos de la tupla alimentos utilizando slicing.\n",
    "1. Compare las tuplas frutas y verduras utilizando el operador de comparación adecuado e imprima el resultado."
   ]
  },
  {
   "cell_type": "markdown",
   "metadata": {},
   "source": [
    "#### Ejercicio 4:\n",
    "1. Convierta la lista ['perro', 'gato', 'pájaro'] en una tupla llamada animales.\n",
    "1. Verifique si \"perro\" está presente en la tupla animales.\n",
    "1. Imprima el primer y último elemento.\n",
    "1. Imprima la longitud."
   ]
  },
  {
   "cell_type": "markdown",
   "metadata": {},
   "source": [
    "## Sets"
   ]
  },
  {
   "cell_type": "markdown",
   "metadata": {},
   "source": [
    "#### Ejercicio 5:\n",
    "1. Cree un ```set``` llamado frutas que contenga los elementos \"manzana\", \"banana\" y \"naranja\".\n",
    "1. Cree otro ```set``` llamado verduras que contenga los elementos \"zanahoria\" y \"lechuga\".\n",
    "1. Verifique si \"manzana\" está presente en el ```set``` frutas e imprima el resultado.\n",
    "1. Verifique si \"uva\" está presente en el ```set``` frutas e imprima el resultado.\n",
    "1. Encuentre la intersección de los ```set``` frutas y verduras e imprima el resultado.\n",
    "1. Cree un nuevo ```set``` llamado nuevas_frutas que contenga los elementos \"naranja\", \"uva\" y \"piña\".\n",
    "1. Encuentre la unión de los ```set``` frutas y nuevas_frutas e imprima el resultado.\n",
    "1. Encuentre los elementos que son únicos en el ```set``` frutas en comparación con el ```set``` nuevas_frutas e imprima el resultado."
   ]
  },
  {
   "cell_type": "markdown",
   "metadata": {},
   "source": [
    "#### Ejercicio 6:\n",
    "1. Cree un ```set``` llamado ```numeros_a``` que contenga los elementos 1, 2, 3, 4, 5, 6 y 7.\n",
    "1. Cree otro ```set``` llamado ```numeros_b``` que contenga los elementos 2, 4, 6 y 8.\n",
    "1. Verifique si el número 3 está presente en el ```set``` ```numeros_a```.\n",
    "1. Verifique si el número 10 está presente en el ```set``` ```numeros_a```.\n",
    "1. Encuentre la intersección de los ```set``` ```numeros_a``` y ```numeros_b``` e imprima el resultado.\n",
    "1. Cree un nuevo set llamado ```numeros_c``` que contenga los elementos 3, 5, 7 y 9.\n",
    "1. Encuentre la unión de los set ```numeros_a``` y ```numeros_c``` e imprima el resultado."
   ]
  },
  {
   "cell_type": "markdown",
   "metadata": {},
   "source": [
    "## Dictionaries"
   ]
  },
  {
   "cell_type": "markdown",
   "metadata": {},
   "source": [
    "#### Ejercicio 7:\n",
    "1. Cree un diccionario llamado puntajes_estudiantes con los siguientes pares key-value: \"Alice\" y su puntaje 85, \"Bob\" y su puntaje 90, \"Charlie\" y su puntaje 80.\n",
    "1. Imprima el puntaje de \"Bob\" desde el diccionario puntajes_estudiantes.\n",
    "1. Verifique si \"David\" está presente como key en el diccionario puntajes_estudiantes e imprima el resultado.\n",
    "1. Agregue un nuevo elemento al diccionario puntajes_estudiantes para \"David\" con un puntaje de 95.\n",
    "1. Elimine \"Charlie\" del diccionario puntajes_estudiantes.\n",
    "1. Imprima todas las keys en el diccionario puntajes_estudiantes.\n",
    "1. Imprima todos los values en el diccionario puntajes_estudiantes.\n",
    "1. Imprima todos los pares key-value en el diccionario puntajes_estudiantes."
   ]
  },
  {
   "cell_type": "markdown",
   "metadata": {},
   "source": [
    "#### Ejercicio 8:\n",
    "Utilice los siguientes diccionarios para comppletar las consignas:\n",
    "```python\n",
    "d1 = {'Nombre': 'Juan', 'Edad': 25}\n",
    "d2 = {'Ciudad': 'CABA', 'Carrera': 'Actuario', 'Promedio': 7.5}\n",
    "```\n",
    "1. Una ambos diccionarios\n",
    "1. Genere un nuevo diccionario con las keys **Nombre** (```d1```) y **Promedio** (```d2```)\n",
    "1. Agregue un nuevo key-value al diccionario d1 para el 'Género'\n",
    "1. Combine los diccionarios d1 y d2 en uno solo y almacenarlo en una lista\n",
    "1. Obtenga la cantidad de elementos en cada diccionario."
   ]
  }
 ],
 "metadata": {
  "language_info": {
   "name": "python"
  }
 },
 "nbformat": 4,
 "nbformat_minor": 2
}
