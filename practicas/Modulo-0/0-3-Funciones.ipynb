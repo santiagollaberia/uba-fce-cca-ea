{
 "cells": [
  {
   "cell_type": "markdown",
   "metadata": {},
   "source": [
    "# **Práctica 0-3**: Funciones\n",
    "\n",
    "----"
   ]
  },
  {
   "cell_type": "markdown",
   "metadata": {},
   "source": [
    "#### Ejercicio 1:\n",
    "\n",
    "Cree una función que, tomando como argumentos el nombre de la persona y el nombre de la materia, imprima un saludo de bienvenida."
   ]
  },
  {
   "cell_type": "markdown",
   "metadata": {},
   "source": [
    "#### Ejercicio 2:\n",
    "\n",
    "Genere una función tal que dados dos números y una de las siguientes operaciones matemáticas (`suma, resta, multiplicacion, division`), devuelva dicha operación computada con las números provistos."
   ]
  },
  {
   "cell_type": "markdown",
   "metadata": {},
   "source": [
    "#### Ejercicio 3:\n",
    "\n",
    "Genere una función tal que dado un número entero devuelva el factorial del mismo. En caso que el valor del argumento sea un número NO entero o negativo, arrojar un mensaje de error."
   ]
  },
  {
   "cell_type": "markdown",
   "metadata": {},
   "source": [
    "#### Ejercicio 4:\n",
    "\n",
    "Genere una función que devuelva los valores de la secuencia de Fibonacci hasta el número *n*."
   ]
  },
  {
   "cell_type": "markdown",
   "metadata": {},
   "source": [
    "#### Ejercicio 5:\n",
    "\n",
    "Genere una función que tome como *input* una lista de valores y un número entero. Esta función debe analizar si dicho valor se encuentra en la lista. Si el valor se encuentra presente, verificar si está repetido y devolver la cantidad de apariciones del mismo."
   ]
  },
  {
   "cell_type": "markdown",
   "metadata": {},
   "source": [
    "#### Ejercicio 6:\n",
    "\n",
    "Genere una función que realice los siguientes pasos:\n",
    "1. tomar como *input* dos listas y un escalar (`k`)\n",
    "1. verificar que las listas posean la misma cantidad de elementos. Verificar que el escalar sea un valor entero\n",
    "1. generar una lista anidada donde cada elemento de la nueva lista sea de la siguiente forma: \n",
    "    ```python\n",
    "    [[lista1[0], lista2[0]],\n",
    "     ...,\n",
    "     ...,\n",
    "    [lista1[n], lista2[n]]]\n",
    "    ```\n",
    "1. para cada par de elementos de la nueva lista realizar la siguiente operación: `(1/k) * (lista1[i] + lista2[i])**k`\n",
    "1. *appendear* todos los valores en una nueva lista"
   ]
  },
  {
   "cell_type": "markdown",
   "metadata": {},
   "source": [
    "#### Ejercicio 7:\n",
    "\n",
    "Dado el siguiente `dict` con datos del curso, genere una función (para cada una de las consignas) que realice las operaciones que se presentan a continuación:\n",
    "\n",
    "```python\n",
    "curso = { \n",
    "        'registro': [895852, 917290, 920908, 903830, 907021, 909746, 901249, 902913,\n",
    "                     920777, 891560, 897716, 907469, 924439, 917625, 921137]\n",
    "        'nota_1p': [7, 6, 9, 4, 2, 2, 5, 9, 10, 7, 8, 6, 2, 4, 9],\n",
    "        'nota_2p': [10, 2, 5, 10, 2, 10, 6, 9, 4, 6, 6, 2, 6, 5, 8]\n",
    "        }\n",
    "```\n",
    "1. determinar la cantidad de estudiantes que aprobaron el primer parcial\n",
    "1. determinar la cantidad de estudiantes que aprobaron el segundo parcial\n",
    "1. determinar la cantidad de estudiantes que aprobaron ambos parciales\n",
    "1. obtener los registros de los estudiantes que deben rendir alguno de los recuperatorios\n",
    "1. obtener los registros de los estudiantes que no aprobaron ningún parcial\n",
    "1. obtener el registro con mayor promedio (además, indicar sus notas y su promedio)"
   ]
  },
  {
   "cell_type": "markdown",
   "metadata": {},
   "source": [
    "#### Ejercicio 8:\n",
    "\n",
    "Genere una función que tome dos argumentos: una lista de números y un número entero, y que devuelva una nueva lista que contenga solo los números de la lista original que son mayores que el número entero dado."
   ]
  },
  {
   "cell_type": "markdown",
   "metadata": {},
   "source": [
    "#### Ejercicio 9:\n",
    "\n",
    "Genere una función que dado un `string` ( o frase):\n",
    "1. devuelva la cantidad total de caracteres\n",
    "1. devuelva la cantidad de vocales y de consonantes\n",
    "1. detecte si existen espacios en blanco"
   ]
  }
 ],
 "metadata": {
  "kernelspec": {
   "display_name": "base",
   "language": "python",
   "name": "python3"
  },
  "language_info": {
   "codemirror_mode": {
    "name": "ipython",
    "version": 3
   },
   "file_extension": ".py",
   "mimetype": "text/x-python",
   "name": "python",
   "nbconvert_exporter": "python",
   "pygments_lexer": "ipython3",
   "version": "3.8.16"
  }
 },
 "nbformat": 4,
 "nbformat_minor": 2
}
