{
 "cells": [
  {
   "cell_type": "markdown",
   "metadata": {},
   "source": [
    "# **Práctica 0-0**: Introducción a Python"
   ]
  },
  {
   "cell_type": "markdown",
   "metadata": {},
   "source": [
    "#### Ejercicio 1: \n",
    "Genere al menos 4 variables que resuman su información básica y haga un print de las mismas. Pruebe hacerlo de forma separada (un print por línea) y luego, pruebe hacer el print concatenando todas las variables en el mismo print statement."
   ]
  },
  {
   "cell_type": "markdown",
   "metadata": {},
   "source": [
    "#### Ejercicio 2:\n",
    "Cree al menos 3 variables y realice un print statement utilizando a) '+' y b) ','; compare los resultados. ¿Qué diferencias hay entre ambos casos?"
   ]
  },
  {
   "cell_type": "markdown",
   "metadata": {},
   "source": [
    "#### Ejercicio 3:\n",
    "\n",
    "Genere las siguientes variables y analice a qué tipo de dato/class pertenecen:\n",
    "\n",
    "```python\n",
    "a = 123\n",
    "b = 'hola'\n",
    "c = [1, 2, 3, 4]\n",
    "d = (10, 20, 30)\n",
    "e = 'Hola! Todo bien?'\n",
    "f = {'a' : 456, 'b': 'abc'}\n",
    "g = '123'\n",
    "```\n",
    "¿Qué diferencia hay entre la variable 'a' y la 'g'?"
   ]
  },
  {
   "cell_type": "markdown",
   "metadata": {},
   "source": [
    "#### Ejercicio 4:\n",
    "Dadas las siguientes variables, realice las operaciones que se piden a continuación. ¿Qué tipo de datos se obtienen en el resultado? ¿Alguna de las operaciones arroja un error?\n",
    "\n",
    "```python\n",
    "a = 5\n",
    "b = 10\n",
    "c = [1, 2, 3, 4]\n",
    "d = 'asd'\n",
    "e = [10]\n",
    "f = 'qwerty'\n",
    "\n",
    "## Operaciones ##\n",
    "a + b   a + c\n",
    "a * c   a + d\n",
    "c + d   c + e\n",
    "c * e   a * d\n",
    "d + f   a * a\n",
    "```\n"
   ]
  },
  {
   "cell_type": "markdown",
   "metadata": {},
   "source": [
    "#### Ejercicio 5:\n",
    "Dadas las siguientes variables, realice los cálculos que se presentan a continuación:\n",
    "```python\n",
    "a = 5\n",
    "b = 10\n",
    "c = 2\n",
    "```\n",
    "1. La suma de los 3 elementos\n",
    "1. El producto de los dos mayores, dividido por el cuadrado del menor\n",
    "1. El promedio de los valores\n",
    "1. La varianza de los valores\n",
    "1. La suma producto de todas las combinaciones posibles\n"
   ]
  },
  {
   "cell_type": "markdown",
   "metadata": {},
   "source": [
    "#### Ejercicio 6:\n",
    "Dada la siguiente tasa de interés $i_{3}=0.05$, calcular:\n",
    "1. La tasa de interés efectiva anual\n",
    "1. La tasa de interés efectiva semestral y mensual\n",
    "1. La tasa de interés nominal anual con capitalización bimestral\n",
    "1. La tasa de descuento efectivo anual\n",
    "1. El factor de actualización mensual, trimestral y anual"
   ]
  },
  {
   "cell_type": "markdown",
   "metadata": {},
   "source": [
    "#### Ejercicio 7:\n",
    "Dadas la siguientes probalidades $p(x,1)=0.95$, $p(y,1)=0.92$ y $p(z,1)=0.99$, donde $p(x,1)$ es la probabilidad de que (x) sobreviva 1 año y $q(x,0,1)=1-0.95$ es la probabilidad de que (x) fallezca en ese año - las probabilidades son contantes para todos los años - calcular:\n",
    "1. La probabilidad de que x e y sobrevivan un año\n",
    "1. La probabilidad de que los 3 sobrevivan un año\n",
    "1. La probabilidad de que los z sobreviva tres años y fallezca en el cuarto año\n",
    "1. La probabilidad de que al menos dos de los tres sobrevivan un año \n",
    "1. La probabilidad de que nadie sobreviva al primer año"
   ]
  },
  {
   "cell_type": "markdown",
   "metadata": {},
   "source": [
    "#### Ejercicio 8:\n",
    "Genere distintos tipos de datos y analice las diferencias y similitudes entre ellos. ¿En qué situaciones le resultaría más conveniente usar cada uno?"
   ]
  }
 ],
 "metadata": {
  "language_info": {
   "name": "python"
  }
 },
 "nbformat": 4,
 "nbformat_minor": 2
}
