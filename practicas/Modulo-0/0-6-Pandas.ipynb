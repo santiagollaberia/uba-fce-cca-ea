{
 "cells": [
  {
   "cell_type": "markdown",
   "metadata": {},
   "source": [
    "# **Práctica 0-6**: Pandas\n",
    "\n",
    "----"
   ]
  },
  {
   "cell_type": "markdown",
   "metadata": {},
   "source": [
    "## **Series**"
   ]
  },
  {
   "cell_type": "markdown",
   "metadata": {},
   "source": [
    "#### Ejercicio 1:\n",
    "\n",
    "Cree una `pd.Series` a partir de las siguientes formas:\n",
    "1. una `list`\n",
    "1. un `dict`\n",
    "1. un `np.ndarray`"
   ]
  },
  {
   "cell_type": "markdown",
   "metadata": {},
   "source": [
    "#### Ejercicio 2:\n",
    "\n",
    "Dadas las siguientes estructuras de datos, cree una `pd.Series`, para cada una, y determine:\n",
    "* cantidad de elementos\n",
    "* si posee valores nulos y su cantidad\n",
    "* el tipo de datos que posee\n",
    "* la cantidad de elementos distintos y cuantas veces se encuentra presente cada uno\n",
    "\n",
    "1. `[2, 3, 2, None, 9, 3, 1, 0 , 0, None, 6, 10]`\n",
    "1. `{24, 55, 23, 11, 55, 67, 87, 21}`\n",
    "1. `['rojo', 'amarillo', 'azul', 'rojo', None,  'rojo', 'azul', 'azul', 'amarillo', None, 'amarillo', 'amarillo', None]`"
   ]
  },
  {
   "cell_type": "markdown",
   "metadata": {},
   "source": [
    "#### Ejercicio 3:\n",
    "\n",
    "Utilizando las dos `pd.Series` dadas, donde A representa la serie_1 y B representa la serie_2, calcular:\n",
    "1. $A + B$\n",
    "1. $A - B$\n",
    "1. $(A + B) / (A + 2)$\n",
    "1. $Promedio(A + B) + 1.60 * Desvío(A + B)$\n",
    "1. $A^2 + 2 * A * B + B^2$\n",
    "\n",
    "```python\n",
    "##### Función Auxiliar para generar data #####\n",
    "import numpy as np\n",
    "\n",
    "rng = np.random.default_rng(9999)\n",
    "\n",
    "data_1 = rng.normal(4, 0.5, size=100)\n",
    "data_2 = rng.uniform(0, 50, size=100).astype(int)\n",
    "\n",
    "serie_1 = pd.Series(data_1)\n",
    "serie_2 = pd.Series(data_2)\n",
    "```"
   ]
  },
  {
   "cell_type": "markdown",
   "metadata": {},
   "source": [
    "#### Ejercicio 4:\n",
    "\n",
    "Dada la siguiente `pd.Series` calcule:\n",
    "\n",
    "1. media, mediana y modo\n",
    "1. desvío estándar y varianza\n",
    "1. mínimo y máximo\n",
    "1. percentiles: 10, 25, 50, 75 y 90.\n",
    "\n",
    "```python\n",
    "serie_1 = pd.Series([25, 41, 58, 36, 54, 78, 14, 59, 14, 20, 25, 44, 36, 20, 5, 98, 41, 36, 65, 69, 4, 0, 1, 18, 9, 36, 54, 17, 68, 58, 94, 97, 12])\n",
    "```"
   ]
  },
  {
   "cell_type": "markdown",
   "metadata": {},
   "source": [
    "#### Ejercicio 5:\n",
    "\n",
    "1. Cree una pd.Series con números del 1 al 10 y acceda a los primeros 3 elementos.\n",
    "1. Cree una pd.Series con letras del alfabeto y acceda a los elementos desde el índice 'b' hasta el índice 'e'.\n",
    "1. Genere una pd.Series con números del 1 al 5 y acceda a los elementos en las posiciones 1, 3 y 5.\n",
    "1. Cree una pd.Series con números aleatorios y seleccione solo los elementos mayores que 5.\n",
    "1. Cree una pd.Series con números aleatorios y seleccione solo los elementos entre el 2 y el 10.\n",
    "1. Genere una pd.Series con números del 1 al 30 y seleccione los elementos en las posiciones pares."
   ]
  },
  {
   "cell_type": "markdown",
   "metadata": {},
   "source": [
    "#### Ejercicio 6:\n",
    "\n",
    "1. Cree una pd.Series con números aleatorios y luego aplique la función de NumPy np.sqrt() para calcular la raíz cuadrada de cada elemento de la Serie.\n",
    "1. Cree una pd.Series con números aleatorios y luego conviértala en un array.\n",
    "1. Cree una pd.Series con números aleatorios y utilice la función `np.where` para determinar los índices de los elementos cuyo valor es mayor a 12.\n",
    "1. Cree una pd.Series con números aleatorios y utilice la función `np.where` para determinar los índices de los elementos cuyo valor es mayor a 6 y menor a 12.\n",
    "1. Cree una pd.Series con números aleatorios y utilice la función `np.where` para reemplazar los valores mayores a 25 por el valor -1."
   ]
  },
  {
   "cell_type": "markdown",
   "metadata": {},
   "source": [
    "#### Ejercicio 7:\n",
    "\n",
    "Utilizando la `pd.Series` dada, determinar si posee datos faltantes y en dicho caso imputarlos de las siguientes maneras:\n",
    "1. un escalar K\n",
    "1. el promedio de la serie\n",
    "1. el promedio más el 50% del desvío estándar\n",
    "\n",
    "```python\n",
    "##### Función Auxiliar para generar data #####\n",
    "import numpy as np\n",
    "\n",
    "rng = np.random.default_rng(9999)\n",
    "\n",
    "data = rng.choice(a=[np.nan,0, 10, 20, 30, 40, 50], p=[1/7]*7, size=100)\n",
    "\n",
    "serie = pd.Series(data).astype('Int32')\n",
    "```"
   ]
  },
  {
   "cell_type": "markdown",
   "metadata": {},
   "source": [
    "---\n",
    "## **DataFrame**"
   ]
  },
  {
   "cell_type": "markdown",
   "metadata": {},
   "source": [
    "**TO DO**"
   ]
  },
  {
   "cell_type": "markdown",
   "metadata": {},
   "source": []
  }
 ],
 "metadata": {
  "language_info": {
   "name": "python"
  }
 },
 "nbformat": 4,
 "nbformat_minor": 2
}
