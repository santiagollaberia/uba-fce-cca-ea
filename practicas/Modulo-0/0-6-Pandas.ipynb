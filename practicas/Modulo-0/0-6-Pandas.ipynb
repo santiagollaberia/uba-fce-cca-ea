{
 "cells": [
  {
   "cell_type": "markdown",
   "metadata": {},
   "source": [
    "# **Práctica 0-6**: Pandas\n",
    "\n",
    "----"
   ]
  },
  {
   "cell_type": "markdown",
   "metadata": {},
   "source": [
    "## **Series**"
   ]
  },
  {
   "cell_type": "markdown",
   "metadata": {},
   "source": [
    "#### Ejercicio 1:\n",
    "\n",
    "Cree una `pd.Series` a partir de las siguientes formas:\n",
    "1. una `list`\n",
    "1. un `dict`\n",
    "1. un `np.ndarray`"
   ]
  },
  {
   "cell_type": "markdown",
   "metadata": {},
   "source": [
    "#### Ejercicio 2:\n",
    "\n",
    "Dadas las siguientes estructuras de datos, cree una `pd.Series`, para cada una, y determine:\n",
    "* cantidad de elementos\n",
    "* si posee valores nulos y su cantidad\n",
    "* el tipo de datos que posee\n",
    "* la cantidad de elementos distintos y cuantas veces se encuentra presente cada uno\n",
    "\n",
    "1. `[2, 3, 2, None, 9, 3, 1, 0 , 0, None, 6, 10]`\n",
    "1. `{24, 55, 23, 11, 55, 67, 87, 21}`\n",
    "1. `['rojo', 'amarillo', 'azul', 'rojo', None,  'rojo', 'azul', 'azul', 'amarillo', None, 'amarillo', 'amarillo', None]`"
   ]
  },
  {
   "cell_type": "markdown",
   "metadata": {},
   "source": [
    "#### Ejercicio 3:\n",
    "\n",
    "Utilizando las dos `pd.Series` dadas, donde A representa la serie_1 y B representa la serie_2, calcular:\n",
    "1. $A + B$\n",
    "1. $A - B$\n",
    "1. $(A + B) / (A + 2)$\n",
    "1. $Promedio(A + B) + 1.60 * Desvío(A + B)$\n",
    "1. $A^2 + 2 * A * B + B^2$\n",
    "\n",
    "```python\n",
    "##### Función Auxiliar para generar data #####\n",
    "import numpy as np\n",
    "\n",
    "rng = np.random.default_rng(9999)\n",
    "\n",
    "data_1 = rng.normal(4, 0.5, size=100)\n",
    "data_2 = rng.uniform(0, 50, size=100).astype(int)\n",
    "\n",
    "serie_1 = pd.Series(data_1)\n",
    "serie_2 = pd.Series(data_2)\n",
    "```"
   ]
  },
  {
   "cell_type": "markdown",
   "metadata": {},
   "source": [
    "#### Ejercicio 4:\n",
    "\n",
    "Dada la siguiente `pd.Series` calcule:\n",
    "\n",
    "1. media, mediana y modo\n",
    "1. desvío estándar y varianza\n",
    "1. mínimo y máximo\n",
    "1. percentiles: 10, 25, 50, 75 y 90.\n",
    "\n",
    "```python\n",
    "serie_1 = pd.Series([25, 41, 58, 36, 54, 78, 14, 59, 14, 20, 25, 44, 36, 20, 5, 98, 41, 36, 65, 69, 4, 0, 1, 18, 9, 36, 54, 17, 68, 58, 94, 97, 12])\n",
    "```"
   ]
  },
  {
   "cell_type": "markdown",
   "metadata": {},
   "source": [
    "#### Ejercicio 5:\n",
    "\n",
    "1. Cree una pd.Series con números del 1 al 10 y acceda a los primeros 3 elementos.\n",
    "1. Cree una pd.Series con letras del alfabeto y acceda a los elementos desde el índice 'b' hasta el índice 'e'.\n",
    "1. Genere una pd.Series con números del 1 al 5 y acceda a los elementos en las posiciones 1, 3 y 5.\n",
    "1. Cree una pd.Series con números aleatorios y seleccione solo los elementos mayores que 5.\n",
    "1. Cree una pd.Series con números aleatorios y seleccione solo los elementos entre el 2 y el 10.\n",
    "1. Genere una pd.Series con números del 1 al 30 y seleccione los elementos en las posiciones pares."
   ]
  },
  {
   "cell_type": "markdown",
   "metadata": {},
   "source": [
    "#### Ejercicio 6:\n",
    "\n",
    "1. Cree una pd.Series con números aleatorios y luego aplique la función de NumPy np.sqrt() para calcular la raíz cuadrada de cada elemento de la Serie.\n",
    "1. Cree una pd.Series con números aleatorios y luego conviértala en un array.\n",
    "1. Cree una pd.Series con números aleatorios y utilice la función `np.where` para determinar los índices de los elementos cuyo valor es mayor a 12.\n",
    "1. Cree una pd.Series con números aleatorios y utilice la función `np.where` para determinar los índices de los elementos cuyo valor es mayor a 6 y menor a 12.\n",
    "1. Cree una pd.Series con números aleatorios y utilice la función `np.where` para reemplazar los valores mayores a 25 por el valor -1."
   ]
  },
  {
   "cell_type": "markdown",
   "metadata": {},
   "source": [
    "#### Ejercicio 7:\n",
    "\n",
    "Utilizando la `pd.Series` dada, determinar si posee datos faltantes y en dicho caso imputarlos de las siguientes maneras:\n",
    "1. un escalar K\n",
    "1. el promedio de la serie\n",
    "1. el promedio más el 50% del desvío estándar\n",
    "\n",
    "```python\n",
    "##### Función Auxiliar para generar data #####\n",
    "import numpy as np\n",
    "\n",
    "rng = np.random.default_rng(9999)\n",
    "\n",
    "data = rng.choice(a=[np.nan,0, 10, 20, 30, 40, 50], p=[1/7]*7, size=100)\n",
    "\n",
    "serie = pd.Series(data).astype('Int32')\n",
    "```"
   ]
  },
  {
   "cell_type": "markdown",
   "metadata": {},
   "source": [
    "---\n",
    "## **DataFrame**"
   ]
  },
  {
   "cell_type": "markdown",
   "metadata": {},
   "source": [
    "#### Ejercicio 1:\n",
    "\n",
    "Dadas las siguientes `list` cree un `pd.DataFrame` de las siguientes maneras:\n",
    "* utilizando las listas\n",
    "* utilizando las lista como `pd.Series`\n",
    "* utilizando las listas para crear un `dict`"
   ]
  },
  {
   "cell_type": "markdown",
   "metadata": {},
   "source": [
    "#### Ejercicio 2:\n",
    "\n",
    "Dado el siguiente `pd.DataFrame`, realice todos los análisis de estructura que considere razonables (por ejemplo, dimensiones, nombres de las columnas, valores nulos, etc.)\n",
    "````python\n",
    "##### Función Auxiliar para generar data #####\n",
    "import pandas as pd\n",
    "import numpy as np\n",
    "\n",
    "array_int = np.random.choice(a=[10, 20, 30, 40, 50], size=(40, 6))\n",
    "df_int = pd.DataFrame(array_int, columns=[f'columna {i}' for i in range(array_int.shape[1])], dtype=int)\n",
    "\n",
    "array_float = np.random.random(size=(50, 5))\n",
    "df_float = pd.DataFrame(array_float, columns=[f'columna {i}' for i in range(array_float.shape[1])],dtype=float)\n",
    "\n",
    "array_str = np.random.choice(a= ['a', 'b', 'c'], size=(35, 6))\n",
    "df_str = pd.DataFrame(array_str, columns=[f'columna {i}' for i in range(array_str.shape[1])], dtype=str)\n",
    "\n",
    "df = pd.concat([df_int, df_float, df_str], axis=1)\n",
    "df.columns = [f'columna_{i}' for i in range(df.shape[1])]\n",
    "```"
   ]
  },
  {
   "cell_type": "markdown",
   "metadata": {},
   "source": [
    "#### Ejercicio 3:\n",
    "\n",
    "1. Cree un pd.DataFrame con algunas columnas de números aleatorios (al menos 2 columnas).\n",
    "1. Realice una operación de suma entre dos columnas del pd.DataFrame y muestre el resultado.\n",
    "1. Multiplique todos los elementos de una columna por un escalar dado.\n",
    "1. Aplique la función np.sqrt() de NumPy a cada elemento de una columnma del pd.DataFrame.\n",
    "1. Compare los valores de dos columnas y cree una nueva columna que indique el nombre de la columna cuyo valor fue mayor para esa fila."
   ]
  },
  {
   "cell_type": "markdown",
   "metadata": {},
   "source": [
    "#### Ejercicio 4:\n",
    "\n",
    "1. Cree un pd.DataFrame con algunas columnas de números aleatorios (al menos 3 columnas).\n",
    "1. Defina una función que toamndo como parámetros un valor escalar y un nombre de columna realice la siguiente operación: valor de la columna multiplicado por el escalar. Luego, devuelva todo el pd.DataFrame con la columna modificada.\n",
    "1. Realice las siguientes operaciones entre las columnas indicadas y agregue el resultado como una nueva columna en el DataFrame:\n",
    "    * $(A + B) + max(A; C)$\n",
    "    * $Promedio(A) + 1.25 * B - 2 * C^3$ "
   ]
  },
  {
   "cell_type": "markdown",
   "metadata": {},
   "source": [
    "#### Ejercicio 5:\n",
    "\n",
    "Usando el siguiente `pd.DataFrame`, responda las siguientes consignas:\n",
    "1. Compare dos columnas evaluando: *mayor*, *menor*, *igual*, *entre*.\n",
    "1. Filtre las filas donde una columna cumpla la condición específica:\n",
    "    * *Columna1* < *Columna2*\n",
    "    * 1.5 * *Columna3* > (*Columna4* + 2)\n",
    "    * (*Columna1* + *Columna2*) $\\geq$ (*Columna3* + *Columna4*)\n",
    "\n",
    "\n",
    "```python\n",
    "import numpy as np\n",
    "import pandas as pd\n",
    "\n",
    "num_filas = 100\n",
    "num_columnas = 4\n",
    "\n",
    "datos = np.random.rand(num_filas, num_columnas)\n",
    "\n",
    "df = pd.DataFrame(datos, columns=['Columna1', 'Columna2', 'Columna3', 'Columna4'])\n",
    "```"
   ]
  },
  {
   "cell_type": "markdown",
   "metadata": {},
   "source": [
    "#### Ejercicio 6:\n",
    "\n",
    "Dado el siguiente `pd.DataFrame` resuelva las siguientes consignas:\n",
    "* filtrar personas mayores de 25 años\n",
    "* filtrar personas entre 40 y 50 años, de la ciudad de 'Nueva York'\n",
    "* filtrar personas que no viven en 'San Fransisco' ni en 'Miami'; con edad superior a los 28 años\n",
    "* filtrar personas de 'Los Angeles', que se llamen 'Homero' o 'Bart', y que no se encuentren entre las edades 22 y 60.\n",
    "\n",
    "```python\n",
    "import pandas as pd\n",
    "import numpy as np\n",
    "\n",
    "rng = np.random.default_rng(9999)\n",
    "\n",
    "datos = {'Nombre': rng.choice(a=['Homero', 'Bart', 'Lisa', 'Marge', 'Maggie'], p = [0.25, 0.25, 0.20, 0.20, 0.10], size = 100),\n",
    "         'Edad': rng.uniform(2, 80, size=100).astype(int),\n",
    "         'Ciudad': rng.choice(a=['Nueva York', 'Los Angeles', 'San Fransisco', 'Miami'], size = 100)}\n",
    "\n",
    "df = pd.DataFrame(datos)\n",
    "```"
   ]
  },
  {
   "cell_type": "markdown",
   "metadata": {},
   "source": [
    "#### Ejercicio 7:\n",
    "\n",
    "Dados los siguientes `pd.DataFrame`, resuelva:\n",
    "\n",
    "```python\n",
    "data_empleados = {\n",
    "    'ID': [101, 102, 103, 104, 105],\n",
    "    'Nombre': ['Juan', 'María', 'Pedro', 'Ana', 'Luis'],\n",
    "    'Departamento': ['Ventas', 'Marketing', 'Ventas', 'Recursos Humanos', 'Tecnología']\n",
    "}\n",
    "\n",
    "df_empleados = pd.DataFrame(data_empleados)\n",
    "\n",
    "data_salarios = {\n",
    "    'ID': [101, 102, 103, 104, 106],\n",
    "    'Salario': [50000, 60000, 55000, 70000, 65000]\n",
    "}\n",
    "\n",
    "df_salarios = pd.DataFrame(data_salarios)\n",
    "```\n",
    "\n",
    "1. Combine los conjuntos de datos df_empleados y df_salarios utilizando la columna 'ID' como clave (inner join). Muestre el resultado del merge.\n",
    "1. Realice un merge izquierdo entre los conjuntos de datos df_empleados y df_salarios. Muestre el resultado.\n",
    "1. Realice un merge derecho entre los conjuntos de datos df_empleados y df_salarios. Muestre el resultado.\n",
    "1. Realice un merge entre los conjuntos de datos df_empleados y df_salarios, pero renombre la columna 'Salario' a 'Salario Mensual'. \n",
    "1. Configure la columna 'ID' como el índice en ambos conjuntos de datos df_empleados y df_salarios. Luego, realice un merge basado en los índices. \n",
    "1. Realice un merge entre los conjuntos de datos df_empleados y df_salarios, pero solo incluya filas donde el salario sea superior a 60000. Muestre el resultado.\n",
    "1. Realice un merge entre los conjuntos de datos df_empleados y df_salarios, pero solo incluya filas donde el Departamento sea 'Ventas' y el salario, menor a 52000. Muestre el resultado."
   ]
  },
  {
   "cell_type": "markdown",
   "metadata": {},
   "source": [
    "#### Ejercicio 8:\n",
    "Dados los siguientes `pd.DataFrame`:\n",
    "1. Utilice `groupby` para calcular la suma de salarios y el promedio por departamento.\n",
    "1. Utilice `groupby` para contar el número de empleados por departamento.\n",
    "1. Calcule la suma y el promedio de salarios por departamento y año de ingreso.\n",
    "1. ¿Cuántos empleados que entraron entre los años 2009 y 2015 poseen un salarios superior a 60.000?\n",
    "1. Para cada departamento, ¿cúal es la persona con mayor sueldo y menor cantidad de años en la compañía? (*hint*: ambas condiciones a la vez)\n",
    "\n",
    "```python\n",
    "import pandas as pd\n",
    "import numpy as np\n",
    "\n",
    "rng = np.random.default_rng(9999)\n",
    "\n",
    "data_empleados = {\n",
    "    'ID': np.arange(100),\n",
    "    'AñoIngreso': rng.uniform(2005, 2024, size=100).astype(int),\n",
    "    'Departamento': rng.choice(a=['Ventas', 'Marketing', 'Recursos Humanos', 'Tecnología'], size = 100)\n",
    "}\n",
    "\n",
    "df_empleados = pd.DataFrame(data_empleados)\n",
    "\n",
    "data_salarios = {\n",
    "    'ID': np.arange(100),\n",
    "    'Salario': rng.normal(85000, 17500, size=100).astype(int)\n",
    "}\n",
    "\n",
    "df_salarios = pd.DataFrame(data_salarios)\n",
    "```"
   ]
  },
  {
   "cell_type": "markdown",
   "metadata": {},
   "source": [
    "#### Ejercicio 9:\n",
    "\n",
    "Utilice alguno de los `pd.DataFrame` generados en los ejercicios anteriores para resolver los puntos a continuación:\n",
    "1. Genere un archivo en los siguientes formatos: csv, parquet y pickle.\n",
    "1. Cargue en memoria cada uno de los archivos generados en el inciso 1.\n",
    "1. Imprima las primeras 5 filas de cada uno y sus dimensiones."
   ]
  }
 ],
 "metadata": {
  "kernelspec": {
   "display_name": "base",
   "language": "python",
   "name": "python3"
  },
  "language_info": {
   "codemirror_mode": {
    "name": "ipython",
    "version": 3
   },
   "file_extension": ".py",
   "mimetype": "text/x-python",
   "name": "python",
   "nbconvert_exporter": "python",
   "pygments_lexer": "ipython3",
   "version": "3.8.16"
  }
 },
 "nbformat": 4,
 "nbformat_minor": 2
}
