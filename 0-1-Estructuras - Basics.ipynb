{
 "cells": [
  {
   "cell_type": "markdown",
   "id": "12055d62-35e6-4a1e-a352-7767dea47f5c",
   "metadata": {},
   "source": [
    "# Estructuras de datos - Básicas"
   ]
  },
  {
   "cell_type": "markdown",
   "id": "9cfa4720",
   "metadata": {},
   "source": [
    "Las principales estructuras de datos en Python son:\n",
    "* ```list``` (listas)\n",
    "* ```tuple``` (tuplas)\n",
    "* ```dict``` (dictionarios)\n",
    "* ```pd.DataFrame``` (pandas dataframes)\n",
    "* ```np.array``` (numpy arrays)\n",
    "* ```set``` (sets)"
   ]
  },
  {
   "cell_type": "markdown",
   "id": "76f29748",
   "metadata": {},
   "source": [
    "***\n",
    "## List\n",
    "\n",
    "Las ```list``` proporcionan una forma poderosa de organizar y manipular colecciones de datos. Permiten almacenar tipos de datos heterogéneos dentro de una única estructura, lo que los hace increíblemente versátiles. La indexación le permite acceder a elementos individuales y la división le permite extraer sublistas. Este orden y accesibilidad son cruciales para diversas tareas de programación.\n",
    "\n",
    "Una característica notable de las ```list``` es su mutabilidad. Puede modificar elementos, agregar nuevos o eliminar los existentes según sea necesario. Esta capacidad de cambiar el contenido hace que las ```list``` sean adecuadas para tareas en las que los datos deben ser dinámicos y adaptables."
   ]
  },
  {
   "cell_type": "markdown",
   "id": "9ba545e7",
   "metadata": {},
   "source": [
    "#### Creación de listas"
   ]
  },
  {
   "cell_type": "code",
   "execution_count": null,
   "id": "105088a3",
   "metadata": {},
   "outputs": [],
   "source": [
    "numbers = [1, 2, 3, 4, 5]\n",
    "names = [\"Alice\", \"Bob\", \"Charlie\", \"Fry\", \"Sara\"]\n",
    "mixed_data = [10, \"hello\", True, 3.14]\n"
   ]
  },
  {
   "cell_type": "markdown",
   "id": "e3038b9d",
   "metadata": {},
   "source": [
    "#### Indexing y Slicing"
   ]
  },
  {
   "cell_type": "code",
   "execution_count": null,
   "id": "47d87f75",
   "metadata": {},
   "outputs": [],
   "source": [
    "# Indexing\n",
    "\n",
    "print('El primer elemento es:', numbers[0])\n",
    "print('El segundo elemento es:', numbers[1])\n",
    "print('El último elemento es:', numbers[-1])"
   ]
  },
  {
   "cell_type": "code",
   "execution_count": null,
   "id": "daadf0f8",
   "metadata": {},
   "outputs": [],
   "source": [
    "# Slicing\n",
    "print(names[:2])\n",
    "print(names[1:])\n",
    "print(names[2:4])"
   ]
  },
  {
   "cell_type": "markdown",
   "id": "ed34fec2",
   "metadata": {},
   "source": [
    "#### Operaciones"
   ]
  },
  {
   "cell_type": "code",
   "execution_count": null,
   "id": "a81b9c29",
   "metadata": {},
   "outputs": [],
   "source": [
    "length = len(numbers)       # Get the length of the list / largo de la lista\n",
    "print(f'El largo de la lista es {length}')\n",
    "\n",
    "numbers.append(6)           # Append an item to the end / agrega un elemnto al final de la lista\n",
    "print(f'Lista con nuevo elemento: {numbers}')\n",
    "\n",
    "names.insert(1, \"David\")    # Insert an item at index 1 / agrega determinado elemento en determinada posición ( por index)\n",
    "print(f'Lista con nuevo elemento: {names}')\n",
    "\n",
    "names.remove(\"Bob\")         # Remove the first occurrence of an item\n",
    "print(f'Lista sin \"Bob\": {names}')\n",
    "\n",
    "name = 'Alice'\n",
    "is_present = name in names  # Check if an item is present / chequea si cierto valor existe en la lista\n",
    "print(f'Existe {name} en la lista? --> {is_present}')"
   ]
  },
  {
   "cell_type": "markdown",
   "id": "c050375a",
   "metadata": {},
   "source": [
    "#### Mutabilidad de las listas"
   ]
  },
  {
   "cell_type": "code",
   "execution_count": null,
   "id": "87b6fc66",
   "metadata": {},
   "outputs": [],
   "source": [
    "mutable = [0, 1, 2, 3, 5, 8, 13]"
   ]
  },
  {
   "cell_type": "code",
   "execution_count": null,
   "id": "d0173f43",
   "metadata": {},
   "outputs": [],
   "source": [
    "print(f'Lista pre modificación: {mutable}')\n",
    "\n",
    "mutable[2] = 7      # Update an element at index 2 / actualizar el elemento en la psoición de index 2\n",
    "\n",
    "print(f'Lista post modificación: {mutable}')\n",
    "\n",
    "del mutable[0]        # Delete the first element / eliminar el primer elemento\n",
    "print(f'Lista post modificación: {mutable}')\n"
   ]
  },
  {
   "cell_type": "markdown",
   "id": "66168b6c",
   "metadata": {},
   "source": [
    "#### Listas combinadas\n",
    "\n",
    "Todos los casos anteriores pueden ser aplicados a lista de mayor complejidad."
   ]
  },
  {
   "cell_type": "code",
   "execution_count": null,
   "id": "7cb99e48",
   "metadata": {},
   "outputs": [],
   "source": [
    "complex_list = [8, [12, 24, 36], [63, 72, [81, 90]], 100]"
   ]
  },
  {
   "cell_type": "code",
   "execution_count": null,
   "id": "b8a55e02",
   "metadata": {},
   "outputs": [],
   "source": [
    "for i, elem in enumerate(complex_list):\n",
    "\n",
    "    print(f'Elemento #{i}: {elem}')"
   ]
  },
  {
   "cell_type": "code",
   "execution_count": null,
   "id": "de143e65",
   "metadata": {},
   "outputs": [],
   "source": [
    "for i, elem in enumerate(complex_list):\n",
    "\n",
    "    print(f'Elemento #{i}: {elem}')\n",
    "    \n",
    "    if hasattr(elem, '__iter__'):   \n",
    "        print(f'Elemento #{i} tiene otros elementos dentro')\n",
    "\n",
    "        for j, sub_elem in enumerate(elem):\n",
    "\n",
    "            print(f'Sub-elemento #{j}: {sub_elem}')\n",
    "\n",
    "    print('-'*25)"
   ]
  },
  {
   "cell_type": "code",
   "execution_count": null,
   "id": "d02f69f4",
   "metadata": {},
   "outputs": [],
   "source": [
    "# Indexing\n",
    "\n",
    "print('El primer elemento es:', complex_list[0])\n",
    "print('El segundo elemento es:', complex_list[1])\n",
    "print('El tercer elemento del segundo elemento es:', complex_list[1][2])\n",
    "print('El último elemento es:', complex_list[-1])"
   ]
  },
  {
   "cell_type": "code",
   "execution_count": null,
   "id": "3e8e2749",
   "metadata": {},
   "outputs": [],
   "source": [
    "length = len(complex_list)       # Get the length of the list / largo de la lista\n",
    "print(f'El largo de la lista es {length}')\n",
    "\n",
    "complex_list.append([1,2,3,4])           # Append an item to the end / agrega un elemnto al final de la lista\n",
    "print(f'Lista con nuevo elemento: {complex_list}')\n",
    "\n",
    "complex_list.insert(1, 4)    # Insert an item at index 1 / agrega determinado elemento en determinada posición ( por index)\n",
    "print(f'Lista con nuevo elemento: {complex_list}')\n",
    "\n",
    "complex_list.pop()         # Removes last value / elimina el último elemento\n",
    "print(f'Lista sin último valor: {complex_list}')\n",
    "\n",
    "value = 5\n",
    "is_present = value in complex_list  # Check if an item is present / chequea si cierto valor existe en la lista\n",
    "print(f'Existe {value} en la lista? --> {is_present}')"
   ]
  },
  {
   "cell_type": "markdown",
   "id": "1db0c43c",
   "metadata": {},
   "source": [
    "***\n",
    "## Tuples\n",
    "\n",
    "Una ```tuple``` en Python es una estructura similar a una ```list``` pero con una **gran diferencia**: una tuple es **inmutable**. Esto implica que, una vez creada, los elementos de ella no pueden ser modificados, agregados ni eliminados. Funcionan como conjuntos de datos ordenados y son esenciales en situaciones donde la integridad de los datos es crucial.\n"
   ]
  },
  {
   "cell_type": "code",
   "execution_count": null,
   "id": "35642a0c",
   "metadata": {},
   "outputs": [],
   "source": [
    "paises = ('Argentina', 'España', 'Noruega')\n",
    "montos = (1000, 2400, 2500, 3600)"
   ]
  },
  {
   "cell_type": "markdown",
   "id": "1982fd2d-4cee-48d6-854e-c49f03502f19",
   "metadata": {},
   "source": [
    "#### Indexing y Slicing"
   ]
  },
  {
   "cell_type": "code",
   "execution_count": null,
   "id": "c43f068c-9c3a-41ce-a277-1714bc9e4347",
   "metadata": {},
   "outputs": [],
   "source": [
    "# Indexing\n",
    "\n",
    "print('El primer elemento es:', paises[0])\n",
    "print('El segundo elemento es:', paises[1])\n",
    "print('El último elemento es:', paises[-1])"
   ]
  },
  {
   "cell_type": "code",
   "execution_count": null,
   "id": "3886569c-be9b-41a8-92a9-eaf6841c9190",
   "metadata": {},
   "outputs": [],
   "source": [
    "# Slicing\n",
    "print(montos[:2])\n",
    "print(montos[1:])\n",
    "print(montos[1:3])"
   ]
  },
  {
   "cell_type": "markdown",
   "id": "836e75c8-a157-470d-bf43-867637f3d55f",
   "metadata": {},
   "source": [
    "#### Operaciones"
   ]
  },
  {
   "cell_type": "markdown",
   "id": "273bcb45-07d0-44a9-826d-21dad8a369af",
   "metadata": {
    "tags": []
   },
   "source": [
    "##### Válidas en tuples"
   ]
  },
  {
   "cell_type": "code",
   "execution_count": null,
   "id": "1038419e-d220-40b7-ab9e-9b32a3a536fe",
   "metadata": {},
   "outputs": [],
   "source": [
    "length = len(paises)       # Get the length of the list / largo de la lista\n",
    "print(f'El largo de la tuple es {paises}')\n",
    "\n",
    "pais = 'Argentina'\n",
    "is_present = pais in paises  # Check if an item is present / chequea si cierto valor existe en la lista\n",
    "print(f'Existe {pais} en la lista? --> {is_present}')"
   ]
  },
  {
   "cell_type": "markdown",
   "id": "ecf24dec-57d0-4326-a403-99d7f96c1494",
   "metadata": {
    "tags": []
   },
   "source": [
    "##### No válidas en tuples"
   ]
  },
  {
   "cell_type": "code",
   "execution_count": null,
   "id": "a361b3e5-9196-4c27-a408-242f9f2cadab",
   "metadata": {},
   "outputs": [],
   "source": [
    "try:\n",
    "    paises.append('Uruguay')\n",
    "    \n",
    "except AttributeError as e:\n",
    "    print(f'ERROR: {type(e).__name__} --> {e}')\n",
    "\n",
    "try:\n",
    "    paises.insert(1, \"China\") \n",
    "\n",
    "except AttributeError as e:\n",
    "    print(f'ERROR: {type(e).__name__} --> {e}')\n",
    "\n",
    "try:\n",
    "    paises.remove(\"España\")\n",
    "    \n",
    "except AttributeError as e:\n",
    "    print(f'ERROR: {type(e).__name__} --> {e}')"
   ]
  },
  {
   "cell_type": "markdown",
   "id": "4bd4c288-7e19-4235-9446-6bb458162a33",
   "metadata": {},
   "source": [
    "## Dictionaries\n",
    "\n",
    "Un ```dict``` en Python es una estructura de datos versátil que almacena datos como pares ```key-value``` (clave-valor). Cada ```key``` es única y sirve como identificador de su valor asociado. Los diccionarios también se conocen como matrices asociativas o *hash maps* y proporcionan capacidades de búsqueda eficientes para recuperar valores basados en sus ```keys```. Los diccionarios son colecciones desordenadas, lo que significa que el orden de inserción no determina el orden de recuperación.\n",
    "\n",
    "Los diccionarios ofrecen una forma eficaz de almacenar y recuperar datos asociando ```keys``` con sus valores correspondientes. Las claves sirven como identificadores únicos, lo que permite una búsqueda rápida de valores. Esta característica es especialmente valiosa cuando se trata de grandes conjuntos de datos donde es necesario un acceso rápido a datos específicos.\n",
    "\n",
    "Los diccionarios pueden almacenar varios tipos de datos como valores, incluidos números, cadenas, listas e incluso otros diccionarios. Su flexibilidad y eficiencia los convierten en una herramienta crucial para resolver problemas que involucran categorización, mapeo y agregación de datos.\n",
    "\n",
    "Además del acceso sencillo, los diccionarios admiten métodos para actualizar, agregar y eliminar pares clave-valor. La iteración sobre diccionarios le permite procesar claves y valores de manera efectiva. Además, la comprensión del diccionario le permite crear diccionarios utilizando una sintaxis concisa."
   ]
  },
  {
   "cell_type": "markdown",
   "id": "d32c7e9c-8247-48e7-8d5c-0e360cbbf543",
   "metadata": {},
   "source": [
    "#### Creación de un dictionary"
   ]
  },
  {
   "cell_type": "code",
   "execution_count": null,
   "id": "7b20b629-a112-4c5a-97d2-b07ca9987990",
   "metadata": {},
   "outputs": [],
   "source": [
    "student = {\"name\": \"John\", \"age\": 25, \"city\": \"Buenos Aires\", \"university\": \"UBA\"}\n",
    "\n",
    "coordinates = {\"latitude\": 40.7128, \"longitude\": -74.0060}"
   ]
  },
  {
   "cell_type": "markdown",
   "id": "b3542016-b009-4078-be7a-bdadc687f9a6",
   "metadata": {},
   "source": [
    "#### Acceder a *key* y *values*"
   ]
  },
  {
   "cell_type": "code",
   "execution_count": null,
   "id": "35a15418-623e-4d17-912f-12fb898ede8e",
   "metadata": {},
   "outputs": [],
   "source": [
    "name = student[\"name\"]       # Access value using key / accedo al valor usando la key\n",
    "latitude = coordinates[\"latitude\"]\n",
    "print(f'\"name\": {name} \\t \"latitude\": {latitude}')\n",
    "\n",
    "name = student.get('name')      # Access value using get() method/ accedo al valor usando el método get()\n",
    "latitude = coordinates.get('latitude')   \n",
    "print(f'\"name\": {name} \\t \"latitude\": {latitude}')"
   ]
  },
  {
   "cell_type": "code",
   "execution_count": null,
   "id": "9e4adb5b-e173-4bed-bb04-a2c063d268d5",
   "metadata": {},
   "outputs": [],
   "source": [
    "print(f'Dict pre modificación: {student}')\n",
    "student['carreer'] = 'Actuary'        # Add new key-value pair / agregar nuevo key-value pair\n",
    "print(f'Dict post modificación: {student}\\n')\n",
    "\n",
    "print(f'Dict pre modificación: {student}')\n",
    "student[\"age\"] = 26        # Update value using key / modificar los valores del dict\n",
    "print(f'Dict post modificación: {student}\\n')\n",
    "\n",
    "print(f'Dict pre modificación: {student}')\n",
    "student[\"age\"] += 5        # Update value using key / modificar los valores del dict\n",
    "print(f'Dict post modificación: {student}\\n')\n",
    "\n",
    "city_present = \"city\" in student  # Check if key exists / verifica la existencia de un valor\n",
    "print(f'\"City\" está en el dict? --> {city_present}\\n')\n",
    "\n",
    "surname = student.get('surname', None)  # Get value with fallback if key doesn't exist / opción de devolver valor si no existe la key\n",
    "print(surname, '\\n')\n",
    "\n",
    "student.pop('city')\n",
    "print(f'Dict post modificación: {student}\\n')"
   ]
  },
  {
   "cell_type": "markdown",
   "id": "3c5c2428-72a3-49f3-8517-7065f016be5a",
   "metadata": {},
   "source": [
    "## Sets\n",
    "\n",
    "Los ```set``` ofrecen una forma sencilla de almacenar colecciones de elementos únicos sin duplicaciones. Esta propiedad hace que los ```set``` sean una opción ideal cuando se trabaja con datos que no deberían repetirse. Los ```set``` manejan automáticamente la unicidad, lo que le permite concentrarse en el problema en cuestión en lugar de preocuparse por los duplicados.\n",
    "\n",
    "Las operaciones de conjuntos, como la intersección y la unión, son extremadamente eficientes debido a la forma en que se implementan internamente. Estas operaciones son particularmente útiles cuando se trata de datos que deben combinarse, compararse o filtrarse de maneras únicas.\n",
    "\n",
    "Además de sus características únicas, los conjuntos también ofrecen pruebas de membresía, lo que permite determinar rápidamente si existe un artículo específico en el conjunto. Esto es valioso para tareas que requieren verificar la presencia de ciertos elementos en un conjunto de datos."
   ]
  },
  {
   "cell_type": "markdown",
   "id": "c4fc29e4-23bb-4893-8a6f-c867182e95b4",
   "metadata": {},
   "source": [
    "#### Eliminar duplicados"
   ]
  },
  {
   "cell_type": "code",
   "execution_count": null,
   "id": "1796824c-c144-4de1-ac55-706407cc9e06",
   "metadata": {},
   "outputs": [],
   "source": [
    "# Using a set to remove duplicates from a list\n",
    "original_list = [1, 2, 2, 3, 4, 4, 5]\n",
    "unique_elements = set(original_list)\n",
    "print(unique_elements)"
   ]
  },
  {
   "cell_type": "markdown",
   "id": "c2ef0762-cc54-40ee-957d-5797edcc0585",
   "metadata": {},
   "source": [
    "#### Pertenencia"
   ]
  },
  {
   "cell_type": "code",
   "execution_count": null,
   "id": "7b2d9ade-a577-4f73-ac71-0f851d044a32",
   "metadata": {},
   "outputs": [],
   "source": [
    "fruits = {\"apple\", \"banana\", \"orange\"}\n",
    "is_orange_present = \"orange\" in fruits\n",
    "print(is_orange_present)\n",
    "\n",
    "is_mango_present = \"mango\" in fruits\n",
    "print(is_mango_present)"
   ]
  },
  {
   "cell_type": "code",
   "execution_count": null,
   "id": "7efcef81-4588-4897-ab40-a0582b6d4ad4",
   "metadata": {},
   "outputs": [],
   "source": [
    "set1 = {1, 2, 3, 4, 5}\n",
    "set2 = {4, 5, 6, 7, 8}\n",
    "\n",
    "# Intersection set1 --> set2\n",
    "print('Intersection set1 --> set2')\n",
    "intersection = set1 & set2\n",
    "intersection_ = set1.intersection(set2)\n",
    "print(intersection)\n",
    "print(intersection_)\n",
    "\n",
    "# Intersection set2 --> set1\n",
    "print('\\nIntersection set2 --> set1')\n",
    "intersection = set2 & set1\n",
    "intersection_ = set2.intersection(set1)\n",
    "print(intersection)\n",
    "print(intersection_)\n",
    "\n",
    "# Union\n",
    "print('\\nUnion')\n",
    "union = set1 | set2\n",
    "union_ = set1.union(set2)\n",
    "print(union)\n",
    "print(union_)\n",
    "\n",
    "# Difference set1 --> set2\n",
    "print('\\nDifference set1 --> set2')\n",
    "difference = set1 - set2\n",
    "difference_ = set1.difference(set2)\n",
    "print(difference)\n",
    "print(difference_)\n",
    "\n",
    "print('\\nDifference set2 --> set1')\n",
    "# Difference set1 --> set2\n",
    "difference = set2 - set1\n",
    "difference_ = set2.difference(set1)\n",
    "print(difference)\n",
    "print(difference_)"
   ]
  },
  {
   "cell_type": "markdown",
   "id": "7ddf143b-6a41-44cd-973a-74e297e6928f",
   "metadata": {},
   "source": [
    "***\n",
    "## ```pd.DataFrame``` y ```np.array```"
   ]
  },
  {
   "cell_type": "markdown",
   "id": "91cbf7a1-435f-4af5-8770-044f689f3a61",
   "metadata": {},
   "source": [
    "Estás dos grandes y complejas estructuras de datos serán estudiadas en secciones posteriores ya que se requieren ciertos conocimientos previos para su correcto uso y entendimiento.\n",
    "\n",
    "***"
   ]
  }
 ],
 "metadata": {
  "kernelspec": {
   "display_name": "Python 3 (ipykernel)",
   "language": "python",
   "name": "python3"
  },
  "language_info": {
   "codemirror_mode": {
    "name": "ipython",
    "version": 3
   },
   "file_extension": ".py",
   "mimetype": "text/x-python",
   "name": "python",
   "nbconvert_exporter": "python",
   "pygments_lexer": "ipython3",
   "version": "3.8.16"
  }
 },
 "nbformat": 4,
 "nbformat_minor": 5
}
