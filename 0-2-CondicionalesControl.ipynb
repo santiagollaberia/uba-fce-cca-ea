{
 "cells": [
  {
   "cell_type": "markdown",
   "id": "74b26776-1b57-456a-8d20-c519da19192b",
   "metadata": {},
   "source": [
    "# Operadores Lógicos, Condicionales y Estructuras de Control"
   ]
  },
  {
   "cell_type": "markdown",
   "id": "4f97768b",
   "metadata": {},
   "source": [
    "***\n",
    "## Operadores Lógicos"
   ]
  },
  {
   "cell_type": "markdown",
   "id": "496f72b3",
   "metadata": {},
   "source": [
    "Los operadores de comparación se utilizan para comparar valores y determinar la relación entre ellos. Son esenciales para crear condiciones que guíen el flujo de su programa en función de los resultados de estas comparaciones.\n",
    "\n",
    "Los operadores de comparación le permiten comparar variables o valores y obtener un resultado booleano (```True``` o ```False```). Estas comparaciones son fundamentales para tomar decisiones en tu programa en función de las condiciones. Por ejemplo, puede utilizar estos operadores para verificar si un valor es igual a otro, si es mayor o menor que, o si se encuentra dentro de un rango específico."
   ]
  },
  {
   "cell_type": "code",
   "execution_count": null,
   "id": "0537e7b2",
   "metadata": {},
   "outputs": [],
   "source": [
    "x = 10\n",
    "y = 20\n",
    "\n",
    "# Equal to / iguales\n",
    "print(x == y)   # Output: False\n",
    "\n",
    "# Not equal to / diferentes\n",
    "print(x != y)   # Output: True\n",
    "\n",
    "# Less than / menor que\n",
    "print(x < y)    # Output: True\n",
    "\n",
    "# Greater than / mayor que\n",
    "print(x > y)    # Output: False\n",
    "\n",
    "# Less than or equal to / menor o igual que\n",
    "print(x <= y)   # Output: True\n",
    "\n",
    "# Greater than or equal to / mayor o igual que\n",
    "print(x >= y)   # Output: False\n"
   ]
  },
  {
   "cell_type": "markdown",
   "id": "1e9dbf04",
   "metadata": {},
   "source": [
    "### Combinación de Operadores Lógicos"
   ]
  },
  {
   "cell_type": "code",
   "execution_count": null,
   "id": "2fdb1a1d",
   "metadata": {},
   "outputs": [],
   "source": [
    "x = 10\n",
    "y = 20\n",
    "z = 5\n",
    "\n",
    "# Using 'and' logical operator / requiere que ambas condiciones se cumplan para que su resultado sea True\n",
    "print(x < y and y > z)  # Output: True\n",
    "print(x < y & y > z) "
   ]
  },
  {
   "cell_type": "code",
   "execution_count": null,
   "id": "00b0207f",
   "metadata": {},
   "outputs": [],
   "source": [
    "# Using 'or' logical operator / requiere que alguna de las condiciones se cumpla para que su resultado sea True\n",
    "print(x < y or z < x)   # Output: True\n",
    "print(x < y | z < x)"
   ]
  },
  {
   "cell_type": "code",
   "execution_count": null,
   "id": "5c01ef54",
   "metadata": {},
   "outputs": [],
   "source": [
    "# Using 'not' logical operator / es el complemento del resultado\n",
    "print(not x > y)        # Output: True"
   ]
  },
  {
   "cell_type": "code",
   "execution_count": null,
   "id": "055d3d02",
   "metadata": {},
   "outputs": [],
   "source": [
    "# Using multiple conditions / múltiples condiciones\n",
    "print((x > y) or (x <= y and z < x))"
   ]
  },
  {
   "cell_type": "code",
   "execution_count": 8,
   "id": "beb0551f",
   "metadata": {},
   "outputs": [
    {
     "name": "stdout",
     "output_type": "stream",
     "text": [
      "True\n",
      "False\n"
     ]
    }
   ],
   "source": [
    "x = True\n",
    "y = False\n",
    "z = True\n",
    "\n",
    "result = x ^ y\n",
    "print(result)  # Output: True\n",
    "\n",
    "result = x ^ z\n",
    "print(result)  # Output: False"
   ]
  },
  {
   "cell_type": "markdown",
   "id": "917120c9",
   "metadata": {},
   "source": [
    "***\n",
    "## Condicionales\n",
    "\n",
    "El uso del ```if``` y demás palabras \"clave\" (```elif``` y ```else```) permite al usuario controlar el flujo de la información y setear condiciones para la realización de los cálculos. Son útiles para chequear sin un determinado resultado es el que estabamos buscando, filtrar  información con determinada característica, delimitar rangos para cierto valor, etc."
   ]
  },
  {
   "cell_type": "code",
   "execution_count": 9,
   "id": "293a23a4",
   "metadata": {},
   "outputs": [
    {
     "name": "stdout",
     "output_type": "stream",
     "text": [
      "El número es 50 y es mayor a 25.\n"
     ]
    }
   ],
   "source": [
    "a = 50\n",
    "\n",
    "if a > 25:\n",
    "    print(\"El número es {} y es mayor a 25.\".format(a))"
   ]
  },
  {
   "cell_type": "code",
   "execution_count": 10,
   "id": "d52558bf",
   "metadata": {},
   "outputs": [
    {
     "name": "stdout",
     "output_type": "stream",
     "text": [
      "Son más grandes!\n"
     ]
    }
   ],
   "source": [
    "a = 10\n",
    "b = 80\n",
    "\n",
    "if a + b > 20:\n",
    "    print(\"Son más grandes!\")\n",
    "else:\n",
    "    print(\"Son más chicos!\")"
   ]
  },
  {
   "cell_type": "code",
   "execution_count": 18,
   "id": "765557f7",
   "metadata": {},
   "outputs": [
    {
     "name": "stdout",
     "output_type": "stream",
     "text": [
      "La calificación fue una C.\n"
     ]
    }
   ],
   "source": [
    "nota = 73\n",
    "\n",
    "if nota > 90:\n",
    "    calificacion = \"A\"\n",
    "elif nota <= 90 and nota > 75:\n",
    "    calificacion = \"B\"\n",
    "elif nota <= 75 and nota >= 60:\n",
    "    calificacion = \"C\"\n",
    "else:\n",
    "    calificacion = \"D\"\n",
    "    \n",
    "print(\"La calificación fue una {}.\".format(calificacion)) "
   ]
  },
  {
   "cell_type": "code",
   "execution_count": 19,
   "id": "903aaebb",
   "metadata": {},
   "outputs": [
    {
     "name": "stdout",
     "output_type": "stream",
     "text": [
      "La calificación fue una C.\n"
     ]
    }
   ],
   "source": [
    "if nota >= 60:\n",
    "    if nota >= 75:\n",
    "        if nota > 90:\n",
    "            calificacion = 'A'\n",
    "        else:\n",
    "            calificacion = 'B'\n",
    "    else:\n",
    "        calificacion = 'C'\n",
    "else:\n",
    "    calificacion = \"D\"     \n",
    "\n",
    "print(\"La calificación fue una {}.\".format(calificacion)) "
   ]
  },
  {
   "cell_type": "code",
   "execution_count": 20,
   "id": "0f7485bd",
   "metadata": {},
   "outputs": [
    {
     "name": "stdout",
     "output_type": "stream",
     "text": [
      "Primer quincena\n",
      "Primer semana\n"
     ]
    }
   ],
   "source": [
    "dia = 5\n",
    "\n",
    "if dia < 15:\n",
    "    print(\"Primer quincena\")\n",
    "    if dia <= 7:\n",
    "        print(\"Primer semana\")\n",
    "    else:\n",
    "        print(\"Segunda semana\")\n",
    "else:\n",
    "    print(\"Segunda quincena\")\n",
    "    if dia < 23:\n",
    "        print('Tercer semana')\n",
    "    else:\n",
    "        print(\"Cuarta semana\")"
   ]
  },
  {
   "cell_type": "code",
   "execution_count": 21,
   "id": "11eff7b5",
   "metadata": {},
   "outputs": [
    {
     "name": "stdout",
     "output_type": "stream",
     "text": [
      "Primer elif\n"
     ]
    }
   ],
   "source": [
    "x = 50\n",
    "y = 100\n",
    "z = 200\n",
    "\n",
    "if (x < 40) and (x+y < 200):\n",
    "    print('Primer if')\n",
    "elif (z > x) or (x + y + z <= 300):\n",
    "    print('Primer elif')\n",
    "elif (x + y == z) ^ (2 * x < 125):\n",
    "    print('Segundo elif')\n",
    "else:\n",
    "    print('Else')"
   ]
  },
  {
   "cell_type": "code",
   "execution_count": 22,
   "id": "ab08405c",
   "metadata": {},
   "outputs": [
    {
     "name": "stdout",
     "output_type": "stream",
     "text": [
      "Condición 0 - 0\n"
     ]
    }
   ],
   "source": [
    "x = [1, 2, 4, 8, 16]\n",
    "\n",
    "if sum(x) > 25:\n",
    "    if x[-1] == 16:\n",
    "        print('Condición 0 - 0')\n",
    "    else:\n",
    "        print('Condición 0 - 1')\n",
    "\n",
    "elif (x[0] < 5) and (x[1] + x[2] == 10):\n",
    "    print('Condición 1')\n",
    "\n",
    "else:\n",
    "    print('No se cumple ninguna condición') "
   ]
  },
  {
   "cell_type": "code",
   "execution_count": 40,
   "id": "ec378c08",
   "metadata": {},
   "outputs": [
    {
     "name": "stdout",
     "output_type": "stream",
     "text": [
      "\"test\" es un string\n",
      "3.14 es un float y 5 es un integer\n",
      "\"{'key1': [1, 2, 3], 'key2': [4, 5, 6]}\" es un dict\n",
      "Objeto 1 es un/a <class 'list'> y objeto 2 es un/a <class 'list'>; entonces la condición es True\n",
      "Objeto 1 es un/a <class 'list'> y objeto 2 es un/a <class 'list'>; entonces la condición es True\n"
     ]
    }
   ],
   "source": [
    "var1 = 'test'\n",
    "var2 = 3.14\n",
    "var3 = 5\n",
    "var4 = {'key1': [1, 2, 3], 'key2': [4, 5, 6]}\n",
    "\n",
    "if type(var1) != str:\n",
    "    print(var1, 'no es un string')\n",
    "else:\n",
    "    print(f'\"{var1}\" es un string')\n",
    "\n",
    "\n",
    "if isinstance(var2, float) and isinstance(var3, int):\n",
    "    print(f'{var2} es un float y {var3} es un integer')\n",
    "\n",
    "if type(var4) == dict:\n",
    "    print(f'\"{var4}\" es un dict')\n",
    "\n",
    "if (type(var4['key1']) == list) ^ (type(var4['key2']) == set):\n",
    "    print('Objeto 1 es un/a {} y objeto 2 es un/a {}; entonces la condición es True'.format(type(var4['key1']), type(var4['key2'])))\n",
    "\n",
    "if not ((type(var4['key1']) == list) ^ (type(var4['key2']) == list)):\n",
    "    print('Objeto 1 es un/a {} y objeto 2 es un/a {}; entonces la condición es True'.format(type(var4['key1']), type(var4['key2'])))"
   ]
  },
  {
   "cell_type": "code",
   "execution_count": 30,
   "id": "d3fa1b27",
   "metadata": {},
   "outputs": [
    {
     "data": {
      "text/plain": [
       "True"
      ]
     },
     "execution_count": 30,
     "metadata": {},
     "output_type": "execute_result"
    }
   ],
   "source": [
    "type(var4['key1']) == list"
   ]
  },
  {
   "cell_type": "code",
   "execution_count": null,
   "id": "a5cea20b",
   "metadata": {},
   "outputs": [],
   "source": []
  }
 ],
 "metadata": {
  "kernelspec": {
   "display_name": "Python 3 (ipykernel)",
   "language": "python",
   "name": "python3"
  },
  "language_info": {
   "codemirror_mode": {
    "name": "ipython",
    "version": 3
   },
   "file_extension": ".py",
   "mimetype": "text/x-python",
   "name": "python",
   "nbconvert_exporter": "python",
   "pygments_lexer": "ipython3",
   "version": "3.8.16"
  }
 },
 "nbformat": 4,
 "nbformat_minor": 5
}
