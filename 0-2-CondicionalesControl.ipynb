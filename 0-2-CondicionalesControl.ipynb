{
 "cells": [
  {
   "cell_type": "markdown",
   "id": "74b26776-1b57-456a-8d20-c519da19192b",
   "metadata": {},
   "source": [
    "# Operadores Lógicos, Condicionales y Estructuras de Control"
   ]
  },
  {
   "cell_type": "markdown",
   "id": "4f97768b",
   "metadata": {},
   "source": [
    "***\n",
    "## Operadores Lógicos"
   ]
  },
  {
   "cell_type": "markdown",
   "id": "496f72b3",
   "metadata": {},
   "source": [
    "Los operadores de comparación se utilizan para comparar valores y determinar la relación entre ellos. Son esenciales para crear condiciones que guíen el flujo de su programa en función de los resultados de estas comparaciones.\n",
    "\n",
    "Los operadores de comparación le permiten comparar variables o valores y obtener un resultado booleano (```True``` o ```False```). Estas comparaciones son fundamentales para tomar decisiones en tu programa en función de las condiciones. Por ejemplo, puede utilizar estos operadores para verificar si un valor es igual a otro, si es mayor o menor que, o si se encuentra dentro de un rango específico."
   ]
  },
  {
   "cell_type": "code",
   "execution_count": null,
   "id": "0537e7b2",
   "metadata": {},
   "outputs": [],
   "source": [
    "x = 10\n",
    "y = 20\n",
    "\n",
    "# Equal to / iguales\n",
    "print(x == y)   # Output: False\n",
    "\n",
    "# Not equal to / diferentes\n",
    "print(x != y)   # Output: True\n",
    "\n",
    "# Less than / menor que\n",
    "print(x < y)    # Output: True\n",
    "\n",
    "# Greater than / mayor que\n",
    "print(x > y)    # Output: False\n",
    "\n",
    "# Less than or equal to / menor o igual que\n",
    "print(x <= y)   # Output: True\n",
    "\n",
    "# Greater than or equal to / mayor o igual que\n",
    "print(x >= y)   # Output: False\n"
   ]
  },
  {
   "cell_type": "markdown",
   "id": "1e9dbf04",
   "metadata": {},
   "source": [
    "### Combinación de Operadores Lógicos"
   ]
  },
  {
   "cell_type": "code",
   "execution_count": null,
   "id": "2fdb1a1d",
   "metadata": {},
   "outputs": [],
   "source": [
    "x = 10\n",
    "y = 20\n",
    "z = 5\n",
    "\n",
    "# Using 'and' logical operator / requiere que ambas condiciones se cumplan para que su resultado sea True\n",
    "print(x < y and y > z)  # Output: True\n",
    "print(x < y & y > z) "
   ]
  },
  {
   "cell_type": "code",
   "execution_count": null,
   "id": "00b0207f",
   "metadata": {},
   "outputs": [],
   "source": [
    "# Using 'or' logical operator / requiere que alguna de las condiciones se cumpla para que su resultado sea True\n",
    "print(x < y or z < x)   # Output: True\n",
    "print(x < y | z < x)"
   ]
  },
  {
   "cell_type": "code",
   "execution_count": null,
   "id": "5c01ef54",
   "metadata": {},
   "outputs": [],
   "source": [
    "# Using 'not' logical operator / es el complemento del resultado\n",
    "print(not x > y)        # Output: True"
   ]
  },
  {
   "cell_type": "code",
   "execution_count": null,
   "id": "055d3d02",
   "metadata": {},
   "outputs": [],
   "source": [
    "# Using multiple conditions / múltiples condiciones\n",
    "print((x > y) or (x <= y and z < x))"
   ]
  },
  {
   "cell_type": "code",
   "execution_count": null,
   "id": "beb0551f",
   "metadata": {},
   "outputs": [],
   "source": [
    "x = True\n",
    "y = False\n",
    "z = True\n",
    "\n",
    "result = x ^ y\n",
    "print(result)  # Output: True\n",
    "\n",
    "result = x ^ z\n",
    "print(result)  # Output: False"
   ]
  },
  {
   "cell_type": "markdown",
   "id": "917120c9",
   "metadata": {},
   "source": [
    "***\n",
    "## Condicionales\n",
    "\n",
    "El uso del ```if``` y demás palabras \"clave\" (```elif``` y ```else```) permite al usuario controlar el flujo de la información y setear condiciones para la realización de los cálculos. Son útiles para chequear sin un determinado resultado es el que estabamos buscando, filtrar  información con determinada característica, delimitar rangos para cierto valor, etc."
   ]
  },
  {
   "cell_type": "code",
   "execution_count": null,
   "id": "293a23a4",
   "metadata": {},
   "outputs": [],
   "source": [
    "a = 50\n",
    "\n",
    "if a > 25:\n",
    "    print(\"El número es {} y es mayor a 25.\".format(a))"
   ]
  },
  {
   "cell_type": "code",
   "execution_count": null,
   "id": "d52558bf",
   "metadata": {},
   "outputs": [],
   "source": [
    "a = 10\n",
    "b = 80\n",
    "\n",
    "if a + b > 20:\n",
    "    print(\"Son más grandes!\")\n",
    "else:\n",
    "    print(\"Son más chicos!\")"
   ]
  },
  {
   "cell_type": "code",
   "execution_count": null,
   "id": "765557f7",
   "metadata": {},
   "outputs": [],
   "source": [
    "nota = 73\n",
    "\n",
    "if nota > 90:\n",
    "    calificacion = \"A\"\n",
    "elif nota <= 90 and nota > 75:\n",
    "    calificacion = \"B\"\n",
    "elif nota <= 75 and nota >= 60:\n",
    "    calificacion = \"C\"\n",
    "else:\n",
    "    calificacion = \"D\"\n",
    "    \n",
    "print(\"La calificación fue una {}.\".format(calificacion)) "
   ]
  },
  {
   "cell_type": "code",
   "execution_count": null,
   "id": "903aaebb",
   "metadata": {},
   "outputs": [],
   "source": [
    "if nota >= 60:\n",
    "    if nota >= 75:\n",
    "        if nota > 90:\n",
    "            calificacion = 'A'\n",
    "        else:\n",
    "            calificacion = 'B'\n",
    "    else:\n",
    "        calificacion = 'C'\n",
    "else:\n",
    "    calificacion = \"D\"     \n",
    "\n",
    "print(\"La calificación fue una {}.\".format(calificacion)) "
   ]
  },
  {
   "cell_type": "code",
   "execution_count": null,
   "id": "0f7485bd",
   "metadata": {},
   "outputs": [],
   "source": [
    "dia = 5\n",
    "\n",
    "if dia < 15:\n",
    "    print(\"Primer quincena\")\n",
    "    if dia <= 7:\n",
    "        print(\"Primer semana\")\n",
    "    else:\n",
    "        print(\"Segunda semana\")\n",
    "else:\n",
    "    print(\"Segunda quincena\")\n",
    "    if dia < 23:\n",
    "        print('Tercer semana')\n",
    "    else:\n",
    "        print(\"Cuarta semana\")"
   ]
  },
  {
   "cell_type": "code",
   "execution_count": null,
   "id": "11eff7b5",
   "metadata": {},
   "outputs": [],
   "source": [
    "x = 50\n",
    "y = 100\n",
    "z = 200\n",
    "\n",
    "if (x < 40) and (x+y < 200):\n",
    "    print('Primer if')\n",
    "elif (z > x) or (x + y + z <= 300):\n",
    "    print('Primer elif')\n",
    "elif (x + y == z) ^ (2 * x < 125):\n",
    "    print('Segundo elif')\n",
    "else:\n",
    "    print('Else')"
   ]
  },
  {
   "cell_type": "code",
   "execution_count": null,
   "id": "ab08405c",
   "metadata": {},
   "outputs": [],
   "source": [
    "x = [1, 2, 4, 8, 16]\n",
    "\n",
    "if sum(x) > 25:\n",
    "    if x[-1] == 16:\n",
    "        print('Condición 0 - 0')\n",
    "    else:\n",
    "        print('Condición 0 - 1')\n",
    "\n",
    "elif (x[0] < 5) and (x[1] + x[2] == 10):\n",
    "    print('Condición 1')\n",
    "\n",
    "else:\n",
    "    print('No se cumple ninguna condición') "
   ]
  },
  {
   "cell_type": "code",
   "execution_count": null,
   "id": "ec378c08",
   "metadata": {},
   "outputs": [],
   "source": [
    "var1 = 'test'\n",
    "var2 = 3.14\n",
    "var3 = 5\n",
    "var4 = {'key1': [1, 2, 3], 'key2': [4, 5, 6]}\n",
    "\n",
    "if type(var1) != str:\n",
    "    print(var1, 'no es un string')\n",
    "else:\n",
    "    print(f'\"{var1}\" es un string')\n",
    "\n",
    "\n",
    "if isinstance(var2, float) and isinstance(var3, int):\n",
    "    print(f'{var2} es un float y {var3} es un integer')\n",
    "\n",
    "if type(var4) == dict:\n",
    "    print(f'\"{var4}\" es un dict')\n",
    "\n",
    "if (type(var4['key1']) == list) ^ (type(var4['key2']) == set):\n",
    "    print('Objeto 1 es un/a {} y objeto 2 es un/a {}; entonces la condición es True'.format(type(var4['key1']), type(var4['key2'])))\n",
    "\n",
    "if not ((type(var4['key1']) == list) ^ (type(var4['key2']) == list)):\n",
    "    print('Objeto 1 es un/a {} y objeto 2 es un/a {}; entonces la condición es True'.format(type(var4['key1']), type(var4['key2'])))"
   ]
  },
  {
   "cell_type": "markdown",
   "id": "a5cea20b",
   "metadata": {},
   "source": [
    "***\n",
    "## Loops\n",
    "\n",
    "Los bucles permiten automatizar tareas repetitivas, iterar secuencias y crear programas dinámicos y eficientes.\n",
    "\n",
    "Existes dos tipos de loops:\n",
    "* ```for```: un 'loop for' es una estructura de control que itera sobre una secuencia de elementos (como una lista, tupla o cadena) y ejecuta un bloque de código para cada elemento.\n",
    "* ```while```: Un 'loop while' es una estructura de control que ejecuta un bloque de código repetidamente siempre que una condición especificada siga siendo verdadera."
   ]
  },
  {
   "cell_type": "markdown",
   "id": "cf84c604",
   "metadata": {},
   "source": [
    "### For loop"
   ]
  },
  {
   "cell_type": "code",
   "execution_count": null,
   "id": "b93b0499",
   "metadata": {},
   "outputs": [],
   "source": [
    "# loop a través de una lista\n",
    "materias = ['Análisis', 'Álgrebra', 'Estadística', 'IPC', 'Historia']\n",
    "\n",
    "for i in materias:\n",
    "    print(i)"
   ]
  },
  {
   "cell_type": "code",
   "execution_count": null,
   "id": "98093d92",
   "metadata": {},
   "outputs": [],
   "source": [
    "# loop a través de un string\n",
    "s = \"Estadística\"\n",
    "\n",
    "for l in s:\n",
    "    print(l)"
   ]
  },
  {
   "cell_type": "markdown",
   "id": "c8271fc3",
   "metadata": {},
   "source": [
    "* ¿Cuál es la diferencia entre los dos fragmentos de código que se presentan a continuación?"
   ]
  },
  {
   "cell_type": "code",
   "execution_count": null,
   "id": "deb20671",
   "metadata": {},
   "outputs": [],
   "source": [
    "# loop con alguna condición\n",
    "materias = [\"IPC\", \"Historia\", \"Álgebra\", \"Análisis\"]\n",
    "\n",
    "for m in materias:\n",
    "    print(m)\n",
    "    if m == \"Álgebra\":  # termina el loop una vez encontrada esa condición\n",
    "        break"
   ]
  },
  {
   "cell_type": "code",
   "execution_count": null,
   "id": "bc9077de",
   "metadata": {},
   "outputs": [],
   "source": [
    "# loop con alguna condición\n",
    "materias = [\"IPC\", \"Historia\", \"Álgebra\", \"Análisis\"]\n",
    "\n",
    "for m in materias:\n",
    "    if m == \"Álgebra\":   # termina el loop una vez encontrada esa condición\n",
    "        break      \n",
    "    print(m)"
   ]
  },
  {
   "cell_type": "markdown",
   "id": "368f4cdf",
   "metadata": {},
   "source": [
    "#### Range"
   ]
  },
  {
   "cell_type": "code",
   "execution_count": null,
   "id": "3a49c83c",
   "metadata": {},
   "outputs": [],
   "source": [
    "for i in range(10):\n",
    "    print(i)"
   ]
  },
  {
   "cell_type": "code",
   "execution_count": null,
   "id": "33e5dcbf",
   "metadata": {},
   "outputs": [],
   "source": [
    "for i in range(1, 10):\n",
    "    print(i)"
   ]
  },
  {
   "cell_type": "code",
   "execution_count": null,
   "id": "8c061dd7",
   "metadata": {},
   "outputs": [],
   "source": [
    "for i in range(1, 11):\n",
    "    print(i)"
   ]
  },
  {
   "cell_type": "code",
   "execution_count": null,
   "id": "673741ee",
   "metadata": {},
   "outputs": [],
   "source": [
    "for i in range(0, 110, 10):\n",
    "    print(i)"
   ]
  },
  {
   "cell_type": "code",
   "execution_count": 75,
   "id": "1506ec38",
   "metadata": {},
   "outputs": [
    {
     "name": "stdout",
     "output_type": "stream",
     "text": [
      "0 por 3 es igual a 0 y es divisible por 2.\n",
      "1 por 3 es igual a 3 y es no divisible por 2.\n",
      "2 por 3 es igual a 6 y es divisible por 2.\n",
      "3 por 3 es igual a 9 y es no divisible por 2.\n",
      "4 por 3 es igual a 12 y es divisible por 2.\n",
      "5 por 3 es igual a 15 y es no divisible por 2.\n"
     ]
    }
   ],
   "source": [
    "for i in range(6):\n",
    "    x = i*3\n",
    "    if x % 2 == 0:\n",
    "        print(i,\"por 3 es igual a\",x,\"y es divisible por 2.\")\n",
    "    else:\n",
    "        print(i,\"por 3 es igual a\",x,\"y es no divisible por 2.\")"
   ]
  },
  {
   "cell_type": "code",
   "execution_count": null,
   "id": "99c91beb",
   "metadata": {},
   "outputs": [],
   "source": [
    "# permite sumar valores de forma acumulativa\n",
    "\n",
    "for i in range(101):\n",
    "    res += i\n",
    "\n",
    "print(res)"
   ]
  },
  {
   "cell_type": "markdown",
   "id": "d5ad52d0",
   "metadata": {},
   "source": [
    "#### Zip"
   ]
  },
  {
   "cell_type": "code",
   "execution_count": null,
   "id": "8c5f0fcf",
   "metadata": {},
   "outputs": [],
   "source": [
    "# loops anidados ( o nested loops)\n",
    "\n",
    "estudiantes = [\"María\", \"Juan\", \"Sofía\"]\n",
    "notas = [9,7]\n",
    "\n",
    "for e in estudiantes:  # recorre ambas listas y hace todas las posibles combinaciones\n",
    "    for n in notas:\n",
    "        print(e,n)"
   ]
  },
  {
   "cell_type": "code",
   "execution_count": null,
   "id": "47ee43c5",
   "metadata": {},
   "outputs": [],
   "source": [
    "# loop con con zip() para iterar por ambas listas en paralelo y una condición el terminar el loop\n",
    "\n",
    "estudiantes = [\"María\", \"Juan\", \"Sofía\", \"Pedro\"]\n",
    "notas = [9,7,8,6]\n",
    "\n",
    "for e, n in zip(estudiantes, notas):\n",
    "    print(e, n)\n",
    "\n",
    "l = len(estudiantes)\n",
    "prom = sum(notas) / l\n",
    "print(\"\\nEn total hay {} estudiantes y el promedio es {}.\".format(l, prom))"
   ]
  },
  {
   "cell_type": "markdown",
   "id": "84775a2e",
   "metadata": {},
   "source": [
    "#### Enumerate"
   ]
  },
  {
   "cell_type": "code",
   "execution_count": null,
   "id": "0d446a96",
   "metadata": {},
   "outputs": [],
   "source": [
    "for enum, j in enumerate(['Argentina', 'Francia', 'Croacia', 'Marruecos']):\n",
    "    print(f'Puesto #{enum + 1}: {j}')"
   ]
  },
  {
   "cell_type": "code",
   "execution_count": null,
   "id": "39a48507",
   "metadata": {},
   "outputs": [],
   "source": [
    "provincias = ['Buenos Aires', 'Córdoba', 'Misiones']\n",
    "capitales = ['La Plata', 'Córdoba', 'Posadas']\n",
    "\n",
    "for enum, (provincia, capital) in enumerate(zip(provincias, capitales)):\n",
    "    print(f'Index {enum} --> Provincia: {provincia} | Capital: {capital}')"
   ]
  },
  {
   "cell_type": "markdown",
   "id": "b88ac798",
   "metadata": {},
   "source": [
    "***\n",
    "### While Loop"
   ]
  },
  {
   "cell_type": "code",
   "execution_count": 9,
   "id": "47d7b306",
   "metadata": {},
   "outputs": [],
   "source": [
    "from time import sleep"
   ]
  },
  {
   "cell_type": "code",
   "execution_count": 13,
   "id": "718cd48a",
   "metadata": {},
   "outputs": [
    {
     "name": "stdout",
     "output_type": "stream",
     "text": [
      "Valor de c: 10 --> es menor que 10 --> entra otra vez al \"while loop\"\n",
      "-- Valor final de c: 10 --"
     ]
    }
   ],
   "source": [
    "c = 0\n",
    "\n",
    "while c < 10: # condición que se debe cumplir para que se ejecute el loop\n",
    "    c += 1 # actualiza el estado de la variable sobre la que se analiza la condición\n",
    "    print(f'Valor de c: {c} --> es menor que 10 --> entra otra vez al \"while loop\"', end = '\\r')\n",
    "    sleep(1)\n",
    "\n",
    "print(\"\")\n",
    "print(f'-- Valor final de c: {c} --', end = '')\n"
   ]
  },
  {
   "cell_type": "markdown",
   "id": "2773cba9",
   "metadata": {},
   "source": [
    "* Es de suma importancia no olvidarse de actualizar el estado de la variable sobre la cual se computa la/s condiciones.\n",
    "* Si por ejemplo, la variable **c** no hubiese aumentado de valor, nunca hubiese alcanzado el valor de 10 y, por ende, el *loop* correría de manera infinita."
   ]
  },
  {
   "cell_type": "code",
   "execution_count": 27,
   "id": "acfeb23a",
   "metadata": {},
   "outputs": [
    {
     "name": "stdout",
     "output_type": "stream",
     "text": [
      "Edad: 65\n",
      "Salario: 260032\n",
      "Años de Experiencia: 48\n"
     ]
    }
   ],
   "source": [
    "edad = 0\n",
    "experiencia = 0\n",
    "sueldo = 25_000\n",
    "tasa = 0.05\n",
    "\n",
    "while (edad < 65) and (sueldo < 500_000): # cuando se cumpla alguna de las dos condiciones, el loop se detiene\n",
    "    \n",
    "    edad += 1 # crece un año la persona\n",
    "    \n",
    "    if edad >= 18:\n",
    "        experiencia += 1 # por cada año de trabajo, gana un año de experiencia\n",
    "\n",
    "        sueldo = sueldo * (1 + tasa) # su sueldo aumenta un n% por año\n",
    "\n",
    "print(f'Edad: {edad}\\nSalario: {round(sueldo)}\\nAños de Experiencia: {experiencia}')"
   ]
  },
  {
   "cell_type": "markdown",
   "id": "b63d7225",
   "metadata": {},
   "source": [
    "***\n",
    "## List and Dict Comprehension\n",
    "\n",
    "*List comprehension* y *dictionary comprehension* son una forma compacta de crear nuevas ```list``` o ```dict``` en Python a través de la aplicación de determiandas expresiones a secuencias exisitentes, ya sean ```list```, ```tuple``` o cualquier otro tipo de objeto que sea **iterable**."
   ]
  },
  {
   "cell_type": "markdown",
   "id": "ef35eeaf",
   "metadata": {},
   "source": [
    "### List Comprehension\n",
    "\n",
    "```python\n",
    "\n",
    "new_list = [expression for item in iterable if condition]\n",
    "\n",
    "```\n",
    "* ```expression```: la operación a realizar en cada item de la secuencia.\n",
    "* ```item```: variable que toma cada valor del objeto iterable, uno a la vez de forma secuencial.\n",
    "* ```iterable```: objeto iterable que determina la secuencia de valores.\n",
    "* ```condition```: (*opcional*) filtros o condiciones que determinan si un elemento se excluye de la nueva lista."
   ]
  },
  {
   "cell_type": "code",
   "execution_count": null,
   "id": "417f470d",
   "metadata": {},
   "outputs": [],
   "source": [
    "lista = [elem for elem in range(10)]\n",
    "print(lista)"
   ]
  },
  {
   "cell_type": "code",
   "execution_count": 40,
   "id": "61ca6bd6",
   "metadata": {},
   "outputs": [
    {
     "name": "stdout",
     "output_type": "stream",
     "text": [
      "[1, 4, 9, 16, 25]\n"
     ]
    }
   ],
   "source": [
    "# Ejemplo: generar lista con el cuadrado de los números del 1 al 5\n",
    "\n",
    "squares = [x ** 2 for x in range(1, 6)]\n",
    "print(squares)"
   ]
  },
  {
   "cell_type": "code",
   "execution_count": 42,
   "id": "b4fed5dc",
   "metadata": {},
   "outputs": [
    {
     "name": "stdout",
     "output_type": "stream",
     "text": [
      "[2, 4, 6, 8, 10]\n"
     ]
    }
   ],
   "source": [
    "# Ejemplo: generar lista con los números pares del 1 al 10\n",
    "\n",
    "pares = [x for x in range(1, 11) if x % 2 == 0] # condición que filtra solo los números pares\n",
    "print(pares)"
   ]
  },
  {
   "cell_type": "code",
   "execution_count": 43,
   "id": "a824caf7",
   "metadata": {},
   "outputs": [
    {
     "name": "stdout",
     "output_type": "stream",
     "text": [
      "[4, 16, 36, 64, 100]\n"
     ]
    }
   ],
   "source": [
    "# Ejemplo: combinación de los dos casos anteriores\n",
    "\n",
    "combinado = [x ** 2 for x in range(1, 11) if x % 2 == 0]\n",
    "print(combinado)"
   ]
  },
  {
   "cell_type": "markdown",
   "id": "812df9b4",
   "metadata": {},
   "source": [
    "### Dict Comprehension"
   ]
  },
  {
   "cell_type": "code",
   "execution_count": 4,
   "id": "961d9a53",
   "metadata": {},
   "outputs": [
    {
     "name": "stdout",
     "output_type": "stream",
     "text": [
      "{'key_1': 0, 'key_2': 1, 'key_3': 2}\n"
     ]
    }
   ],
   "source": [
    "d = {k: v for k, v in zip(['key_1', 'key_2', 'key_3'], range(3))}\n",
    "print(d)"
   ]
  },
  {
   "cell_type": "code",
   "execution_count": 2,
   "id": "3e1a4a7e",
   "metadata": {},
   "outputs": [
    {
     "name": "stdout",
     "output_type": "stream",
     "text": [
      "{1: 1, 2: 4, 3: 9, 4: 16, 5: 25}\n"
     ]
    }
   ],
   "source": [
    "# Ejemplo: generar dict con el cuadrado de los números del 1 al 5\n",
    "\n",
    "square_dict = {x: x ** 2 for x in range(1, 6)}\n",
    "print(square_dict)"
   ]
  },
  {
   "cell_type": "code",
   "execution_count": 1,
   "id": "d0ff62d6",
   "metadata": {},
   "outputs": [
    {
     "name": "stdout",
     "output_type": "stream",
     "text": [
      "{2: 4, 4: 16, 6: 36, 8: 64, 10: 100}\n"
     ]
    }
   ],
   "source": [
    "# Ejemplo: generar dict con los números pares del 1 al 10\n",
    "\n",
    "even_square_dict = {x: x ** 2 for x in range(1, 11) if x % 2 == 0} # condición que filtra solo los números pares\n",
    "print(even_square_dict)"
   ]
  },
  {
   "cell_type": "code",
   "execution_count": 4,
   "id": "c3d39650-1799-4f0d-914b-adb31d32d9bf",
   "metadata": {},
   "outputs": [
    {
     "name": "stdout",
     "output_type": "stream",
     "text": [
      "{4: 16, 6: 36, 8: 64, 10: 100}\n"
     ]
    }
   ],
   "source": [
    "# Ejemplo: generar dict con los números pares del 1 al 10 cuyo cuadrado sea mayor a 10\n",
    "\n",
    "even_square_dict = {x: x ** 2 for x in range(1, 11) if x % 2 == 0 and x ** 2 > 10}\n",
    "print(even_square_dict)"
   ]
  },
  {
   "cell_type": "code",
   "execution_count": null,
   "id": "4c7ad7a6-319a-4ae2-a645-87d06b259453",
   "metadata": {},
   "outputs": [],
   "source": []
  }
 ],
 "metadata": {
  "kernelspec": {
   "display_name": "Python 3 (ipykernel)",
   "language": "python",
   "name": "python3"
  },
  "language_info": {
   "codemirror_mode": {
    "name": "ipython",
    "version": 3
   },
   "file_extension": ".py",
   "mimetype": "text/x-python",
   "name": "python",
   "nbconvert_exporter": "python",
   "pygments_lexer": "ipython3",
   "version": "3.8.16"
  }
 },
 "nbformat": 4,
 "nbformat_minor": 5
}
