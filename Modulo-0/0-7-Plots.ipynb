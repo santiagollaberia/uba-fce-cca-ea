{
 "cells": [
  {
   "cell_type": "markdown",
   "id": "065740b1-99b6-4391-a7c6-ca6fb4b114ce",
   "metadata": {},
   "source": [
    "# Plots (Gráficos)\n",
    "\n",
    "El uso de gráficos en el análisis de datos es esencial para transformar información cruda en percepciones significativas y comprensibles. Los gráficos no solo facilitan la identificación de patrones y tendencias, sino que también mejoran la comunicación de resultados a audiencias diversas. En el análisis de datos, los gráficos sirven como herramientas poderosas que permiten visualizar datos de manera efectiva y facilitan la toma de decisiones informadas.\n",
    "\n",
    "La importancia de los gráficos radica en su capacidad para simplificar datos complejos y abstractos, haciendo que la información sea más accesible. Los beneficios incluyen la capacidad de revelar patrones, destacar anomalías, y proporcionar una visión rápida de las relaciones entre variables. Además, los gráficos son herramientas persuasivas que pueden ayudar a comunicar resultados a audiencias no técnicas, facilitando una comprensión más profunda de los insights extraídos del análisis de datos.\n",
    "\n",
    "**Pandas**, una biblioteca popular de Python para análisis de datos, proporciona herramientas integradas para crear gráficos de manera rápida y sencilla. Esta funcionalidad simplifica la visualización de datos directamente desde estructuras de datos como DataFrames, permitiendo a los usuarios explorar y entender rápidamente la distribución y relaciones en sus conjuntos de datos.\n",
    "\n",
    "Por otro lado, las bibliotecas externas **Matplotlib** y **Seaborn** ofrecen funcionalidades más avanzadas y personalizables para la creación de gráficos. Matplotlib es una biblioteca de visualización de datos ampliamente utilizada que proporciona un control detallado sobre el diseño y estilo de los gráficos. Seaborn, construida sobre Matplotlib, simplifica aún más la creación de gráficos atractivos con menos código, ofreciendo paletas de colores y estilos predefinidos.\n",
    "\n"
   ]
  },
  {
   "cell_type": "markdown",
   "id": "2c7cfd82",
   "metadata": {},
   "source": [
    "***\n",
    "## Pandas ```.plot(...)```"
   ]
  },
  {
   "cell_type": "markdown",
   "id": "aa46fb95",
   "metadata": {},
   "source": [
    "La clase ```pd.DataFrame```, de la librería Pandas, posee el método llamado ```.plot()```. Este método otorga al usuario la capacidad de obtener un rápido y cómodo acceso a diversos gráficos. Estos gráficos toman la data del ```pd.DataFrame``` o de una ```pd.Series```.\n",
    "\n",
    "* [Pandas plot() Documentación Oficial](https://pandas.pydata.org/docs/reference/api/pandas.DataFrame.plot.html)\n",
    "* [w3schools Pandas plot()](https://www.w3schools.com/python/pandas/pandas_plotting.asp)\n",
    "\n",
    "A continuación, se presentan algunos de los principales gráficos disponibles:"
   ]
  },
  {
   "cell_type": "code",
   "execution_count": null,
   "id": "f76e99d7",
   "metadata": {},
   "outputs": [],
   "source": [
    "### Imports ###\n",
    "import pandas as pd\n",
    "import numpy as np"
   ]
  },
  {
   "cell_type": "markdown",
   "id": "aa843a01",
   "metadata": {},
   "source": [
    "### Gráfico de línea - lineplot"
   ]
  },
  {
   "cell_type": "code",
   "execution_count": null,
   "id": "81e0ce75",
   "metadata": {},
   "outputs": [],
   "source": [
    "# Generar puntos aleatorios\n",
    "np.random.seed(42)\n",
    "num_points = 100\n",
    "random_data = np.cumsum(np.random.randn(num_points))\n",
    "\n",
    "# Generar la pd.Series\n",
    "data = pd.Series(random_data)\n",
    "\n",
    "# Graficar usando el método .plot()\n",
    "data.plot(kind='line')"
   ]
  },
  {
   "cell_type": "markdown",
   "id": "b117ffba",
   "metadata": {},
   "source": [
    "### Gráfico de barras - barplot"
   ]
  },
  {
   "cell_type": "code",
   "execution_count": null,
   "id": "7ad8e99b",
   "metadata": {},
   "outputs": [],
   "source": [
    "num_points = 10\n",
    "categorias = ['A', 'B', 'C', 'D']\n",
    "random_data = np.random.randint(1, 10, size=(num_points, len(categorias)))\n",
    "\n",
    "data = pd.DataFrame(random_data, columns=categorias)\n",
    "data.plot(kind='bar', stacked=True)"
   ]
  },
  {
   "cell_type": "code",
   "execution_count": null,
   "id": "3b08b45e",
   "metadata": {},
   "outputs": [],
   "source": [
    "data.plot(kind='bar')"
   ]
  },
  {
   "cell_type": "markdown",
   "id": "3403f654",
   "metadata": {},
   "source": [
    "### Histograma - histogram"
   ]
  },
  {
   "cell_type": "code",
   "execution_count": null,
   "id": "930e6490",
   "metadata": {},
   "outputs": [],
   "source": [
    "num_points = 1000\n",
    "random_data = np.random.normal(2, 1.5, size = num_points)\n",
    "\n",
    "# Generar la pd.Series\n",
    "data = pd.Series(random_data)\n",
    "\n",
    "# Graficar usando el método .plot()\n",
    "data.plot(kind='hist')"
   ]
  },
  {
   "cell_type": "markdown",
   "id": "a8ad27e6",
   "metadata": {},
   "source": [
    "### Gráfico de Densidad - kdeplot"
   ]
  },
  {
   "cell_type": "code",
   "execution_count": null,
   "id": "f9058e25",
   "metadata": {},
   "outputs": [],
   "source": [
    "num_points = 1000\n",
    "random_data = np.random.normal(2, 1.5, size = num_points)\n",
    "\n",
    "# Generar la pd.Series\n",
    "data = pd.Series(random_data)\n",
    "\n",
    "# Graficar usando el método .plot()\n",
    "data.plot(kind='kde')"
   ]
  },
  {
   "cell_type": "markdown",
   "id": "563139bc",
   "metadata": {},
   "source": [
    "### Gráfico de Dispersión - scatterplot"
   ]
  },
  {
   "cell_type": "code",
   "execution_count": null,
   "id": "b6a697be",
   "metadata": {},
   "outputs": [],
   "source": [
    "num_points = 100\n",
    "data_x = np.random.randint(1, 200, size=num_points) * np.random.normal(1, 0.2, size=num_points)\n",
    "data_y = np.random.randint(-10, 10, size=num_points) + data_x * np.random.normal(1.5, 0.5, size=num_points) \n",
    "\n",
    "data = pd.DataFrame(data = {'x': data_x, 'y': data_y})\n",
    "\n",
    "data.plot(kind='scatter', x='x', y='y')"
   ]
  },
  {
   "cell_type": "markdown",
   "id": "4efba5bc",
   "metadata": {},
   "source": [
    "***\n",
    "## Matplotlib\n",
    "\n",
    "**Links útiles**\n",
    "* [Matplotlib - Quick start guide](https://matplotlib.org/stable/users/explain/quick_start.html#a-simple-example)\n",
    "* [Matplotlib - Cheatsheet](https://matplotlib.org/cheatsheets/)\n",
    "\n",
    "\n",
    "Para importar la librería usaremos el siguiente comando:"
   ]
  },
  {
   "cell_type": "code",
   "execution_count": null,
   "id": "dee840f4",
   "metadata": {},
   "outputs": [],
   "source": [
    "import matplotlib.pyplot as plt\n",
    "\n",
    "# alternativamente, usar: from matplotlib import pyplot as plt"
   ]
  },
  {
   "cell_type": "markdown",
   "id": "80321b73",
   "metadata": {},
   "source": [
    "### Figuras y Ejes (Figures and Axes):\n"
   ]
  },
  {
   "cell_type": "markdown",
   "id": "6c55095e",
   "metadata": {},
   "source": [
    "\n",
    "#### Figuras:\n",
    "\n",
    "* Definición: Una figura es la ventana o página en la que se crea o dibuja un gráfico. Puedes pensar en ella como el lienzo en blanco donde se construye tu visualización.\n",
    "* Creación: Para crear una figura, puedes usar ```plt.figure()```."
   ]
  },
  {
   "cell_type": "code",
   "execution_count": null,
   "id": "1b995a78",
   "metadata": {},
   "outputs": [],
   "source": [
    "fig = plt.figure(figsize=(9, 6)) # figsize le cambia el tamaño"
   ]
  },
  {
   "cell_type": "markdown",
   "id": "4ce4d763",
   "metadata": {},
   "source": [
    "#### Ejes:\n",
    "* Definición: Los ejes son las áreas dentro de una figura donde se representan los datos. Puedes tener varios ejes en una sola figura."
   ]
  },
  {
   "cell_type": "code",
   "execution_count": null,
   "id": "d7599a30",
   "metadata": {},
   "outputs": [],
   "source": [
    "# Creación de ejes usando add_axes()\n",
    "ax = fig.add_axes([0.1, 0.1, 0.8, 0.8])  # [left, bottom, width, height]"
   ]
  },
  {
   "cell_type": "markdown",
   "id": "b3f73202",
   "metadata": {},
   "source": [
    "### Subgráficos (Subplots):"
   ]
  },
  {
   "cell_type": "markdown",
   "id": "0fd4f855",
   "metadata": {},
   "source": [
    "#### Creación de Subgráficos:\n",
    "* Definición: Los subgráficos son disposiciones de ejes en una figura, permitiéndote mostrar varios gráficos en una sola figura.\n",
    "* Creación: Puedes crear subgráficos utilizando ```plt.subplots(rows, cols)```."
   ]
  },
  {
   "cell_type": "code",
   "execution_count": null,
   "id": "5e2fd265",
   "metadata": {},
   "outputs": [],
   "source": [
    "fig, axes = plt.subplots(nrows=2, ncols=2)"
   ]
  },
  {
   "cell_type": "markdown",
   "id": "36147139",
   "metadata": {},
   "source": [
    "#### Acceso a Ejes en Subgráficos:\n",
    "Puedes acceder a ejes específicos en subgráficos utilizando la notación de matriz. *(elementos a modo de ejemplo)*\n",
    "\n",
    "```python\n",
    "axes[0, 0].plot(x, y1)\n",
    "axes[0, 1].scatter(x, y2)\n",
    "axes[1, 0].bar(categories, values)\n",
    "axes[1, 1].hist(data, bins=20)\n",
    "```"
   ]
  },
  {
   "cell_type": "markdown",
   "id": "5dd3f3c6",
   "metadata": {},
   "source": [
    "### Detalles Adicionales:"
   ]
  },
  {
   "cell_type": "markdown",
   "id": "ead9d259",
   "metadata": {},
   "source": [
    "```python\n",
    "    ### Títulos y etiquetas ###\n",
    "    ax.set_title(\"Título del Gráfico\")\n",
    "    ax.set_xlabel(\"Etiqueta del Eje X\")\n",
    "    ax.set_ylabel(\"Etiqueta del Eje Y\")\n",
    "\n",
    "    ### Leyendas ###\n",
    "    ax.plot(x, y, label='Serie 1')\n",
    "    ax.legend()\n",
    "\n",
    "    ### Varios ###\n",
    "    ax.plot(x, y, color='red', linestyle='--', marker='o', markersize=8)\n",
    "\n",
    "    ### Escalas y límites ###\n",
    "    ax.set_xlim(0, 10)\n",
    "    ax.set_ylim(0, 100)\n",
    "    ax.set_yscale('log')  # Escala logarítmica en el eje Y\n",
    "```\n"
   ]
  },
  {
   "cell_type": "markdown",
   "id": "8da48da8",
   "metadata": {},
   "source": [
    "***\n",
    "## Seaborn\n",
    "\n",
    "**Links útiles**\n",
    "* [Seaborn - Quick start guide](https://seaborn.pydata.org/)\n",
    "* [Seaborn - Cheatsheet](https://www.datacamp.com/cheat-sheet/python-seaborn-cheat-sheet)\n",
    "\n",
    "\n",
    "Para importar la librería usaremos el siguiente comando:"
   ]
  },
  {
   "cell_type": "code",
   "execution_count": null,
   "id": "b4f5795f",
   "metadata": {},
   "outputs": [],
   "source": [
    "import seaborn as sns"
   ]
  },
  {
   "cell_type": "markdown",
   "id": "31eeadc0",
   "metadata": {},
   "source": [
    "#### Lineplot"
   ]
  },
  {
   "cell_type": "code",
   "execution_count": null,
   "id": "c65fed33",
   "metadata": {},
   "outputs": [],
   "source": [
    "# Genero data\n",
    "x = np.linspace(0, 10, 100)\n",
    "y1 = np.sin(x)\n",
    "y2 = np.cos(x)\n",
    "\n",
    "# Creo las líneas usando Seaborn\n",
    "sns.lineplot(x=x, y=y1, label='Seno', color='blue', linestyle='--')\n",
    "sns.lineplot(x=x, y=y2, label='Coseno', color='red', linestyle='-.')\n",
    "\n",
    "# Títulos y leyendas\n",
    "plt.title('Sine and Cosine Functions')\n",
    "plt.xlabel('x')\n",
    "plt.ylabel('y')\n",
    "\n",
    "plt.legend()\n",
    "\n",
    "plt.show()"
   ]
  },
  {
   "cell_type": "markdown",
   "id": "2419c605",
   "metadata": {},
   "source": [
    "#### Scatterplot"
   ]
  },
  {
   "cell_type": "code",
   "execution_count": null,
   "id": "1c42d6dc",
   "metadata": {},
   "outputs": [],
   "source": [
    "# Genero data\n",
    "np.random.seed(42)\n",
    "x = np.random.normal(0, 1, 100)\n",
    "y = np.random.normal(0, 1, 100)\n",
    "category = np.random.choice(['A', 'B'], 100)\n",
    "\n",
    "# Creo DataFrame\n",
    "df = pd.DataFrame({'X': x, 'Y': y, 'Category': category})\n",
    "\n",
    "# Scatter plot con Seaborn\n",
    "sns.scatterplot(data=df, x='X', y='Y', hue='Category', palette='Set1', alpha=0.8)\n",
    "\n",
    "plt.title('Scatter Plot')\n",
    "plt.xlabel('X')\n",
    "plt.ylabel('Y')\n",
    "\n",
    "plt.show()"
   ]
  },
  {
   "cell_type": "markdown",
   "id": "d569c4a5",
   "metadata": {},
   "source": [
    "#### Histograma"
   ]
  },
  {
   "cell_type": "code",
   "execution_count": null,
   "id": "29e4a4b6",
   "metadata": {},
   "outputs": [],
   "source": [
    "# Genero data\n",
    "np.random.seed(42)\n",
    "data = np.random.normal(0, 1, 1000)\n",
    "\n",
    "# Histograma usando Seaborn\n",
    "sns.histplot(data, bins=30, color='skyblue')\n",
    "\n",
    "plt.title('Histograma')\n",
    "plt.xlabel('Valores')\n",
    "plt.ylabel('Frecuencia')\n",
    "\n",
    "plt.show()"
   ]
  },
  {
   "cell_type": "code",
   "execution_count": null,
   "id": "cf554954",
   "metadata": {},
   "outputs": [],
   "source": [
    "# Genero data\n",
    "np.random.seed(42)\n",
    "data = np.random.normal(0, 1, 1000)\n",
    "\n",
    "# KDE plot con Seaborn\n",
    "sns.kdeplot(data, color='purple', fill=True)\n",
    "\n",
    "plt.title('Kernel Density Estimate (KDE)')\n",
    "plt.xlabel('Valores')\n",
    "plt.ylabel('Densidad')\n",
    "\n",
    "plt.show()"
   ]
  },
  {
   "cell_type": "markdown",
   "id": "5569df24",
   "metadata": {},
   "source": [
    "***\n",
    "**Para explorar las capacidades de Matplotlib y Seaborn se recurrirá al uso de ejemplos. Estos irán aumentando en complejidad.**\n",
    "\n",
    "***Importante***: Matplotlib y Seaborn pueden usarse de forma conjunta dentro de un mismo gráfico."
   ]
  },
  {
   "cell_type": "markdown",
   "id": "fe4d5696",
   "metadata": {},
   "source": [
    "#### Ejemplo 1:"
   ]
  },
  {
   "cell_type": "code",
   "execution_count": null,
   "id": "f4e566cb",
   "metadata": {},
   "outputs": [],
   "source": [
    "# Generar puntos aleatorios\n",
    "np.random.seed(42)\n",
    "num_points = 100\n",
    "random_data_1 = np.cumsum(np.random.randn(num_points))\n",
    "random_data_2 = np.cumsum(np.random.randn(num_points))\n",
    "\n",
    "# Generar la pd.Series\n",
    "serie_1 = pd.Series(random_data_1)\n",
    "serie_2 = pd.Series(random_data_2)"
   ]
  },
  {
   "cell_type": "code",
   "execution_count": null,
   "id": "1a711729",
   "metadata": {},
   "outputs": [],
   "source": [
    "# Genero la estructura para los gráficos\n",
    "fig, axes = plt.subplots(1,2, figsize=(20,6))\n",
    "\n",
    "# Grafico la primer serie\n",
    "axes[0].plot(serie_1, c = 'red')\n",
    "# Defino el título y los nombres de los ejes\n",
    "axes[0].set_title('Lineplot Serie 1')\n",
    "axes[0].set_xlabel('Serie 1 (index)')\n",
    "axes[0].set_ylabel('Valores')\n",
    "\n",
    "# Grafico la segunda serie\n",
    "axes[1].plot(serie_2, c = 'blue')\n",
    "axes[1].set_title('Lineplot Serie 2')\n",
    "axes[1].set_xlabel('Serie 2 (index)')\n",
    "axes[1].set_ylabel('Valores')\n",
    "\n",
    "plt.show()\n"
   ]
  },
  {
   "cell_type": "markdown",
   "id": "b6e26f9d",
   "metadata": {},
   "source": [
    "#### Ejemplo 2"
   ]
  },
  {
   "cell_type": "code",
   "execution_count": null,
   "id": "75fa1c37",
   "metadata": {},
   "outputs": [],
   "source": [
    "# Genero la estructura para los gráficos\n",
    "fig, axes = plt.subplots(1,2, figsize=(20,6))\n",
    "\n",
    "###########################\n",
    "# Gráfico izquierda\n",
    "###########################\n",
    "\n",
    "# Grafico la primer serie\n",
    "axes[0].plot(serie_1, c = 'red', zorder = 0, label = 'Serie')\n",
    "\n",
    "# Calculo el máximo y mínimo de la serie; los localizo en el gráfico\n",
    "\n",
    "x_max = serie_1.idxmax()\n",
    "y_max = serie_1[x_max]\n",
    "\n",
    "axes[0].scatter(x_max, y_max, c = 'yellow', zorder = 10, label = 'Maximo')\n",
    "\n",
    "x_min = serie_1.idxmin()\n",
    "y_min = serie_1[x_min]\n",
    "\n",
    "axes[0].scatter(x_min, y_min, c = 'orange', zorder = 10, label = 'Minimo')\n",
    "\n",
    "# Calculo la media de la serie y la localizo en el gráfico\n",
    "mean = serie_1.mean()\n",
    "\n",
    "axes[0].axhline(mean, linestyle='--', label = 'Media', c= '#fcba03')\n",
    "\n",
    "# Grafico las labels de cada elemento\n",
    "axes[0].legend()\n",
    "\n",
    "# Defino el título y los nombres de los ejes\n",
    "axes[0].set_title('Lineplot Serie 1')\n",
    "axes[0].set_xlabel('Serie 1 (index)')\n",
    "axes[0].set_ylabel('Valores')\n",
    "\n",
    "###########################\n",
    "# Gráfico derecha\n",
    "###########################\n",
    "\n",
    "# Grafico la segunda serie\n",
    "axes[1].plot(serie_2, c = 'blue')\n",
    "\n",
    "axes[1].set_title('Lineplot Serie 2')\n",
    "axes[1].set_xlabel('Serie 2 (index)')\n",
    "axes[1].set_ylabel('Valores')\n",
    "\n",
    "# Calculo percentiles y los localizo en el gráfico\n",
    "\n",
    "q25, q50, q75 = serie_2.quantile([0.25, 0.50, 0.75])\n",
    "\n",
    "axes[1].axhline(q25, linestyle='--', label = 'Q25', c= '#03fc3d')\n",
    "axes[1].axhline(q50, linestyle='--', label = 'Q50', c= '#26b021')\n",
    "axes[1].axhline(q75, linestyle='--', label = 'Q75', c= '#03fc3d')\n",
    "\n",
    "# Grafico las labels de cada elemento\n",
    "axes[1].legend()\n",
    "\n",
    "plt.show()"
   ]
  },
  {
   "cell_type": "markdown",
   "id": "36784d90",
   "metadata": {},
   "source": [
    "#### Ejemplo 3"
   ]
  },
  {
   "cell_type": "code",
   "execution_count": null,
   "id": "d8cf889d",
   "metadata": {},
   "outputs": [],
   "source": [
    "# Genero la estructura para los gráficos\n",
    "fig, axes = plt.subplots(1,2, figsize=(20,6))\n",
    "\n",
    "###########################\n",
    "# Gráfico izquierda\n",
    "###########################\n",
    "\n",
    "# Grafico la primer serie\n",
    "axes[0].plot(serie_1, c = 'red', zorder = 0, label = 'Serie 1')\n",
    "axes[0].plot(serie_2, c = 'blue', zorder = 0, label = 'Serie 2')\n",
    "\n",
    "\n",
    "# Fill between the series\n",
    "x = range(0, num_points) # --> variable auxliar\n",
    "axes[0].fill_between(x, serie_1, serie_2,\n",
    "                     where=(serie_1 <= serie_2),\n",
    "                     color='lightblue',\n",
    "                     interpolate=True,\n",
    "                     alpha=0.3,\n",
    "                     label='Serie 1 <= Serie 2')\n",
    "axes[0].fill_between(x, serie_1, serie_2,\n",
    "                     where=(serie_1 > serie_2),\n",
    "                     color='lightcoral',\n",
    "                     interpolate=True,\n",
    "                     alpha=0.3,\n",
    "                     label='Serie 1 > Serie 2')\n",
    "\n",
    "# Grafico las labels de cada elemento\n",
    "axes[0].legend()\n",
    "\n",
    "\n",
    "# Defino el título y los nombres de los ejes\n",
    "axes[0].set_title('Lineplot Serie 1 y 2')\n",
    "axes[0].set_xlabel('Serie (index)')\n",
    "axes[0].set_ylabel('Valores')\n",
    "\n",
    "###########################\n",
    "# Gráfico derecha\n",
    "###########################\n",
    "\n",
    "serie_mult = serie_1 * serie_2\n",
    "\n",
    "axes[1].plot(serie_mult, c = 'violet', zorder = 0, label = 'Serie Combinada')\n",
    "\n",
    "# Calculo max y min de la nueva serie\n",
    "x_max = serie_mult.idxmax()\n",
    "y_max = serie_mult[x_max]\n",
    "\n",
    "axes[1].scatter(x_max, y_max, c = 'blue', zorder = 10, label = 'Maximo')\n",
    "\n",
    "x_min = serie_mult.idxmin()\n",
    "y_min = serie_mult[x_min]\n",
    "\n",
    "axes[1].scatter(x_min, y_min, c = 'cyan', zorder = 10, label = 'Minimo')\n",
    "\n",
    "axes[1].plot((x_max, x_min), (y_max, y_min), c = '#1a9cc4', alpha = 0.55, linestyle = 'dotted', label='Línea entre max y min', zorder = 20)\n",
    "\n",
    "axes[1].set_title('Lineplot Serie Combinada')\n",
    "axes[1].set_xlabel('Serie (index)')\n",
    "axes[1].set_ylabel('Valores')\n",
    "\n",
    "# Grafico las labels de cada elemento\n",
    "axes[1].legend()\n",
    "\n",
    "plt.show()"
   ]
  },
  {
   "cell_type": "markdown",
   "id": "ab1e9526",
   "metadata": {},
   "source": [
    "#### Ejemplo 4"
   ]
  },
  {
   "cell_type": "code",
   "execution_count": null,
   "id": "a1d35a3f",
   "metadata": {},
   "outputs": [],
   "source": [
    "x1 = np.random.normal(loc=5, scale=2, size=10000)\n",
    "x2 = np.random.normal(loc=4.5, scale=2.75, size=10000)"
   ]
  },
  {
   "cell_type": "code",
   "execution_count": null,
   "id": "57f4781b",
   "metadata": {},
   "outputs": [],
   "source": [
    "fig, axes = plt.subplots(1, 3, figsize=(20, 6))\n",
    "plt.suptitle('Análisis distribuciones', fontsize = 14, weight='bold')\n",
    "\n",
    "######################\n",
    "# Gráfico 1\n",
    "######################\n",
    "sns.kdeplot(x1, c = '#d43f1e', ax = axes[0], label='Serie 1')\n",
    "sns.kdeplot(x2, c = '#1356c2', ax = axes[0], label='Serie 2')\n",
    "\n",
    "axes[0].set_title('PDF')\n",
    "axes[0].set_xlabel('Valores')\n",
    "axes[0].set_ylabel('Densidad')\n",
    "\n",
    "axes[0].legend()\n",
    "\n",
    "######################\n",
    "# Gráfico 2\n",
    "######################\n",
    "sns.kdeplot(x1, c = '#d43f1e', cumulative=True,  ax = axes[1], label='Serie 1')\n",
    "sns.kdeplot(x2, c = '#1356c2', cumulative=True, ax = axes[1], label='Serie 2')\n",
    "\n",
    "axes[1].set_title('CDF')\n",
    "axes[1].set_xlabel('Valores')\n",
    "axes[1].set_ylabel('Densidad')\n",
    "\n",
    "axes[1].legend()\n",
    "\n",
    "######################\n",
    "# Gráfico 3\n",
    "######################\n",
    "\n",
    "# Genero variables auxiliares para el gráfico\n",
    "\n",
    "# Distribuciones ordenadas ascendentemente\n",
    "sorted_x1 = sorted(x1)\n",
    "sorted_x2 = sorted(x2)\n",
    "\n",
    "# Calculo los valores máximos y mínimos\n",
    "x1_max = x1.max()\n",
    "x1_min = x1.min()\n",
    "\n",
    "x2_max = x2.max()\n",
    "x2_min = x2.min()\n",
    "\n",
    "axes[2].scatter(sorted_x1, sorted_x2, zorder = 0, s = 6, alpha = 0.25, c='purple')\n",
    "axes[2].plot((x1_max, x1_min), (x2_max, x2_min), c = 'gray', zorder = 10, linestyle='--')\n",
    "\n",
    "axes[2].set_title('QQ Plot')\n",
    "axes[2].set_xlabel('Valores X1')\n",
    "axes[2].set_ylabel('Valores X2')\n",
    "\n",
    "plt.show()"
   ]
  },
  {
   "cell_type": "markdown",
   "id": "88109a81",
   "metadata": {},
   "source": [
    "#### Ejemplo 5"
   ]
  },
  {
   "cell_type": "code",
   "execution_count": null,
   "id": "3ebc70a2",
   "metadata": {},
   "outputs": [],
   "source": [
    "# Generate some sample data\n",
    "months = np.arange(1, 13)\n",
    "\n",
    "product1_sales = np.random.randint(2500, 5000, size=12)\n",
    "product2_sales = np.random.randint(2500, 5000, size=12)\n",
    "\n",
    "product1_price = np.random.normal(28, 4, size=12)\n",
    "product2_price = np.random.normal(28, 5, size=12)\n",
    "\n",
    "product1 = (product1_sales * product1_price).astype(int)\n",
    "product2 = (product2_sales * product2_price).astype(int)"
   ]
  },
  {
   "cell_type": "code",
   "execution_count": null,
   "id": "0bc786e8",
   "metadata": {},
   "outputs": [],
   "source": [
    "# Create a figure and primary axes\n",
    "plt.figure(figsize=(10, 6))\n",
    "ax1 = plt.subplot()\n",
    "\n",
    "# Plot sales of product 1\n",
    "ax1.plot(months, product1, color='#2427f0', marker='o', label='Producto 1')\n",
    "ax1.plot(months, product2, color='#d11547', marker='o', label='Producto 2')\n",
    "\n",
    "ax1.set_xlabel('Month')\n",
    "ax1.set_ylabel('Product Sales')\n",
    "ax1.tick_params(axis='y')\n",
    "\n",
    "# Create secondary axes for the bar plot\n",
    "ax2 = ax1.twinx()\n",
    "ax2.set_ylim(0, 1)\n",
    "\n",
    "# Calculate the ratio of product 1 to product 2\n",
    "product1_ratio = product1 / (product1 + product2)\n",
    "\n",
    "# Plot bar plot for sales ratio\n",
    "ax2.bar(months, sales_ratio, color='#7cf2bb', alpha=0.3, label='Ratio Producto 1')\n",
    "\n",
    "# Set x-axis ticks and labels\n",
    "ax1.set_xticks(months)\n",
    "ax1.set_xticklabels(['Jan', 'Feb', 'Mar', 'Apr', 'May', 'Jun', 'Jul', 'Aug', 'Sep', 'Oct', 'Nov', 'Dec'])\n",
    "\n",
    "ax2.set_ylabel('Ratio Producto 1')\n",
    "\n",
    "# Add legend\n",
    "lines1, labels1 = ax1.get_legend_handles_labels()\n",
    "lines2, labels2 = ax2.get_legend_handles_labels()\n",
    "ax1.legend(lines1 + lines2, labels1 + labels2, loc='upper left')\n",
    "\n",
    "# Add title\n",
    "plt.title('Ventas')\n",
    "\n",
    "# Show plot\n",
    "plt.show()\n"
   ]
  },
  {
   "cell_type": "markdown",
   "id": "91601b22",
   "metadata": {},
   "source": [
    "#### Ejemplo X"
   ]
  },
  {
   "cell_type": "code",
   "execution_count": null,
   "id": "159d7329",
   "metadata": {},
   "outputs": [],
   "source": [
    "from sklearn.datasets import make_regression\n",
    "\n",
    "X1, y1 = make_regression(n_samples=250, n_features=1, noise=1.25, bias=0.50, random_state=42)\n",
    "X2, y2 = make_regression(n_samples=250, n_features=1, noise=1.5, bias=0.20, random_state=42)\n",
    "X3, y3 = make_regression(n_samples=250, n_features=1, noise=2, bias=0.0, random_state=42)\n",
    "X4, y4 = make_regression(n_samples=250, n_features=1, noise=1, bias=1, random_state=42)\n",
    "\n",
    "X = np.concatenate([X1.flatten() * np.random.uniform(1, 20, size=250),\n",
    "                    X2.flatten() * np.random.exponential(2.5, size=250),\n",
    "                    X3.flatten() * np.random.uniform(0.5, 2.5, size=250),\n",
    "                    X4.flatten() * np.random.normal(8, 2.8, size = 250)])\n",
    "\n",
    "y = np.concatenate([y1.flatten(), y2.flatten(), y3.flatten(), y4.flatten()])"
   ]
  },
  {
   "cell_type": "code",
   "execution_count": null,
   "id": "95c014ac",
   "metadata": {},
   "outputs": [],
   "source": [
    "data = pd.DataFrame(data = {'Clase': [0] * 250 + [1] * 250 + [2] * 250 + [3] * 250,\n",
    "                            'X': X,\n",
    "                            'y': y\n",
    "                           }   \n",
    "                    )"
   ]
  },
  {
   "cell_type": "code",
   "execution_count": null,
   "id": "67edd35e",
   "metadata": {},
   "outputs": [],
   "source": [
    "num_cols = 2\n",
    "num_rows = 2\n",
    "fig, axes = plt.subplots(num_rows,num_cols, figsize=(10, 10))\n",
    "\n",
    "for row in range(num_rows):\n",
    "\n",
    "    for col in range(num_cols):\n",
    "\n",
    "        ax = axes[row, col]\n",
    "        class_idx = (row * num_cols + col)\n",
    "\n",
    "        sns.scatterplot(data = data[data['Clase']==class_idx],\n",
    "                        x = 'X', y = 'y',\n",
    "                        color = sns.color_palette('pastel')[class_idx],\n",
    "                        ax = ax)\n",
    "\n",
    "        ax.set_title(f'Scatter Clase {class_idx}')\n",
    "        ax.set_xlabel('X')\n",
    "        ax.set_ylabel('y')\n",
    "\n",
    "        "
   ]
  },
  {
   "cell_type": "code",
   "execution_count": null,
   "id": "26eab815",
   "metadata": {},
   "outputs": [],
   "source": []
  }
 ],
 "metadata": {
  "kernelspec": {
   "display_name": "Python 3 (ipykernel)",
   "language": "python",
   "name": "python3"
  },
  "language_info": {
   "codemirror_mode": {
    "name": "ipython",
    "version": 3
   },
   "file_extension": ".py",
   "mimetype": "text/x-python",
   "name": "python",
   "nbconvert_exporter": "python",
   "pygments_lexer": "ipython3",
   "version": "3.8.16"
  }
 },
 "nbformat": 4,
 "nbformat_minor": 5
}
