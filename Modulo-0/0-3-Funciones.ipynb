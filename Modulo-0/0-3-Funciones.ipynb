{
 "cells": [
  {
   "cell_type": "markdown",
   "id": "f4c65455-51d5-4b30-84a5-a0f8df86fdfa",
   "metadata": {},
   "source": [
    "# Funciones (Functions)"
   ]
  },
  {
   "cell_type": "markdown",
   "id": "359e0253-b0de-41df-a635-2f8bd5a80399",
   "metadata": {},
   "source": [
    "***\n",
    "## ¿Qué son las Funciones?\n",
    "\n",
    "**Definición**\n",
    "\n",
    "Las funciones son bloques de código diseñados para realizar tareas o operaciones específicas. Te permiten encapsular una secuencia de declaraciones en una unidad reutilizable, promoviendo la modularidad y la mantenibilidad del código.\n",
    "\n",
    "**Beneficios de Usar Funciones**\n",
    "\n",
    "* Reutilización de Código: Las funciones pueden llamarse múltiples veces desde diferentes partes de tu programa, reduciendo la duplicación de código.\n",
    "* Mejor Organización del Código: Las funciones ayudan a organizar tu código en partes lógicas y manejables, facilitando su lectura y mantenimiento.\n"
   ]
  },
  {
   "cell_type": "markdown",
   "id": "f44434ea-3ed3-41b0-903e-a544b24428a0",
   "metadata": {},
   "source": [
    "***\n",
    "## Definición de Funciones\n",
    "\n",
    "En Python, se define una función usando la palabra clave ```def```, seguida del nombre de la función, paréntesis para los parámetros (si los hay) y dos puntos para indicar el inicio del bloque de código de la función.\n",
    "\n",
    "**Documentación**\n",
    "\n",
    "La documentación de funciones, a menudo llamada ```docstrings```, es una forma de proporcionar explicaciones claras sobre el propósito y el uso de una función. Los ```docstrings``` se colocan dentro de triples comillas inmediatamente después de la definición de la función."
   ]
  },
  {
   "cell_type": "code",
   "execution_count": null,
   "id": "15467865-87b4-429b-b8a3-9d5082d62aed",
   "metadata": {},
   "outputs": [],
   "source": [
    "def nombre_funcion(parametros):\n",
    "    # Cuerpo de la función (bloque de código)\n",
    "    # ...\n",
    "    pass"
   ]
  },
  {
   "cell_type": "code",
   "execution_count": null,
   "id": "0f8c49fe-20cf-4a74-b318-012fdd2a3c82",
   "metadata": {},
   "outputs": [],
   "source": [
    "# definir la función\n",
    "\n",
    "def bienvenida():\n",
    "    \n",
    "    print('Hola! Bienvenidos a este curso de Python!')"
   ]
  },
  {
   "cell_type": "code",
   "execution_count": null,
   "id": "b96c6773-6bd2-4b80-8d8f-2167348de874",
   "metadata": {},
   "outputs": [],
   "source": [
    "# llamar a la función\n",
    "\n",
    "bienvenida()"
   ]
  },
  {
   "cell_type": "markdown",
   "id": "6df09d67-087b-450b-98a6-7499b0980ab8",
   "metadata": {},
   "source": [
    "***\n",
    "## Parámetros y Valores de Retorno de Funciones\n",
    "\n",
    "* **Parámetros** \n",
    "\n",
    "Las funciones pueden aceptar cero o más parámetros (también conocidos como argumentos) que te permiten pasar valores a la función. Estos valores pueden utilizarse en el código de la función.\n",
    "\n",
    "* **Valores de Retorno**\n",
    "\n",
    "Las funciones también pueden devolver valores usando la declaración ```return```. Esto permite que las funciones proporcionen resultados o datos de vuelta al código que las llama."
   ]
  },
  {
   "cell_type": "markdown",
   "id": "054e0685-8e44-4dff-a46f-9db5c40ec45a",
   "metadata": {},
   "source": [
    "#### Ejemplo 1"
   ]
  },
  {
   "cell_type": "code",
   "execution_count": null,
   "id": "992e7405-2bae-448b-8cd3-f509f1e321db",
   "metadata": {},
   "outputs": [],
   "source": [
    "def saludar(nombre):\n",
    "    \"\"\"\n",
    "    Esta función saluda a la persona pasada como parámetro.\n",
    "    \n",
    "    Parameters:\n",
    "        nombre (str): El nombre de la persona a saludar.\n",
    "    \"\"\"\n",
    "    print(f\"Hola, {nombre}!\")\n",
    "\n",
    "# Llamando a la función\n",
    "nombre = ...\n",
    "\n",
    "saludar(nombre)"
   ]
  },
  {
   "cell_type": "markdown",
   "id": "0f1ab3e1-9f6b-432a-adc2-d99fa3a86f6c",
   "metadata": {},
   "source": [
    "#### Ejemplo 2"
   ]
  },
  {
   "cell_type": "code",
   "execution_count": null,
   "id": "fb3122ae-14da-4911-91bb-84744ca32e64",
   "metadata": {},
   "outputs": [],
   "source": [
    "def sumar(a, b):\n",
    "    \"\"\"\n",
    "    Esta función suma dos números y devuelve el resultado.\n",
    "    \n",
    "    Parameters:\n",
    "        a (int): El primer número.\n",
    "        b (int): El segundo número.\n",
    "    \n",
    "    Returns:\n",
    "        int: La suma de a y b.\n",
    "    \"\"\"\n",
    "    resultado = a + b\n",
    "    return resultado\n",
    "\n",
    "# Llamando a la función y almacenando el resultado\n",
    "resultado_suma = sumar(5, 3)\n",
    "print(\"Suma:\", resultado_suma)"
   ]
  },
  {
   "cell_type": "markdown",
   "id": "264e9a97-a31b-44c5-9bad-3f030f3ecc51",
   "metadata": {},
   "source": [
    "#### Ejemplo 3"
   ]
  },
  {
   "cell_type": "code",
   "execution_count": null,
   "id": "553a95d6-ecd8-4f62-b40a-8398778e77c1",
   "metadata": {},
   "outputs": [],
   "source": [
    "def funcion_lineal(X, m, b):\n",
    "    \"\"\"\n",
    "    Función que devuelve los valores de una función lineal.\n",
    "    \n",
    "    Parameters:\n",
    "        X (list): listado de valores de X\n",
    "        m (float): valor de la pendiente de la recta\n",
    "        b (float): valor de la ordenada al origen\n",
    "        \n",
    "    Returns:\n",
    "        y (list): listado de valores de y\n",
    "    \"\"\"\n",
    "    y = []\n",
    "    \n",
    "    for x in X:\n",
    "        y.append(m * x + b)\n",
    "        \n",
    "    return y\n",
    "    "
   ]
  },
  {
   "cell_type": "code",
   "execution_count": null,
   "id": "08efeb29-c3d6-41ca-8836-fb4f155bc1c5",
   "metadata": {},
   "outputs": [],
   "source": [
    "X = [1,2,3,4,5,6]\n",
    "m = 2\n",
    "b = -3\n",
    "\n",
    "funcion_lineal(X, m, b)"
   ]
  },
  {
   "cell_type": "code",
   "execution_count": null,
   "id": "448d32a2-520c-40ea-8b6e-89e8f4f6ab54",
   "metadata": {},
   "outputs": [],
   "source": [
    "X = [200, 400, 600, 800, 1000]\n",
    "m = -2.5\n",
    "b = 150\n",
    "\n",
    "funcion_lineal(X, m, b)"
   ]
  },
  {
   "cell_type": "markdown",
   "id": "bbc13a17-ccc6-40a1-a585-18e89a24d868",
   "metadata": {},
   "source": [
    "#### Ejemplo 4\n",
    "\n",
    "Algunas funciones pueden tener valores de parámetros predefinidos. Esto permite ignorar dichos parámetros en caso de que su comportamiento este de acuerdo con el que esperamos."
   ]
  },
  {
   "cell_type": "code",
   "execution_count": null,
   "id": "33cfc5fb-5581-45e7-8485-6ceb3582c524",
   "metadata": {},
   "outputs": [],
   "source": [
    "def promedio(X, pesos = None):\n",
    "    \"\"\"\n",
    "    Calcula el promedio ponderado o simple de una lista de valores.\n",
    "\n",
    "    Args:\n",
    "        X (list): Una lista de valores numéricos.\n",
    "        pesos (list, optional): Una lista de pesos correspondientes a cada valor en X.\n",
    "                                Si se proporciona, debe tener la misma longitud que X.\n",
    "                                Si la suma de los pesos es mayor que 1, se mostrará una advertencia.\n",
    "\n",
    "    Returns:\n",
    "        float or None: Si pesos se proporciona, devuelve el promedio ponderado de X.\n",
    "                       Si no se proporcionan pesos, devuelve el promedio simple de X.\n",
    "                       En caso de errores o advertencias, se devuelve None.\n",
    "    \n",
    "    Warnings:\n",
    "        - Si la suma de los pesos es mayor que 1, se mostrará una advertencia.\n",
    "        - Si X y pesos tienen diferentes longitudes, se mostrará una advertencia.\n",
    "    \"\"\"\n",
    "    \n",
    "    if pesos:\n",
    "        if sum(pesos) > 1:\n",
    "            print('ATENCION: La suma de los pesos es mayor a la unidad!!!')\n",
    "            return None\n",
    "\n",
    "        if len(X) != len(pesos):\n",
    "            print(f'ATENCION: X tiene {len(X)} elementos pero la variable pesos posee {len(pesos)}!!!') \n",
    "            return None\n",
    "    \n",
    "        return sum([x * peso for x, peso in zip(X, pesos)])\n",
    "        \n",
    "    else:\n",
    "        return sum(X) / len(X)"
   ]
  },
  {
   "cell_type": "code",
   "execution_count": null,
   "id": "45fca6e8-f0fb-460d-beac-7c109ba7ef97",
   "metadata": {},
   "outputs": [],
   "source": [
    "# Caso 1\n",
    "res1 = promedio([10, 20, 30])\n",
    "print(res1)\n",
    "\n",
    "# Caso 2\n",
    "res2 = promedio([10, 20, 30], pesos = [0.25, 0.25, 0.50])\n",
    "print(res2)\n",
    "\n",
    "# Caso 3\n",
    "promedio([10, 20, 30], pesos = [0.5, 0.5, 2])\n",
    "\n",
    "# Caso 4\n",
    "promedio([10, 20, 30], pesos = [0.25, 0.25, 0.25, 0.25])"
   ]
  },
  {
   "cell_type": "markdown",
   "id": "bb15ed49-12ea-4d83-9b0a-14e312d47f7c",
   "metadata": {},
   "source": [
    "#### Ejemplo 5\n",
    "\n",
    "Las funciones se pueden usar de forma conjunta y ser usadas dentra de otras."
   ]
  },
  {
   "cell_type": "code",
   "execution_count": null,
   "id": "e99044f8-5111-4bb3-878b-560ed469abb2",
   "metadata": {},
   "outputs": [],
   "source": [
    "def calcular_desvio_estandar(X):\n",
    "    \"\"\"\n",
    "    Calcula la desviación estándar de una lista de valores numéricos.\n",
    "\n",
    "    Args:\n",
    "        X (list): Una lista de valores numéricos.\n",
    "\n",
    "    Returns:\n",
    "        float: La desviación estándar de la lista.\n",
    "    \"\"\"\n",
    "    media = promedio(X) # llama a la función que definimos previamente\n",
    "    \n",
    "    if media is None:\n",
    "        return None\n",
    "    \n",
    "    # Calcular la varianza y el desvío\n",
    "    suma_cuadrados_diferencia = sum([(x - media) ** 2 for x in X])\n",
    "    varianza = suma_cuadrados_diferencia / len(X)\n",
    "    desvio = (varianza)**(1/2)\n",
    "    \n",
    "    return desvio"
   ]
  },
  {
   "cell_type": "code",
   "execution_count": null,
   "id": "4a2f8592-5e1b-4b82-b2ce-ae38f2294772",
   "metadata": {},
   "outputs": [],
   "source": [
    "# Ejemplo de uso:\n",
    "datos = [1, 2, 3, 4, 5]\n",
    "media = promedio(datos)\n",
    "desvio = calcular_desvio_estandar(datos)\n",
    "\n",
    "if desvio is not None:\n",
    "    print(f\"La media es: {media:.2f}\")\n",
    "    print(f\"El desvío estándar es: {desvio:.2f}\")\n",
    "else:\n",
    "    print(\"No se pudo calcular el desvío estándar, la lista está vacía.\")"
   ]
  },
  {
   "cell_type": "markdown",
   "id": "5d8a1458-5eb3-46fc-80ae-06e009dbb197",
   "metadata": {},
   "source": [
    "***\n",
    "## Ámbito de Función y Variables\n",
    "\n",
    "**Ámbito:** El ámbito de una variable determina dónde en el código se puede acceder y modificar esa variable.\n",
    "\n",
    "* **Variables Locales:** Las variables definidas dentro de una función se consideran locales para esa función. Solo son accesibles dentro del ámbito de esa función.\n",
    "* **Variables Globales:** Las variables definidas fuera de cualquier función se consideran globales. Se pueden acceder y modificar desde cualquier lugar del programa."
   ]
  },
  {
   "cell_type": "code",
   "execution_count": null,
   "id": "2d163186-c646-4f7a-9961-fa861a1d42ef",
   "metadata": {},
   "outputs": [],
   "source": [
    "variable_global = 10\n",
    "\n",
    "def funcion_ejemplo():\n",
    "    variable_local = 5\n",
    "    print(\"Variable Local (dentro de la función):\", variable_local)\n",
    "    print(\"Variable Global (dentro de la función):\", variable_global)\n",
    "\n",
    "funcion_ejemplo()\n",
    "print(\"Variable Global (fuera de la función):\", variable_global)\n",
    "print(\"Variable Local (fuera de la función):\", variable_local) # arroja un error ya que la variable local solo está definida dentro de la función"
   ]
  }
 ],
 "metadata": {
  "kernelspec": {
   "display_name": "Python 3 (ipykernel)",
   "language": "python",
   "name": "python3"
  },
  "language_info": {
   "codemirror_mode": {
    "name": "ipython",
    "version": 3
   },
   "file_extension": ".py",
   "mimetype": "text/x-python",
   "name": "python",
   "nbconvert_exporter": "python",
   "pygments_lexer": "ipython3",
   "version": "3.8.16"
  }
 },
 "nbformat": 4,
 "nbformat_minor": 5
}
