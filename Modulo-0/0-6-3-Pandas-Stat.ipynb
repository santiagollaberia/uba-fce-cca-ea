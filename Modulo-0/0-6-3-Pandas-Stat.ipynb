{
 "cells": [
  {
   "cell_type": "markdown",
   "metadata": {},
   "source": [
    "# Pandas\n",
    "---\n",
    "# Aplicación a Estadística I"
   ]
  },
  {
   "cell_type": "markdown",
   "metadata": {},
   "source": [
    "El objetivo del presente *notebook* es llevar a cabo un análisis de estadística descriptiva básica (usando temas de la materia Estadística I) para lograr una mayor comprensión el framework `Pandas`. Se buscará generar el acercamiento de dicha herramienta a tópicos más cercanos al estudiante de la carrera.\n",
    "\n",
    "Los siguientes temas corresponden a la Unidad Temática IV de Estadística I: *ANÁLISIS DE DATOS*.\n",
    "\n",
    "Para ello se utilizará el siguiente dataset: [US Health Insurance Dataset](https://www.kaggle.com/datasets/teertha/ushealthinsurancedataset/data).\n",
    "\n",
    "| Columna    | Descipción |\n",
    "| -------- | ------- |\n",
    "| age  | Edad del beneficiario principal    |\n",
    "| sex | Género beneficiario principal      |\n",
    "| bmi    | *Body mass index*    |\n",
    "| children | Número de hijos cubiertos por el seguro |\n",
    "| smoker | Persona fuma o no |\n",
    "| region | Zona geográfica del asegurado |\n",
    "| charges | Costos médicos individuales cobrados por la aseguradora |"
   ]
  },
  {
   "cell_type": "code",
   "execution_count": null,
   "metadata": {},
   "outputs": [],
   "source": [
    "### imports ###\n",
    "import pandas as pd\n",
    "import numpy as np"
   ]
  },
  {
   "cell_type": "code",
   "execution_count": null,
   "metadata": {},
   "outputs": [],
   "source": [
    "df = pd.read_csv('..\\data\\Modulo-0\\insurance.csv')"
   ]
  },
  {
   "cell_type": "code",
   "execution_count": null,
   "metadata": {},
   "outputs": [],
   "source": [
    "# selecionar solamente las columnas con valores numéricos\n",
    "df_num = df.select_dtypes(include=[float, int])"
   ]
  },
  {
   "cell_type": "markdown",
   "metadata": {},
   "source": [
    "## Medidas de posición: media, mediana y moda"
   ]
  },
  {
   "cell_type": "code",
   "execution_count": null,
   "metadata": {},
   "outputs": [],
   "source": [
    "media = df_num.mean()\n",
    "mediana = df_num.median()\n",
    "modo = df_num.mode()\n",
    "\n",
    "print('Promedio de cada columna:', media, \" \", sep='\\n')\n",
    "print('Mediana de cada columna:', mediana, \" \", sep='\\n')\n",
    "print('Modo de cada columna:', modo.T, \" \", sep='\\n')"
   ]
  },
  {
   "cell_type": "markdown",
   "metadata": {},
   "source": [
    "## Cuantiles - Percentiles"
   ]
  },
  {
   "cell_type": "code",
   "execution_count": null,
   "metadata": {},
   "outputs": [],
   "source": [
    "quant_df = df_num.quantile(np.linspace(0,1,11))\n",
    "quant_df['decil'] = range(11)\n",
    "quant_df = quant_df.reset_index(drop=True)\n",
    "quant_df = quant_df[['decil', 'age', 'bmi', 'children', 'charges']]\n",
    "\n",
    "display(quant_df)"
   ]
  },
  {
   "cell_type": "code",
   "execution_count": null,
   "metadata": {},
   "outputs": [],
   "source": [
    "## Rango intercuantil - IQR\n",
    "\n",
    "q_25 = df_num.quantile([0.25]).reset_index(drop=True)\n",
    "q_75 = df_num.quantile([0.75]).reset_index(drop=True)\n",
    "\n",
    "iqr = q_75 - q_25\n",
    "\n",
    "print('Rango intercuantil de cada columna:')\n",
    "display(iqr)"
   ]
  },
  {
   "cell_type": "markdown",
   "metadata": {},
   "source": [
    "## Medidas de dispersión"
   ]
  },
  {
   "cell_type": "code",
   "execution_count": null,
   "metadata": {},
   "outputs": [],
   "source": [
    "## Varianza y desvío\n",
    "varianza = df_num.var()\n",
    "desvio = df_num.std()\n",
    "\n",
    "print('La varianza para cada columna es:', varianza, ' ', sep='\\n')\n",
    "print('El desvío para cada columna es:', desvio, ' ', sep='\\n')"
   ]
  },
  {
   "cell_type": "code",
   "execution_count": null,
   "metadata": {},
   "outputs": [],
   "source": [
    "## Rango\n",
    "print('El máximo para cada columna es:', df_num.max(), ' ', sep='\\n')\n",
    "print('El mínimo para cada columna es:', df_num.min(), ' ', sep='\\n')\n",
    "print('Por lo tanto, el rango para cada columna es:', ' ', df_num.max() - df_num.min(), sep='\\n')"
   ]
  },
  {
   "cell_type": "code",
   "execution_count": null,
   "metadata": {},
   "outputs": [],
   "source": [
    "## Coeficiente de Variación\n",
    "\n",
    "cv = desvio / media\n",
    "\n",
    "print('El coeficiente de variación para cada columna es:', cv, sep='\\n')"
   ]
  },
  {
   "cell_type": "markdown",
   "metadata": {},
   "source": [
    "## Asimetría y kurtosis"
   ]
  },
  {
   "cell_type": "code",
   "execution_count": null,
   "metadata": {},
   "outputs": [],
   "source": [
    "## Coeficiente de asimetría\n",
    "coef_asim = df_num.skew()\n",
    "\n",
    "coef_asim = pd.DataFrame(coef_asim, columns=['Columna'])\n",
    "\n",
    "coef_asim.loc[coef_asim['Columna']>0, 'Asimetría'] = 'positiva'\n",
    "coef_asim.loc[coef_asim['Columna']<0, 'Asimetría'] = 'negativa'\n",
    "coef_asim['Asimetría']=coef_asim['Asimetría'].fillna('simétrica')\n",
    "\n",
    "display(coef_asim)"
   ]
  },
  {
   "cell_type": "code",
   "execution_count": null,
   "metadata": {},
   "outputs": [],
   "source": [
    "## Kurtosis\n",
    "kurtosis = df_num.kurtosis()\n",
    "\n",
    "kurtosis = pd.DataFrame(kurtosis, columns=['Columna'])\n",
    "\n",
    "kurtosis.loc[kurtosis['Columna']>0, 'Kurtosis'] = 'leptocúrtica'\n",
    "kurtosis.loc[kurtosis['Columna']<0, 'Kurtosis'] = 'platicúrtica'\n",
    "kurtosis['Kurtosis']=kurtosis['Kurtosis'].fillna('mesocúrtica')\n",
    "\n",
    "display(kurtosis)"
   ]
  }
 ],
 "metadata": {
  "kernelspec": {
   "display_name": "base",
   "language": "python",
   "name": "python3"
  },
  "language_info": {
   "codemirror_mode": {
    "name": "ipython",
    "version": 3
   },
   "file_extension": ".py",
   "mimetype": "text/x-python",
   "name": "python",
   "nbconvert_exporter": "python",
   "pygments_lexer": "ipython3",
   "version": "3.8.16"
  }
 },
 "nbformat": 4,
 "nbformat_minor": 2
}
