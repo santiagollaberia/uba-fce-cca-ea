{
 "cells": [
  {
   "cell_type": "markdown",
   "id": "9588384a-d16d-448e-8069-abb0d3225f3f",
   "metadata": {},
   "source": [
    "### Placeholder for Numpy"
   ]
  }
 ],
 "metadata": {
  "kernelspec": {
   "display_name": "Python 3 (ipykernel)",
   "language": "python",
   "name": "python3"
  },
  "language_info": {
   "codemirror_mode": {
    "name": "ipython",
    "version": 3
   },
   "file_extension": ".py",
   "mimetype": "text/x-python",
   "name": "python",
   "nbconvert_exporter": "python",
   "pygments_lexer": "ipython3",
   "version": "3.8.16"
  }
 },
 "nbformat": 4,
 "nbformat_minor": 5
}
