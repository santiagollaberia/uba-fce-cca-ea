{
 "cells": [
  {
   "cell_type": "markdown",
   "id": "9588384a-d16d-448e-8069-abb0d3225f3f",
   "metadata": {
    "tags": []
   },
   "source": [
    "# **NumPy**\n",
    "\n",
    "* [Repositorio de NumPy](https://github.com/numpy/numpy)\n",
    "* [Documentación Oficial](https://numpy.org/)\n",
    "***\n",
    "\n",
    "NumPy es una librería de Python para computación científica. NumPy significa  Python numérico. \n",
    "\n",
    "NumPu proporciona soporte para arrays y matrices de gran tamaño y dimensionalidad, junto con una colección de operaciones matemáticas, lógicas y funcionales que permiten trabajar con dichas estructuras de forma altamente eficiente.\n",
    "\n",
    "### ¿Por qué NumPy?\n",
    "* NumPy es la base de la computación científica y numérica en Python.\n",
    "* Permite realizar operaciones orientadas a matrices, lo que lo hace más rápido y conveniente que usar listas tradicionales de Python.\n",
    "* Las matrices NumPy ahorran memoria y permiten operaciones vectorizadas, lo que reduce la necesidad de bucles explícitos.\n",
    "* Proporciona una amplia gama de funciones matemáticas y estadísticas.\n",
    "\n",
    "***\n",
    "## Arrays\n",
    "\n",
    "NumPy tiene su propia estructura de datos incorporada llamado **array** (`numpy.ndarray`) que es similar a la **lista** de Python (`list`).\n",
    "\n",
    "### Matrices NumPy frente a listas de Python\n",
    "\n",
    "* Las matrices NumPy son homogéneas, lo que significa que contienen elementos del mismo tipo de datos, lo que permite operaciones eficientes.\n",
    "* Las listas de Python pueden contener elementos de diferentes tipos de datos y son menos eficientes para cálculos numéricos.\n",
    "* Las matrices NumPy ofrecen una sintaxis más concisa y clara para operaciones matemáticas.\n",
    "\n",
    "***"
   ]
  },
  {
   "cell_type": "code",
   "execution_count": null,
   "id": "538810ad-3c99-4c14-b262-e483c2118318",
   "metadata": {},
   "outputs": [],
   "source": [
    "# por convensión, se importa bajo el siguiente alias\n",
    "import numpy as np\n",
    "\n",
    "print(np.__version__)"
   ]
  },
  {
   "cell_type": "markdown",
   "id": "98eb2860-3131-44e7-a402-2ad7dd00c896",
   "metadata": {},
   "source": [
    "***\n",
    "### Crear un array"
   ]
  },
  {
   "cell_type": "code",
   "execution_count": null,
   "id": "582ddf88-8157-4880-b883-af94abe81d64",
   "metadata": {},
   "outputs": [],
   "source": [
    "# por medio de una lista\n",
    "arr = np.array([1, 2, 3, 4, 5])\n",
    "\n",
    "print(f'Mi array es: {arr}.')\n",
    "\n",
    "# verificar que efectivamante es un numpy.ndarray\n",
    "print(type(arr))\n",
    "\n",
    "assert isinstance(arr, np.ndarray), 'No es un array de numpy!' # se observa que efectivamnete es un array"
   ]
  },
  {
   "cell_type": "code",
   "execution_count": null,
   "id": "167438af-cf57-47f8-b79b-3d84044957d7",
   "metadata": {},
   "outputs": [],
   "source": [
    "# otra forma posible de crearlos es por medio de una tuple\n",
    "arr_tup = np.array((1, 2, 3, 4, 5))\n",
    "\n",
    "print(arr_tup)\n",
    "\n",
    "assert (arr == arr_tup).all(), 'No son iguales!'"
   ]
  },
  {
   "cell_type": "markdown",
   "id": "c60d3cb4-72f0-43fb-b707-5e8755f240ce",
   "metadata": {},
   "source": [
    "* Otras maneras de crear arrays"
   ]
  },
  {
   "cell_type": "code",
   "execution_count": null,
   "id": "97a48828-924d-4fb8-a891-e46a6ad987f1",
   "metadata": {},
   "outputs": [],
   "source": [
    "zeros_array = np.zeros(5)   # Array de ceros\n",
    "ones_array = np.ones(3)     # Array de unos\n",
    "random_array = np.random.rand(4)  # Array de números random\n",
    "arange_array = np.arange(5) # Array de valores similar al range()\n",
    "linspace_array = np.linspace(0, 5, 8) # Array de valores equiespaciado entre un valor mínimo y un valor máximo.\n",
    "\n",
    "print(zeros_array)\n",
    "print(ones_array)\n",
    "print(random_array)\n",
    "print(arange_array)\n",
    "print(linspace_array)"
   ]
  },
  {
   "cell_type": "markdown",
   "id": "52e39b9a-37df-4abc-a5b2-e034e7bce09a",
   "metadata": {},
   "source": [
    "***\n",
    "### Dimensiones de los arrays\n",
    "\n",
    "(falta poner imagen)"
   ]
  },
  {
   "cell_type": "markdown",
   "id": "41ccac38-8c30-4f78-89c7-b45a4a87b7c1",
   "metadata": {},
   "source": [
    "#### 0-D Array"
   ]
  },
  {
   "cell_type": "code",
   "execution_count": null,
   "id": "7de752e1-de33-43f6-9097-673c256a0844",
   "metadata": {},
   "outputs": [],
   "source": [
    "arr = np.array(0)\n",
    "arr"
   ]
  },
  {
   "cell_type": "code",
   "execution_count": null,
   "id": "1b5b1a01-6407-4357-9127-ec1b352760f9",
   "metadata": {},
   "outputs": [],
   "source": [
    "shape = arr.shape\n",
    "dim = arr.ndim\n",
    "\n",
    "print(f'Array: \\n{arr} \\nShape: {shape} \\nNdim: {dim}')"
   ]
  },
  {
   "cell_type": "markdown",
   "id": "6f35c166-5d1c-4756-8152-e111e76c13e0",
   "metadata": {},
   "source": [
    "#### 1-D Array"
   ]
  },
  {
   "cell_type": "code",
   "execution_count": null,
   "id": "776bd654-d725-4ac0-9fc5-926528ca7a38",
   "metadata": {},
   "outputs": [],
   "source": [
    "arr = np.array([1,2,3,4,5])\n",
    "arr"
   ]
  },
  {
   "cell_type": "code",
   "execution_count": null,
   "id": "4fcbb785-9f1f-4424-a547-2bdb81cd3a29",
   "metadata": {},
   "outputs": [],
   "source": [
    "shape = arr.shape\n",
    "dim = arr.ndim\n",
    "\n",
    "print(f'Array: \\n{arr} \\nShape: {shape} \\nNdim: {dim}')"
   ]
  },
  {
   "cell_type": "markdown",
   "id": "c9b7db4b-6d07-40e3-b9f1-abe915f0826b",
   "metadata": {},
   "source": [
    "#### 2-D Array"
   ]
  },
  {
   "cell_type": "code",
   "execution_count": null,
   "id": "8ebde10e-f02e-4dbd-a702-0de01391fa64",
   "metadata": {},
   "outputs": [],
   "source": [
    "arr = np.array([[1, 2], [3, 4]])\n",
    "arr"
   ]
  },
  {
   "cell_type": "code",
   "execution_count": null,
   "id": "1bba10e7-e97b-4fa2-9306-f4b664f9cfd9",
   "metadata": {},
   "outputs": [],
   "source": [
    "shape = arr.shape\n",
    "dim = arr.ndim\n",
    "\n",
    "print(f'Array: \\n{arr} \\nShape: {shape} \\nNdim: {dim}')"
   ]
  },
  {
   "cell_type": "markdown",
   "id": "ef3e5f2c-672f-4113-a593-6f8a9f18421b",
   "metadata": {},
   "source": [
    "#### 3-D Array"
   ]
  },
  {
   "cell_type": "code",
   "execution_count": null,
   "id": "7b89218d-e1cb-4f0b-9376-acc48a9bae12",
   "metadata": {},
   "outputs": [],
   "source": [
    "arr = np.array([[[1, 2, 3], [4, 5, 6]], [[1, 2, 3], [4, 5, 6]]])\n",
    "arr"
   ]
  },
  {
   "cell_type": "code",
   "execution_count": null,
   "id": "90c96089-f54d-40eb-b13c-6fbce0bffc26",
   "metadata": {},
   "outputs": [],
   "source": [
    "shape = arr.shape\n",
    "dim = arr.ndim\n",
    "\n",
    "print(f'Array: \\n{arr} \\nShape: {shape} \\nNdim: {dim}')"
   ]
  },
  {
   "cell_type": "markdown",
   "id": "2c2c27df-2946-4ab6-bd56-74e2e027be85",
   "metadata": {},
   "source": [
    "#### N-D Array (no es posible visualizarlo)"
   ]
  },
  {
   "cell_type": "code",
   "execution_count": null,
   "id": "8816ed7b-9568-462e-a218-d03d20e60823",
   "metadata": {},
   "outputs": [],
   "source": [
    "N = 4\n",
    "arr = np.array([[1, 2, 3], [1, 2, 3]], ndmin = N)\n",
    "arr"
   ]
  },
  {
   "cell_type": "code",
   "execution_count": null,
   "id": "fe1e06a4-aff5-4979-859c-7759acef0e07",
   "metadata": {},
   "outputs": [],
   "source": [
    "shape = arr.shape\n",
    "dim = arr.ndim\n",
    "\n",
    "print(f'Array: {arr} \\nShape: {shape} \\nNdim: {dim}')"
   ]
  },
  {
   "cell_type": "markdown",
   "id": "53067a5b-f974-4e1c-987c-beb2ede604dc",
   "metadata": {},
   "source": [
    "***\n",
    "### Reshaping Arrays\n",
    "\n",
    "Se utiliza el método `reshape()`."
   ]
  },
  {
   "cell_type": "code",
   "execution_count": null,
   "id": "9c7960b5-2369-46ed-b2e2-ff181f12fee0",
   "metadata": {},
   "outputs": [],
   "source": [
    "# ejemplo 1\n",
    "array_1d = np.array([1,2,3,4,5])\n",
    "print(array_1d)\n",
    "\n",
    "print(f'Número de dimensiones: {array_1d.ndim}')"
   ]
  },
  {
   "cell_type": "code",
   "execution_count": null,
   "id": "69db567f-42df-4fb1-81a5-67f07978cd27",
   "metadata": {},
   "outputs": [],
   "source": [
    "array_1d_to_2d = array_1d.reshape(-1, 1) # el valor de '-1' permite al programa inferir la cantidad de valores necesarios\n",
    "print(array_1d_to_2d)\n",
    "print(f'Número de dimensiones: {array_1d_to_2d.ndim}')"
   ]
  },
  {
   "cell_type": "code",
   "execution_count": null,
   "id": "53898db7-ad91-4a18-a553-77132413c363",
   "metadata": {},
   "outputs": [],
   "source": [
    "# ejemplo 2\n",
    "array_2d_23 = np.array([np.ones(3), np.ones(3)])\n",
    "print(array_2d_23)"
   ]
  },
  {
   "cell_type": "code",
   "execution_count": null,
   "id": "d11ab26f-4ba8-4fa2-8100-6d97899326a3",
   "metadata": {},
   "outputs": [],
   "source": [
    "print(f'Shape: {array_2d_23.shape}')\n",
    "print(f'Número de dimensiones: {array_2d_23.ndim}')"
   ]
  },
  {
   "cell_type": "code",
   "execution_count": null,
   "id": "003ae087-1bb1-4a84-b6a8-b36e236f0c53",
   "metadata": {},
   "outputs": [],
   "source": [
    "array_2d_23_to_32 = array_2d_23.reshape(3, 2)\n",
    "print(array_2d_23_to_32)"
   ]
  },
  {
   "cell_type": "code",
   "execution_count": null,
   "id": "9661d8bf-818a-4cf3-9f35-70ddc256918e",
   "metadata": {},
   "outputs": [],
   "source": [
    "print(f'Shape: {array_2d_23_to_32.shape}')\n",
    "print(f'Número de dimensiones: {array_2d_23_to_32.ndim}')"
   ]
  },
  {
   "cell_type": "code",
   "execution_count": null,
   "id": "cde9e6bf-82f0-4ca5-915a-85242ffa8826",
   "metadata": {},
   "outputs": [],
   "source": [
    "# ejemplo 3\n",
    "array_1d_10 = np.arange(1, 11)\n",
    "print(array_1d_10)\n",
    "\n",
    "print(f'Shape: {array_1d_10.shape}')\n",
    "print(f'Número de dimensiones: {array_1d_10.ndim}')"
   ]
  },
  {
   "cell_type": "code",
   "execution_count": null,
   "id": "3b752212-745c-4fd6-9205-75ef1f7f4bce",
   "metadata": {},
   "outputs": [],
   "source": [
    "array_1d_10_to_2d_52 = array_1d_10.reshape(5, 2)\n",
    "print(array_1d_10_to_2d_52)\n",
    "\n",
    "print(f'Shape: {array_1d_10_to_2d_52.shape}')\n",
    "print(f'Número de dimensiones: {array_1d_10_to_2d_52.ndim}')"
   ]
  },
  {
   "cell_type": "code",
   "execution_count": null,
   "id": "2b30205d-5053-4eed-8872-aad8a2125fc8",
   "metadata": {},
   "outputs": [],
   "source": [
    "# ejemplo 4 --> usando transpose o .T\n",
    "array_2d_23 = np.array([np.random.rand(3), np.random.rand(3)])\n",
    "print(array_2d_23)\n",
    "\n",
    "print(f'Shape: {array_2d_23.shape}')\n",
    "print(f'Número de dimensiones: {array_2d_23.ndim}')"
   ]
  },
  {
   "cell_type": "code",
   "execution_count": null,
   "id": "c0e4dc7d-2568-42dc-be39-2f6713e306a4",
   "metadata": {},
   "outputs": [],
   "source": [
    "array_2d_23_to_32_T =  array_2d_23.T\n",
    "print(f'Array usando .T: \\n{array_2d_23_to_32_T}\\n')\n",
    "\n",
    "array_2d_23_to_32_transp = np.transpose(array_2d_23)\n",
    "print(f'Array usando np.transpose: \\n{array_2d_23_to_32_transp}')"
   ]
  },
  {
   "cell_type": "code",
   "execution_count": null,
   "id": "014b6e77-538c-4a5a-abd4-c6ad318ae4f2",
   "metadata": {},
   "outputs": [],
   "source": [
    "assert (array_2d_23_to_32_T == array_2d_23_to_32_transp).all(), 'Los array´s no son iguales!'"
   ]
  },
  {
   "cell_type": "markdown",
   "id": "88f067c3-1275-40f2-afe0-60c612f69f15",
   "metadata": {
    "tags": []
   },
   "source": [
    "***\n",
    "### Array Indexing\n",
    "Es posible acceder a los elementos de un `np.ndarray`, de forma similar a como se haría en una `list` o una `tuple`, a través de su índice o `index`.\n",
    "\n",
    "Al igual que los demás índices de Python, estos comienzan en 0.\n"
   ]
  },
  {
   "cell_type": "markdown",
   "id": "a390f606-a3ad-4dd6-a750-35a6d135b570",
   "metadata": {},
   "source": [
    "#### 1-D Array"
   ]
  },
  {
   "cell_type": "code",
   "execution_count": null,
   "id": "e12f325e-f793-4919-b15f-83f4db0b65bb",
   "metadata": {},
   "outputs": [],
   "source": [
    "arr = np.array([1, 2, 3, 4])\n",
    "\n",
    "print(f'El primer elemento es: {arr[0]}')\n",
    "print(f'El segundo elemento es: {arr[1]}')\n",
    "print(f'El último elemento es: {arr[-1]}')"
   ]
  },
  {
   "cell_type": "markdown",
   "id": "7414d084-5f69-4a04-89f6-12eb8af2262d",
   "metadata": {},
   "source": [
    "#### 2-D Array"
   ]
  },
  {
   "cell_type": "code",
   "execution_count": null,
   "id": "de2eaa41-fdf6-47e0-a1e3-3a7ea22bbba5",
   "metadata": {},
   "outputs": [],
   "source": [
    "arr = np.array([[1,2,3], [6,7,8]])\n",
    "\n",
    "print(f'El segundo elemento de la primera fila elemento es: {arr[0, 1]}')\n",
    "print(f'El primer elemento de la última fila elemento es: {arr[-1, 0]}')"
   ]
  },
  {
   "cell_type": "markdown",
   "id": "8f49d45c-a067-4200-aa4f-a467a5cca488",
   "metadata": {},
   "source": [
    "#### 3-D Array"
   ]
  },
  {
   "cell_type": "code",
   "execution_count": null,
   "id": "93e98265-d3b7-4758-8917-42a40fafd51d",
   "metadata": {},
   "outputs": [],
   "source": [
    "arr = np.array([[[1, 2, 3], [4, 5, 6]], [[7, 8, 9], [10, 11, 12]]])\n",
    "\n",
    "print(f'Todo el array: \\n{arr}\\n')\n",
    "\n",
    "print(f'La primer \"capa\" el array: \\n{arr[0]}')\n",
    "\n",
    "print(f'La segunda \"capa\" el array: \\n{arr[1]}\\n')\n",
    "\n",
    "print(f'Dentro de la primer \"capa\" del array, el primer elemento de la primera fila: {arr[0, 0, 0]}')\n",
    "\n",
    "print(f'Dentro de la primer \"capa\" del array, el último elemento de la primera fila: {arr[0, 0, -1]}')"
   ]
  },
  {
   "cell_type": "markdown",
   "id": "b763ec44-169a-4ba1-9784-5cfcede4a9e9",
   "metadata": {},
   "source": [
    "***\n",
    "### Array Slicing"
   ]
  },
  {
   "cell_type": "code",
   "execution_count": null,
   "id": "71a9702d-f770-45d8-9679-ffea90232208",
   "metadata": {},
   "outputs": [],
   "source": [
    "arr = np.arange(5)"
   ]
  },
  {
   "cell_type": "code",
   "execution_count": null,
   "id": "e465b25e-2fcf-4d0c-b6af-e51999fc7c48",
   "metadata": {},
   "outputs": [],
   "source": [
    "# dos primeros elementos\n",
    "print(arr[:2])\n",
    "\n",
    "# últimos dos elementos\n",
    "print(arr[-2:])\n",
    "\n",
    "# todos los elementos excepto el primero y el último\n",
    "print(arr[1:-1])\n",
    "\n",
    "# todos los elementos a partir del segundo\n",
    "print(arr[1:])"
   ]
  },
  {
   "cell_type": "code",
   "execution_count": null,
   "id": "27f4b924-908f-4b4a-9f9f-9fcb09477b08",
   "metadata": {},
   "outputs": [],
   "source": [
    "arr = np.arange(20)"
   ]
  },
  {
   "cell_type": "code",
   "execution_count": null,
   "id": "75d33cfb-ecc9-4877-b7da-f239196c608b",
   "metadata": {},
   "outputs": [],
   "source": [
    "# cierto conjunto de valores\n",
    "print(arr[6:12])\n",
    "\n",
    "# los elementos desde el índice 0, salteando un elemento entre cada uno\n",
    "print(arr[::2])\n",
    "\n",
    "# el reverso del array\n",
    "print(arr[::-1])\n",
    "\n",
    "# el reverso del array, hasta cierto valor\n",
    "print(arr[:10:-1])"
   ]
  },
  {
   "cell_type": "markdown",
   "id": "81b2b4f8-a543-42e5-b470-34416ba99ace",
   "metadata": {
    "tags": []
   },
   "source": [
    "***\n",
    "### Operaciones básicas con arrays"
   ]
  },
  {
   "cell_type": "markdown",
   "id": "c57c4abb-e57e-40c8-b617-c88c6ae12119",
   "metadata": {
    "tags": []
   },
   "source": [
    "#### Operaciones matemáticas"
   ]
  },
  {
   "cell_type": "code",
   "execution_count": null,
   "id": "85b66a36-86ad-4e9c-86f2-4d615838c797",
   "metadata": {},
   "outputs": [],
   "source": [
    "arr1 = np.array([10, 20, 30])\n",
    "arr2 = np.array([4, 5, 6])\n",
    "\n",
    "k = 2\n",
    "\n",
    "# suma y resta\n",
    "print('- Suma y resta -')\n",
    "print(f'arr1 + arr2: {arr1 + arr2}')\n",
    "print(f'arr1 - arr2: {arr1 - arr2}')\n",
    "\n",
    "# suma de un escalar\n",
    "print(f'arr1 + k: {arr1 + k}')\n",
    "\n",
    "# producto\n",
    "print('\\n- Producto -')\n",
    "print(f'arr1 ° arr2: {arr1 * arr2}')\n",
    "print(f'arr1 * arr2: {arr1 @ arr2}') # es equivalente a np.dot(arr1, arr2)\n",
    "print(f'arr1 * k: {arr1 * k}')"
   ]
  },
  {
   "cell_type": "markdown",
   "id": "8db1d0ff-5084-4ded-8bb0-13b86d3e3625",
   "metadata": {},
   "source": [
    "#### Operaciones de estadística"
   ]
  },
  {
   "cell_type": "code",
   "execution_count": null,
   "id": "89897461-7812-4873-82f0-a15304c9a564",
   "metadata": {},
   "outputs": [],
   "source": [
    "arr1 = np.random.normal(5, 4, 1000) # creo un array que se distribuye según una Normal(4, 5), en un sample de 1000 muestras."
   ]
  },
  {
   "cell_type": "code",
   "execution_count": null,
   "id": "1b5c34a4-8ec2-4751-b1cd-34c776d92b6b",
   "metadata": {},
   "outputs": [],
   "source": [
    "print(f'Media del array: {arr1.mean()}')\n",
    "print(f'Desvío del array: {arr1.std()}')\n",
    "\n",
    "print('\\nPercentiles del array')\n",
    "for p, v in zip([10, 25, 50, 75], np.percentile(arr1, q = [10, 25, 50, 75])):\n",
    "    print(f'Percentil {p}: {v}')\n",
    "    \n",
    "print(f'\\nMáximo y mínimo del array: {arr1.max()}, {arr1.min()}')"
   ]
  },
  {
   "cell_type": "markdown",
   "id": "bb40d6d2-6720-43fe-b5cc-ba2fe20f30f1",
   "metadata": {},
   "source": [
    "***\n",
    "***"
   ]
  },
  {
   "cell_type": "code",
   "execution_count": null,
   "id": "6db9fd2c-520f-4aaf-919f-7e5f93d4c25a",
   "metadata": {},
   "outputs": [],
   "source": [
    "# https://www.freecodecamp.org/espanol/news/la-guia-definitiva-del-paquete-numpy-para-computacion-cientifica-en-python/"
   ]
  },
  {
   "cell_type": "code",
   "execution_count": null,
   "id": "0d0b83f8-4d8f-48c5-bb98-3d0289fc8f3b",
   "metadata": {},
   "outputs": [],
   "source": [
    "# https://www.w3schools.com/python/numpy/numpy_creating_arrays.asp"
   ]
  }
 ],
 "metadata": {
  "kernelspec": {
   "display_name": "Python 3 (ipykernel)",
   "language": "python",
   "name": "python3"
  },
  "language_info": {
   "codemirror_mode": {
    "name": "ipython",
    "version": 3
   },
   "file_extension": ".py",
   "mimetype": "text/x-python",
   "name": "python",
   "nbconvert_exporter": "python",
   "pygments_lexer": "ipython3",
   "version": "3.8.16"
  }
 },
 "nbformat": 4,
 "nbformat_minor": 5
}
