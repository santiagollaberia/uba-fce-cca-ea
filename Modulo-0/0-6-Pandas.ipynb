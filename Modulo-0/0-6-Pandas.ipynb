{
 "cells": [
  {
   "cell_type": "markdown",
   "id": "dfdaa89f-d138-4a31-9816-6c3128fca6d6",
   "metadata": {},
   "source": [
    "### Placeholder for Pandas"
   ]
  }
 ],
 "metadata": {
  "kernelspec": {
   "display_name": "Python 3 (ipykernel)",
   "language": "python",
   "name": "python3"
  },
  "language_info": {
   "codemirror_mode": {
    "name": "ipython",
    "version": 3
   },
   "file_extension": ".py",
   "mimetype": "text/x-python",
   "name": "python",
   "nbconvert_exporter": "python",
   "pygments_lexer": "ipython3",
   "version": "3.8.16"
  }
 },
 "nbformat": 4,
 "nbformat_minor": 5
}
