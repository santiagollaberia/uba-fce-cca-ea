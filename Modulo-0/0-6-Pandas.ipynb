{
 "cells": [
  {
   "cell_type": "markdown",
   "id": "79fcddf3",
   "metadata": {},
   "source": [
    "# Pandas\n",
    "\n",
    "* [Repositorio de Pandas](https://github.com/pandas-dev/pandas)\n",
    "* [Documentación Oficial](https://pandas.pydata.org/)\n",
    "\n",
    "***\n",
    "\n",
    "**Pandas** es una herramienta/*framework* esencial para trabajar con datos tabulares y series temporales. Su utilidad radica en su capacidad para manipular y analizar datos de manera eficiente, facilitando las tareas comunes en el análisis de datos, como la limpieza, la transformación y la visualización.\n",
    "\n",
    "### Principales estructuras de datos proporcionadas por Pandas\n",
    "\n",
    "* **Series**: Una estructura unidimensional que puede albergar cualquier tipo de datos y está etiquetada, facilitando el acceso a los datos mediante etiquetas.\n",
    "\n",
    "* **DataFrame**: Una estructura de datos bidimensional similar a una hoja de cálculo con etiquetas de fila y columna, que permite almacenar y manipular datos de manera eficiente.\n",
    "\n",
    "### Beneficios de usar Pandas\n",
    "* Manipulación de datos eficiente: Pandas proporciona métodos y funciones optimizados para la manipulación de datos, como la limpieza, la filtración, la agregación y la transformación.\n",
    "\n",
    "* Manejo de datos faltantes: Pandas facilita el manejo de valores nulos o faltantes en los conjuntos de datos, permitiendo su identificación y tratamiento de manera sencilla.\n",
    "\n",
    "* Integración con otras bibliotecas: Se integra fácilmente con otras bibliotecas populares de Python, como NumPy, Matplotlib y scikit-learn, proporcionando un entorno completo para el análisis de datos.\n",
    "\n",
    "* Operaciones de series temporales: Ofrece funciones avanzadas para trabajar con datos de series temporales, como la resampling y la interpolación.\n",
    "\n",
    "* Entrada y salida de datos: Permite la lectura y escritura de datos en varios formatos, incluyendo CSV, Excel, SQL, y más, facilitando la interoperabilidad con otras herramientas y sistemas."
   ]
  },
  {
   "cell_type": "code",
   "execution_count": 1,
   "id": "2a7a7785",
   "metadata": {},
   "outputs": [
    {
     "name": "stdout",
     "output_type": "stream",
     "text": [
      "1.5.3\n"
     ]
    }
   ],
   "source": [
    "# por convensión, se importa bajo el siguiente nombre\n",
    "\n",
    "import pandas as pd\n",
    "\n",
    "print(pd.__version__)"
   ]
  },
  {
   "cell_type": "markdown",
   "id": "a48eb3aa",
   "metadata": {},
   "source": [
    "***\n",
    "## Series (*pd.Series*)\n",
    "\n",
    "[Documentación de pd.Series](https://pandas.pydata.org/docs/reference/api/pandas.Series.html#pandas.Series)\n",
    "\n",
    "Una pd.Series es una estructura de datos unidimensional que puede almacenar cualquier tipo de datos, como números enteros, números de punto flotante, cadenas, objetos de Python, entre otros. La pd.Series se puede ver como una columna en una hoja de cálculo o una columna en una tabla de base de datos.\n",
    "\n",
    "#### Algunas características:\n",
    "1. Índice: Cada elemento en una Series está asociado a un índice. El índice puede ser automático (números enteros por defecto) o personalizado, lo que permite un acceso más fácil y eficiente a los datos.\n",
    "\n",
    "1. Datos: La Series almacena los datos como un arreglo unidimensional. Puedes acceder a estos datos mediante el índice.\n",
    "\n",
    "1. Etiquetas: Puedes asignar etiquetas a la Series para identificar más fácilmente sus componentes. Esto facilita el acceso y manipulación de datos."
   ]
  },
  {
   "cell_type": "markdown",
   "id": "4c1e606d",
   "metadata": {},
   "source": [
    "### Crear una pd.Series"
   ]
  },
  {
   "cell_type": "code",
   "execution_count": 14,
   "id": "cc5a130b",
   "metadata": {},
   "outputs": [
    {
     "name": "stdout",
     "output_type": "stream",
     "text": [
      "0    1\n",
      "1    2\n",
      "2    3\n",
      "3    4\n",
      "4    5\n",
      "5    6\n",
      "dtype: int64\n",
      "Es una pd.Series --> <class 'pandas.core.series.Series'>\n"
     ]
    }
   ],
   "source": [
    "# para crear una serie se requiere de un conjunto de datos unidimensionales\n",
    "\n",
    "data = [1,2,3,4,5,6]\n",
    "\n",
    "serie = pd.Series(data)\n",
    "\n",
    "print(serie)\n",
    "print('Es una pd.Series -->', type(serie))\n",
    "# como se puede ver, la serie posee dos columnas. La columna ubicada a la izquierda representa el index de la pd.Series; mientras que la restante, los valores de la serie"
   ]
  },
  {
   "cell_type": "code",
   "execution_count": 6,
   "id": "3c339ce6",
   "metadata": {},
   "outputs": [
    {
     "data": {
      "text/plain": [
       "idx_0    0\n",
       "idx_1    1\n",
       "idx_2    2\n",
       "idx_3    3\n",
       "idx_4    4\n",
       "idx_5    5\n",
       "idx_6    6\n",
       "idx_7    7\n",
       "idx_8    8\n",
       "idx_9    9\n",
       "dtype: int64"
      ]
     },
     "execution_count": 6,
     "metadata": {},
     "output_type": "execute_result"
    }
   ],
   "source": [
    "# al crear la pd.Series se puede, además, definir el índice (index) de la misma\n",
    "\n",
    "data = range(10)\n",
    "idx = [f'idx_{i}' for i in range(10)]\n",
    "\n",
    "print(pd.Series(data, index=idx))"
   ]
  },
  {
   "cell_type": "code",
   "execution_count": 8,
   "id": "68437d43",
   "metadata": {},
   "outputs": [
    {
     "name": "stdout",
     "output_type": "stream",
     "text": [
      "id0    0\n",
      "id1    1\n",
      "id2    2\n",
      "dtype: int64\n"
     ]
    }
   ],
   "source": [
    "# las pd.Series también pueden ser creadas a partir de un dict\n",
    "\n",
    "d = {'id0': 0, 'id1': 1, 'id2': 2}\n",
    "\n",
    "print(pd.Series(d))"
   ]
  },
  {
   "cell_type": "markdown",
   "id": "89119464",
   "metadata": {},
   "source": [
    "### Características de la pd.Series"
   ]
  },
  {
   "cell_type": "code",
   "execution_count": 16,
   "id": "52f0848d",
   "metadata": {},
   "outputs": [
    {
     "name": "stdout",
     "output_type": "stream",
     "text": [
      "La serie_1 posee 6 elementos, y sus datos son del tipo int64.\n",
      "La serie_2 posee 5 elementos, y sus datos son del tipo float64.\n",
      "La serie_3 posee 4 elementos, y sus datos son del tipo object.\n",
      "Tamanño serie 1: 6\n"
     ]
    }
   ],
   "source": [
    "# es posible obtener cierta información de la serie bajo análisis\n",
    "\n",
    "serie_1 = pd.Series([1,2,3,4,5,6])\n",
    "serie_2 = pd.Series([0.5, 1.0, 1.5, 2.0, 2.5])\n",
    "serie_3 = pd.Series(['a', 'b', 'c', 'd'])\n",
    "\n",
    "# tamaño de la misma\n",
    "print('La serie_1 posee {} elementos, y sus datos son del tipo {}.'.format(serie_1.shape[0], serie_1.dtypes))\n",
    "print('La serie_2 posee {} elementos, y sus datos son del tipo {}.'.format(serie_2.shape[0], serie_2.dtypes))\n",
    "print('La serie_3 posee {} elementos, y sus datos son del tipo {}.'.format(serie_3.shape[0], serie_3.dtypes))\n",
    "\n",
    "# algo equivalente se puede obtener usando el método 'size'\n",
    "print('Tamanño serie 1: {}.'.format(serie_1.size))\n",
    "\n"
   ]
  },
  {
   "cell_type": "code",
   "execution_count": null,
   "id": "36c3c0ff",
   "metadata": {},
   "outputs": [],
   "source": [
    "# es posible analizar si la serie posee valores nulos\n",
    "\n",
    "serie_1 = pd.Series([1,2,3,4,5,6])\n",
    "serie_2 = pd.Series([1,2,None,4,5,None])\n",
    "\n",
    "# alternativa 1: revisar en forma general si dicha serie posee valores nulos. En caso de que exista al menos uno, devuelve True.\n",
    "print('La serie 1 posee nulos?', serie_1.hasnans)\n",
    "print('La serie 2 posee nulos?', serie_2.hasnans)\n",
    "\n",
    "# alternativa 2: revisar elemento a elemento y devolver un valor True/False en cada posición de la serie\n",
    "\n",
    "print('Elementos nulos en la serie 1', serie_1.isna(), sep='\\n')\n",
    "print('Elementos nulos en la serie 2', serie_2.isna(), sep='\\n')"
   ]
  },
  {
   "cell_type": "code",
   "execution_count": null,
   "id": "117ae144",
   "metadata": {},
   "outputs": [],
   "source": [
    "# cantidad de elementos únicos en la series y cantidad de cada tipo de elemento\n",
    "data = ['auto'] * 10 + ['moto'] * 12 + ['camion'] * 3\n",
    "serie = pd.Series(data)\n",
    "\n",
    "print(f'La serie posee {serie.nunique()} elementos únicos.', f'Los valores únicos son {serie.unique()}.', f'Y se distribuyen de la siguiente forma:', serie.value_counts(normalize=True), sep='\\n')"
   ]
  },
  {
   "cell_type": "code",
   "execution_count": null,
   "id": "42e89c3f",
   "metadata": {},
   "outputs": [],
   "source": [
    "# para visualizar la serie en forma parcial, se usa el método 'head' o 'tail'\n",
    "\n",
    "print(serie.head(5))\n",
    "print(serie.tail(2))"
   ]
  },
  {
   "cell_type": "markdown",
   "id": "54d861b6",
   "metadata": {},
   "source": [
    "***\n",
    "### Operaciones con pd.Series\n",
    "\n",
    "1. Operaciones matemáticas (vectoriales)\n",
    "1. Operaciones estadísticas\n",
    "1. Filtrado y Slicing\n",
    "1. Comparacionbes lógicas\n",
    "1. Interacción con Numpy\n",
    "1. Concatenar\n",
    "1. Relleno de valores faltantes\n",
    "1. Agrupación y operaciones agrupadas\n"
   ]
  },
  {
   "cell_type": "markdown",
   "id": "46be19fb",
   "metadata": {},
   "source": [
    "#### Operaciones matemáticas"
   ]
  },
  {
   "cell_type": "code",
   "execution_count": 34,
   "id": "38c8746b",
   "metadata": {},
   "outputs": [],
   "source": [
    "##### Función Auxiliar para generar data #####\n",
    "import numpy as np\n",
    "\n",
    "rng = np.random.default_rng(9999)\n",
    "\n",
    "data_1 = rng.normal(4, 0.5, size=100)\n",
    "data_2 = rng.exponential(2.5, size=100)\n",
    "data_3 = rng.uniform(0, 50, size=100).astype(int)\n",
    "data_4 = rng.uniform(25, 60, size=100).astype(int)\n",
    "\n",
    "serie_1 = pd.Series(data_1)\n",
    "serie_2 = pd.Series(data_2)\n",
    "serie_3 = pd.Series(data_3)\n",
    "serie_4 = pd.Series(data_4)"
   ]
  },
  {
   "cell_type": "code",
   "execution_count": null,
   "id": "53eda070",
   "metadata": {},
   "outputs": [],
   "source": [
    "# suma, resta, multiplicación y división\n",
    "\n",
    "print('Suma')\n",
    "suma = serie_1 + serie_2\n",
    "print(suma.head())\n",
    "\n",
    "print('Resta')\n",
    "resta = serie_1 - serie_2\n",
    "print(resta.head())\n",
    "\n",
    "print('Multiplicación')\n",
    "mult = serie_1 * serie_2\n",
    "print(mult.head())\n",
    "\n",
    "print('División')\n",
    "div = serie_1 / serie_2\n",
    "print(div.head())\n",
    "\n",
    "print('Suma de un escalar')\n",
    "suma_esc = serie_3 + 10\n",
    "print(suma_esc.head())\n",
    "\n",
    "print('Producto de un escalar')\n",
    "mult_esc = serie_3 * 1.75\n",
    "print(mult_esc.head())\n",
    "\n",
    "print('Potencia')\n",
    "pot = serie_2.pow(2) # equivalente a serie_2**2\n",
    "\n",
    "# todas estas operaciones tiene un método de pandas asociado, pero la sintaxis es más compleja y se obtiene el mismo resultado en el mismo tiempo de cómputo"
   ]
  },
  {
   "cell_type": "markdown",
   "id": "d9f729d0",
   "metadata": {},
   "source": [
    "#### Operaciones estadísticas"
   ]
  },
  {
   "cell_type": "code",
   "execution_count": 60,
   "id": "0e39b875",
   "metadata": {},
   "outputs": [
    {
     "name": "stdout",
     "output_type": "stream",
     "text": [
      "Promedio: 3.9459\n",
      "Desvío: 0.521\n",
      "Percentiles:\n",
      "0.25    3.598423\n",
      "0.50    3.923102\n",
      "0.75    4.258447\n",
      "dtype: float64\n"
     ]
    }
   ],
   "source": [
    "# promedio, desvío y percentiles\n",
    "\n",
    "promedio = serie_1.mean()\n",
    "desvio = serie_1.std()\n",
    "perc = serie_1.quantile([0.25, 0.5, 0.75])\n",
    "\n",
    "print(f'Promedio: {round(promedio, 4)}', f'Desvío: {round(desvio, 4)}', 'Percentiles:', perc, sep='\\n')"
   ]
  },
  {
   "cell_type": "code",
   "execution_count": 62,
   "id": "3521b840",
   "metadata": {},
   "outputs": [
    {
     "name": "stdout",
     "output_type": "stream",
     "text": [
      "Máximo: 59\n",
      "Mínimo: 25\n",
      "Moda: 0    38\n",
      "dtype: int32\n",
      "n_mayores:\n",
      "4     59\n",
      "53    58\n",
      "67    58\n",
      "20    55\n",
      "61    55\n",
      "dtype: int32\n",
      "n_menores\n",
      "1     25\n",
      "6     25\n",
      "89    25\n",
      "63    26\n",
      "15    27\n",
      "dtype: int32\n"
     ]
    }
   ],
   "source": [
    "# máximo, mínimo, moda, n-mayores y n-menores\n",
    "\n",
    "maximo = serie_4.max()\n",
    "minimo = serie_4.min()\n",
    "moda = serie_4.mode()\n",
    "n_mayores = serie_4.nlargest(5)\n",
    "n_menores = serie_4.nsmallest(5)\n",
    "\n",
    "print(f'Máximo: {maximo}', f'Mínimo: {minimo}', f'Moda: {moda}', 'n_mayores:', n_mayores, 'n_menores', n_menores, sep='\\n')"
   ]
  },
  {
   "cell_type": "code",
   "execution_count": null,
   "id": "ab046747",
   "metadata": {},
   "outputs": [],
   "source": [
    "# cumsum, pct_change\n",
    "\n",
    "print('Suma acumulada')\n",
    "suma_acumulada = serie_3.cumsum()\n",
    "display(pd.concat([serie_3, suma_acumulada],axis=1).rename(columns={0:'Original', 1:'Suma Acumulada'}).head(10))\n",
    "\n",
    "print('Porcentaje de cambio')\n",
    "pct = serie_4.pct_change() * 100\n",
    "display(pd.concat([serie_4, pct],axis=1).rename(columns={0:'Original', 1:'% Cambio'}).head(10))\n"
   ]
  },
  {
   "cell_type": "code",
   "execution_count": null,
   "id": "d3f72bc8",
   "metadata": {},
   "outputs": [],
   "source": []
  }
 ],
 "metadata": {
  "kernelspec": {
   "display_name": "Python 3 (ipykernel)",
   "language": "python",
   "name": "python3"
  },
  "language_info": {
   "codemirror_mode": {
    "name": "ipython",
    "version": 3
   },
   "file_extension": ".py",
   "mimetype": "text/x-python",
   "name": "python",
   "nbconvert_exporter": "python",
   "pygments_lexer": "ipython3",
   "version": "3.8.16"
  }
 },
 "nbformat": 4,
 "nbformat_minor": 5
}
