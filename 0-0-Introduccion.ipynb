{
 "cells": [
  {
   "cell_type": "markdown",
   "id": "97395ce1-97ed-4ee5-92f3-92b09402ac02",
   "metadata": {
    "jp-MarkdownHeadingCollapsed": true,
    "tags": []
   },
   "source": [
    "# **🐍 Introducción a Python 🐍**"
   ]
  },
  {
   "cell_type": "markdown",
   "id": "d22fc198-d157-4efc-ba5c-54c997f4bd3c",
   "metadata": {},
   "source": [
    "Python, un lenguaje de programación versátil y dinámico, destaca como un faro de accesibilidad y elegancia en el mundo de la codificación. Reconocido por su sintaxis limpia y diseño intuitivo, Python ha ganado una amplia popularidad tanto entre principiantes como programadores experimentados.\n",
    "\n",
    "**Características Clave:**\n",
    "\n",
    "**1. Legibilidad y Expresividad:** La marca distintiva de Python reside en su estructura de código legible para humanos. Con un uso mínimo de símbolos complejos y organización de bloques basada en la indentación, Python fomenta un código que no solo es fácil de escribir, sino también fácil de comprender. Este énfasis en la claridad promueve la colaboración eficiente y reduce la curva de aprendizaje para los recién llegados.\n",
    "\n",
    "**2. Biblioteca Estándar Integral:** Python viene equipado con una rica biblioteca estándar que abarca una amplia gama de módulos y herramientas. Estas funcionalidades preconstruidas cubren desde el manejo de archivos y la creación de redes hasta la manipulación de datos y las interfaces gráficas de usuario, agilizando el desarrollo y minimizando la necesidad de dependencias externas.\n",
    "\n",
    "**3. Aplicación Multiuso:** Ya sea que estés creando aplicaciones web, realizando análisis de datos, desarrollando modelos de aprendizaje automático, automatizando tareas o adentrándote en la computación científica, Python se adapta sin problemas a varios dominios. Su versatilidad lo convierte en el lenguaje de elección para profesionales en campos que abarcan la academia, la industria y la investigación.\n",
    "\n",
    "**4. Ecosistema de Terceros:** El ecosistema de Python prospera gracias a un sólido repositorio de bibliotecas y marcos de terceros. Bibliotecas como NumPy, pandas, Matplotlib, TensorFlow y Django amplían las capacidades de Python hacia áreas especializadas, permitiendo a los desarrolladores aprovechar herramientas avanzadas con facilidad.\n",
    "\n",
    "**5. Compatibilidad Multiplataforma:** La compatibilidad multiplataforma de Python garantiza que el código escrito en un sistema operativo a menudo pueda ejecutarse sin modificaciones en otro. Esta flexibilidad fomenta la portabilidad del código y minimiza los desafíos de implementación.\n",
    "\n",
    "**6. Comunidad y Soporte:** La comunidad global de Python es una fuerza colaborativa que contribuye a una gran cantidad de tutoriales, foros y recursos. Esta camaradería fomenta el crecimiento, el aprendizaje continuo y la resolución de problemas, convirtiendo a Python en un lenguaje asequible para todos los niveles de programadores.\n",
    "\n",
    "**7. Prototipado Rápido:** La naturaleza interpretada de Python permite ciclos de desarrollo rápidos. Los desarrolladores pueden prototipar ideas y probar conceptos rápidamente, facilitando prácticas de desarrollo ágiles.\n",
    "\n",
    "**8. Filosofía de Código Abierto:** La filosofía de código abierto de Python fomenta la transparencia, la innovación y la participación de la comunidad. Los desarrolladores pueden modificar y distribuir el código fuente de Python libremente, promoviendo un espíritu de aprendizaje y contribución compartida.\n",
    "\n",
    "**9. Paradigma de Objetos Limpio:** El soporte de Python para la programación orientada a objetos simplifica la organización del código y promueve estructuras reutilizables y modulares.\n",
    "\n",
    "Desde principiantes que se embarcan en su viaje de codificación hasta profesionales experimentados que buscan un lenguaje eficiente y expresivo, Python sigue siendo una elección duradera. Su accesibilidad, adaptabilidad y conjunto de herramientas poderosas continúan moldeando el panorama de la programación, convirtiendo a Python en un recurso indispensable en el panorama tecnológico moderno."
   ]
  },
  {
   "cell_type": "markdown",
   "id": "64c9a847-2c3f-4183-a39d-e15e08a3daa8",
   "metadata": {},
   "source": [
    "### Programación Orientada a Objetos - OOP\n",
    "\n",
    "Python es un lenguaje de programación que abraza plenamente el paradigma de la Programación Orientada a Objetos (POO), lo que significa que está diseñado para modelar y estructurar el mundo real en términos de objetos y sus interacciones. La POO es una metodología poderosa que permite crear programas más organizados, modulares y escalables al enfocarse en la representación de objetos que tienen propiedades (atributos) y comportamientos (métodos).\n",
    "\n",
    "En Python, todo es un objeto, desde simples números y cadenas hasta estructuras más complejas como listas y diccionarios. Esto significa que podemos aplicar los conceptos fundamentales de la POO a todas las áreas de nuestro código, lo que conduce a una programación más estructurada y mantenible.\n",
    "\n",
    "**Elementos Clave de la Programación Orientada a Objetos en Python:**\n",
    "\n",
    "1. Clases y Objetos: Una clase es un plano o plantilla para crear objetos. Define las propiedades y métodos que tendrán los objetos creados a partir de ella. Los objetos son las instancias concretas de una clase, cada uno con sus propias características y comportamientos.\n",
    "\n",
    "2. Encapsulación: La encapsulación se refiere a agrupar datos (atributos) y funciones (métodos) relacionadas dentro de una misma entidad (objeto). Esto promueve la ocultación de detalles internos y permite que el objeto ofrezca una interfaz clara para interactuar con el mundo exterior.\n",
    "\n",
    "3. Herencia: La herencia permite la creación de nuevas clases basadas en clases existentes, heredando sus atributos y métodos. Esto fomenta la reutilización de código y la creación de una jerarquía de clases que represente las relaciones entre diferentes tipos de objetos.\n",
    "\n",
    "4. Polimorfismo: El polimorfismo permite que objetos de diferentes clases respondan de manera uniforme a métodos con el mismo nombre. Esto facilita la creación de código genérico y flexible que puede trabajar con diferentes tipos de objetos sin conocer sus detalles internos.\n",
    "\n",
    "**Beneficios de Utilizar POO en Python:**\n",
    "\n",
    "1. Modularidad: La POO divide el código en objetos independientes, lo que facilita la organización y el mantenimiento del programa a medida que crece en tamaño y complejidad.\n",
    "\n",
    "2. Reutilización de Código: La herencia y el polimorfismo permiten aprovechar el código existente en nuevas clases y objetos, reduciendo la duplicación y mejorando la eficiencia del desarrollo.\n",
    "\n",
    "3. Abstracción: La POO permite abstraer la complejidad de los objetos subyacentes, lo que simplifica la interacción con el código y facilita la comprensión de su funcionamiento.\n",
    "\n",
    "4. Flexibilidad: Los conceptos de POO, como la herencia y el polimorfismo, hacen que el código sea más flexible y adaptable a cambios futuros en los requisitos del programa.\n"
   ]
  },
  {
   "cell_type": "markdown",
   "id": "7fbc8f96-d63f-443a-9fdd-6d5244293601",
   "metadata": {},
   "source": [
    "***\n",
    "# Temas\n",
    "\n",
    "1. **Primeros pasos en el lenguaje**\n",
    "1. **Variables**\n",
    "1. **Tipos de Datos**\n",
    "1. **Objetos**\n",
    "1. **Clases, métodos y atributos**"
   ]
  },
  {
   "cell_type": "markdown",
   "id": "a2e887a2-4553-4794-a221-61bc3f533d5e",
   "metadata": {},
   "source": [
    "***\n",
    "## Primeros pasos en el lenguaje"
   ]
  },
  {
   "cell_type": "markdown",
   "id": "1b0b643c-7960-4e5a-9ce3-bbd357d5bdea",
   "metadata": {},
   "source": [
    "### Mostrar lo que hacemos\n",
    "\n",
    "A través del comando ```print``` es posible imprimir en consola el resultado de una operación/proceso realizado."
   ]
  },
  {
   "cell_type": "code",
   "execution_count": 2,
   "id": "43ec38e8-0be8-4550-b2d8-442750953afd",
   "metadata": {},
   "outputs": [
    {
     "name": "stdout",
     "output_type": "stream",
     "text": [
      "Hello World\n"
     ]
    }
   ],
   "source": [
    "print('Hello World')"
   ]
  },
  {
   "cell_type": "markdown",
   "id": "c7d368f2-53cb-4b75-8f5d-4a86df8c5a8e",
   "metadata": {},
   "source": [
    "### Una calculadora potente (?)\n",
    "\n",
    "Python tiene la capacidad de realizar operaciones matemáticas con mucha velocidad."
   ]
  },
  {
   "cell_type": "code",
   "execution_count": 8,
   "id": "5f4a8203-ac33-47ca-8b74-37f489aeb1bf",
   "metadata": {},
   "outputs": [
    {
     "name": "stdout",
     "output_type": "stream",
     "text": [
      "Suma: 10\n",
      "Resta: 7\n",
      "Multiplicación: 30\n",
      "División 13.333333333333334\n",
      "División con resultado entero: 13\n",
      "Resto de una división: 1\n",
      "Operaciones combinadas: 80.0\n"
     ]
    }
   ],
   "source": [
    "print('Suma:', 2+8)\n",
    "\n",
    "print('Resta:', 10-3)\n",
    "\n",
    "print('Multiplicación:', 5*6)\n",
    "\n",
    "print('División', 40/3)\n",
    "\n",
    "print('División con resultado entero:', 40//3)\n",
    "\n",
    "print('Resto de una división:', 40%3)\n",
    "\n",
    "print('Operaciones combinadas:', 25 * 3 + (8 + 7) / 3)"
   ]
  },
  {
   "cell_type": "markdown",
   "id": "6ecf767e-d2e9-492b-aff7-c1db87c09821",
   "metadata": {},
   "source": [
    "Sin embargo, existen algunas operaciones para las cuales es necesario recbir asistencia de la librerías o modulos (posteriormente se procederá a explicarlos)."
   ]
  },
  {
   "cell_type": "code",
   "execution_count": 19,
   "id": "21d4d21d-19b7-4424-bc3d-052f36135e9a",
   "metadata": {},
   "outputs": [],
   "source": [
    "from numpy import cos, sin, log10, power, sqrt, pi, ceil"
   ]
  },
  {
   "cell_type": "code",
   "execution_count": 21,
   "id": "25dd82ff-677b-4368-a163-b2466a821f12",
   "metadata": {},
   "outputs": [
    {
     "name": "stdout",
     "output_type": "stream",
     "text": [
      "cos(pi) = -1.0\n",
      "sin(pi) = 1.2246467991473532e-16\n",
      "log10(pi) = 5.176091259055681\n",
      "20^4 = 160000\n",
      "sqrt(25) = 5.0\n",
      "Operaciones Combinandas 2124.0\n"
     ]
    }
   ],
   "source": [
    "print('cos(pi) =', cos(pi))\n",
    "\n",
    "print('sin(pi) =', sin(pi))\n",
    "\n",
    "print('log10(pi) =', log10(150000))\n",
    "\n",
    "print('20^4 =', power(20, 4))\n",
    "\n",
    "print('sqrt(25) =', sqrt(25))\n",
    "\n",
    "print('Operaciones Combinandas', ceil((power(5, 5) - sqrt(100)) * sin(3/4)))"
   ]
  },
  {
   "cell_type": "markdown",
   "id": "0d28ed8d-90ee-47cf-b0f8-a1ccbb798031",
   "metadata": {},
   "source": [
    "***\n",
    "### Variables"
   ]
  },
  {
   "cell_type": "markdown",
   "id": "934117ee-06f0-4ed3-a7f7-5548d38b0de1",
   "metadata": {},
   "source": [
    "En Python, una variable es un nombre simbólico que se utiliza para almacenar y hacer referencia a un valor en la memoria. Las variables son fundamentales para almacenar datos y manipular información dentro de un programa. Cada variable tiene un nombre único que se utiliza para acceder y modificar su contenido.\n",
    "\n",
    "**Definición de Variable en Python:**\n",
    "Una variable en Python es un identificador que se asocia a un valor. Este valor puede ser de cualquier tipo de dato, como números, cadenas de texto, listas, objetos personalizados, entre otros. Las variables permiten que los programas almacenen y gestionen información de manera dinámica durante su ejecución.\n",
    "\n",
    "**Características Clave de las Variables en Python:**\n",
    "\n",
    "* Nombre Descriptivo: Las variables deben tener nombres descriptivos que indiquen su propósito o contenido. Los nombres de variables son sensibles a mayúsculas y minúsculas.\n",
    "* Asignación de Valor: Una variable se crea asignándole un valor utilizando el operador de asignación =. Por ejemplo: x = 10 asigna el valor 10 a la variable x.\n",
    "* Tipos Dinámicos: A diferencia de algunos lenguajes de programación, Python es un lenguaje de tipado dinámico. Esto significa que el tipo de datos de una variable es determinado automáticamente por el valor que contiene en tiempo de ejecución.\n",
    "* Reasignación: Puedes reasignar el valor de una variable en cualquier momento simplemente asignando un nuevo valor a su nombre. Por ejemplo: x = 20 cambia el valor de x a 20.\n",
    "* Referencia a Memoria: Las variables en Python son referencias a ubicaciones en la memoria donde se almacenan los valores. Esto puede llevar a comportamientos interesantes al manipular objetos mutables."
   ]
  },
  {
   "cell_type": "code",
   "execution_count": 22,
   "id": "811f9f2e-c727-476a-839a-eadea12b3e1b",
   "metadata": {},
   "outputs": [
    {
     "name": "stdout",
     "output_type": "stream",
     "text": [
      "Nombre: Ana\n",
      "Edad: 26\n",
      "Saldo de cuenta: 1500.5\n"
     ]
    }
   ],
   "source": [
    "# Definición y asignación de variables\n",
    "nombre = \"Ana\"\n",
    "edad = 25\n",
    "saldo_cuenta = 1500.50\n",
    "\n",
    "# Reasignación de variable\n",
    "edad = edad + 1\n",
    "\n",
    "# Impresión de variables\n",
    "print(\"Nombre:\", nombre)\n",
    "print(\"Edad:\", edad)\n",
    "print(\"Saldo de cuenta:\", saldo_cuenta)"
   ]
  },
  {
   "cell_type": "code",
   "execution_count": 23,
   "id": "bbf43ede-45dd-45fa-bbd1-cb0889937a93",
   "metadata": {},
   "outputs": [
    {
     "name": "stdout",
     "output_type": "stream",
     "text": [
      "El total de la compra fue 3900 pesos y fueron 5 kilos de fruta.\n"
     ]
    }
   ],
   "source": [
    "naranjas=2\n",
    "manzanas=2\n",
    "uvas = 1\n",
    "\n",
    "p_naranjas, p_manzanas, p_uvas = 300, 750, 1800\n",
    "\n",
    "total_naranjas = naranjas * p_naranjas\n",
    "total_manzanas = manzanas * p_manzanas\n",
    "total_uvas = uvas * p_uvas\n",
    "\n",
    "total = total_manzanas+total_naranjas+total_uvas\n",
    "kilos =  naranjas + manzanas + uvas\n",
    "\n",
    "print(\"El total de la compra fue {} pesos y fueron {} kilos de fruta.\".format(total, kilos))"
   ]
  },
  {
   "cell_type": "markdown",
   "id": "8c53e99a-588e-43eb-8609-c632068e2f7d",
   "metadata": {},
   "source": [
    "***\n",
    "### Tipos de Datos\n",
    "\n",
    "En Python, existen múltiples tipos de datos. Cada uno de ellos tiene comportamientos específicos y propiedad únicas.\\\n",
    "\n",
    "A través del comando ```type``` es posible visualizar a que tipo de dato pertence cada variable."
   ]
  },
  {
   "cell_type": "code",
   "execution_count": 25,
   "id": "09e3719b-5410-48fc-ab6d-8e10c1f94470",
   "metadata": {},
   "outputs": [
    {
     "data": {
      "text/plain": [
       "str"
      ]
     },
     "execution_count": 25,
     "metadata": {},
     "output_type": "execute_result"
    }
   ],
   "source": [
    "string = 'Gauss'\n",
    "type(string)  # es cualquier texto"
   ]
  },
  {
   "cell_type": "code",
   "execution_count": 35,
   "id": "a777c716-caf7-495c-97bf-00dc04dc84dc",
   "metadata": {},
   "outputs": [
    {
     "data": {
      "text/plain": [
       "int"
      ]
     },
     "execution_count": 35,
     "metadata": {},
     "output_type": "execute_result"
    }
   ],
   "source": [
    "integer = 12\n",
    "type(integer)  # es un número entero"
   ]
  },
  {
   "cell_type": "code",
   "execution_count": 32,
   "id": "55d0aec7-d823-4346-b71c-9f17921d774a",
   "metadata": {},
   "outputs": [
    {
     "data": {
      "text/plain": [
       "float"
      ]
     },
     "execution_count": 32,
     "metadata": {},
     "output_type": "execute_result"
    }
   ],
   "source": [
    "float_ = 16.5\n",
    "type(float_)  # es un número con decimales"
   ]
  },
  {
   "cell_type": "code",
   "execution_count": 26,
   "id": "557fa938-08f5-4b7d-9e9a-7e00cacb2b0f",
   "metadata": {},
   "outputs": [
    {
     "data": {
      "text/plain": [
       "bool"
      ]
     },
     "execution_count": 26,
     "metadata": {},
     "output_type": "execute_result"
    }
   ],
   "source": [
    "boolean = True  # o False\n",
    "type(boolean)"
   ]
  },
  {
   "cell_type": "markdown",
   "id": "47b64625-ab69-4569-8a7e-89a6d4fdfceb",
   "metadata": {},
   "source": [
    "**¿ Qué diferencia encuentra entre los siguiente resultados de código y los anteriores?**"
   ]
  },
  {
   "cell_type": "code",
   "execution_count": 36,
   "id": "fca80c1f-1af8-45b6-88fe-312700dfaa91",
   "metadata": {},
   "outputs": [
    {
     "name": "stdout",
     "output_type": "stream",
     "text": [
      "<class 'str'>\n",
      "<class 'int'>\n",
      "<class 'float'>\n",
      "<class 'bool'>\n"
     ]
    }
   ],
   "source": [
    "print(type(string))\n",
    "\n",
    "print(type(integer))\n",
    "\n",
    "print(type(float_))\n",
    "\n",
    "print(type(boolean))"
   ]
  },
  {
   "cell_type": "markdown",
   "id": "f542e9a4-16be-4de6-89d0-a67047e1f2a1",
   "metadata": {},
   "source": [
    "Al utilizar el comando ```print``` es posible ver que el resultado aparece de forma ligeramente distinta. De ello se desprenden dos preguntas: \n",
    "1. **¿Qué es una *class* (o *clase*)?**\n",
    "1. **Cómo se relaciona con nuestro curso?**"
   ]
  },
  {
   "cell_type": "markdown",
   "id": "c1ca7446-65e7-40af-8ebf-997a36d2b470",
   "metadata": {},
   "source": [
    "1. Una clase es un tipo de estructura que define la estructura y el comportamiento de un objeto. Una clase es como un plano o plantilla que describe las propiedades y métodos que los objetos creados a partir de ella tendrán. En otras palabras, una clase define cómo deben ser los objetos y qué pueden hacer.\\\n",
    "Es un bloque de código que encapsula datos (atributos) y funciones (métodos) relacionadas en una entidad única. Los atributos representan las características del objeto, mientras que los métodos son las acciones que el objeto puede realizar.\n",
    "\n",
    "1. Dado que todo objeto existente en Python pertenece a una clase, se vuelve de extrema necesidad comprender las nociones básicas de las mismas.\n",
    "\n",
    "Por el momento no se ahondará el tema en forma puntual: lo importante es enteder que cada tipo de objeto es parte de una clase diferente y, por ende, su compartamiento e interacciones será disimiles entre distintos objetos."
   ]
  },
  {
   "cell_type": "markdown",
   "id": "b07b45bf-dda9-44b7-a4a6-0fa57e52ff57",
   "metadata": {},
   "source": [
    "* Ejemplo 1:"
   ]
  },
  {
   "cell_type": "code",
   "execution_count": null,
   "id": "d79a8a18-98c1-49a5-9139-92a0ffaea869",
   "metadata": {},
   "outputs": [],
   "source": [
    "str1 = 'Homero'\n",
    "str2 = 'Marge'\n",
    "\n",
    "int1 = 40\n",
    "int2 = 36\n",
    "\n",
    "print(str1 + str2) # se concatenan\n",
    "\n",
    "print(int1 + int2) # se suman\n",
    "\n",
    "print(str1 + int1) # falla la operación"
   ]
  },
  {
   "cell_type": "markdown",
   "id": "f068ad15-b020-4f83-aa75-a3a72639df13",
   "metadata": {},
   "source": [
    "* Ejemplo 2:"
   ]
  },
  {
   "cell_type": "code",
   "execution_count": null,
   "id": "92d17f92-9690-42f0-aac4-46f3ac642e2d",
   "metadata": {},
   "outputs": [],
   "source": [
    "print(str1.upper(), str1.lower(), str2.isdigit())\n",
    "\n",
    "print(int1.upper(), int1.lower(), int1.isdigit()) # no poseen los mismos atributos/métodos"
   ]
  }
 ],
 "metadata": {
  "kernelspec": {
   "display_name": "Python 3 (ipykernel)",
   "language": "python",
   "name": "python3"
  },
  "language_info": {
   "codemirror_mode": {
    "name": "ipython",
    "version": 3
   },
   "file_extension": ".py",
   "mimetype": "text/x-python",
   "name": "python",
   "nbconvert_exporter": "python",
   "pygments_lexer": "ipython3",
   "version": "3.8.16"
  },
  "toc-autonumbering": false
 },
 "nbformat": 4,
 "nbformat_minor": 5
}
